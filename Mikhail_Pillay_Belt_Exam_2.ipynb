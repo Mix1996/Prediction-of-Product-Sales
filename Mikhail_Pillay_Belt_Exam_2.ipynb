{
  "nbformat": 4,
  "nbformat_minor": 0,
  "metadata": {
    "colab": {
      "provenance": [],
      "authorship_tag": "ABX9TyMD0m9M3frLzViKJeDGgOg0",
      "include_colab_link": true
    },
    "kernelspec": {
      "name": "python3",
      "display_name": "Python 3"
    },
    "language_info": {
      "name": "python"
    }
  },
  "cells": [
    {
      "cell_type": "markdown",
      "metadata": {
        "id": "view-in-github",
        "colab_type": "text"
      },
      "source": [
        "<a href=\"https://colab.research.google.com/github/Mix1996/Prediction-of-Product-Sales/blob/main/Mikhail_Pillay_Belt_Exam_2.ipynb\" target=\"_parent\"><img src=\"https://colab.research.google.com/assets/colab-badge.svg\" alt=\"Open In Colab\"/></a>"
      ]
    },
    {
      "cell_type": "markdown",
      "source": [
        "# Belt Exam\n",
        "Name: Mikhail Pillay"
      ],
      "metadata": {
        "id": "8GDTx7Ykg-RJ"
      }
    },
    {
      "cell_type": "markdown",
      "source": [
        "## Import Libraries"
      ],
      "metadata": {
        "id": "YTGcwc0Nj8vy"
      }
    },
    {
      "cell_type": "code",
      "source": [
        "# Pandas\n",
        "import pandas as pd\n",
        "# Numpy\n",
        "import numpy as np\n",
        "# MatplotLib\n",
        "import matplotlib.pyplot as plt\n",
        "\n",
        "# Preprocessing\n",
        "from sklearn.model_selection import train_test_split, GridSearchCV\n",
        "from sklearn.compose import make_column_selector\n",
        "from sklearn.preprocessing import StandardScaler, OrdinalEncoder\n",
        "from sklearn.pipeline import make_pipeline\n",
        "from sklearn.compose import make_column_transformer\n",
        "from sklearn.impute import SimpleImputer\n",
        "\n",
        "# Models\n",
        "from sklearn.neighbors import KNeighborsClassifier\n",
        "from sklearn.tree import DecisionTreeClassifier\n",
        "from sklearn.linear_model import LogisticRegression, LinearRegression\n",
        "\n",
        "# Classification Metrics\n",
        "\n",
        "from sklearn.metrics import (roc_auc_score, ConfusionMatrixDisplay,\n",
        "                             PrecisionRecallDisplay, RocCurveDisplay,\n",
        "                             f1_score, accuracy_score, precision_score,\n",
        "                             recall_score, classification_report)\n",
        "\n",
        "# Set global scikit-learn configuration\n",
        "from sklearn import set_config\n",
        "# Display estimators as a diagram\n",
        "set_config(display='diagram') # 'text' or 'diagram'}"
      ],
      "metadata": {
        "id": "TZIWq1E1j7qM"
      },
      "execution_count": 376,
      "outputs": []
    },
    {
      "cell_type": "markdown",
      "source": [
        "## **Data Dictionary**"
      ],
      "metadata": {
        "id": "EkyScsQYhKnn"
      }
    },
    {
      "cell_type": "code",
      "execution_count": 377,
      "metadata": {
        "colab": {
          "base_uri": "https://localhost:8080/",
          "height": 206
        },
        "id": "7CcYQd01gEUP",
        "outputId": "11251113-5a76-494d-c796-5d5f43e16e29"
      },
      "outputs": [
        {
          "output_type": "execute_result",
          "data": {
            "text/plain": [
              "    Age Gender      BP Cholesterol Na_to_K   Drug\n",
              "0  59.0      M    High        HIGH  13.935  drugQ\n",
              "1  40.0      F  Normal        HIGH  10.103  drugZ\n",
              "2   NaN      M  Normal        HIGH   9.084  drugZ\n",
              "3  62.0      M  Normal        HIGH  16.594  drugZ\n",
              "4  55.0      F    High      NORMAL  10.977  drugQ"
            ],
            "text/html": [
              "\n",
              "  <div id=\"df-8c11cc7f-0d7d-4cbe-9904-abed7eb351ab\" class=\"colab-df-container\">\n",
              "    <div>\n",
              "<style scoped>\n",
              "    .dataframe tbody tr th:only-of-type {\n",
              "        vertical-align: middle;\n",
              "    }\n",
              "\n",
              "    .dataframe tbody tr th {\n",
              "        vertical-align: top;\n",
              "    }\n",
              "\n",
              "    .dataframe thead th {\n",
              "        text-align: right;\n",
              "    }\n",
              "</style>\n",
              "<table border=\"1\" class=\"dataframe\">\n",
              "  <thead>\n",
              "    <tr style=\"text-align: right;\">\n",
              "      <th></th>\n",
              "      <th>Age</th>\n",
              "      <th>Gender</th>\n",
              "      <th>BP</th>\n",
              "      <th>Cholesterol</th>\n",
              "      <th>Na_to_K</th>\n",
              "      <th>Drug</th>\n",
              "    </tr>\n",
              "  </thead>\n",
              "  <tbody>\n",
              "    <tr>\n",
              "      <th>0</th>\n",
              "      <td>59.0</td>\n",
              "      <td>M</td>\n",
              "      <td>High</td>\n",
              "      <td>HIGH</td>\n",
              "      <td>13.935</td>\n",
              "      <td>drugQ</td>\n",
              "    </tr>\n",
              "    <tr>\n",
              "      <th>1</th>\n",
              "      <td>40.0</td>\n",
              "      <td>F</td>\n",
              "      <td>Normal</td>\n",
              "      <td>HIGH</td>\n",
              "      <td>10.103</td>\n",
              "      <td>drugZ</td>\n",
              "    </tr>\n",
              "    <tr>\n",
              "      <th>2</th>\n",
              "      <td>NaN</td>\n",
              "      <td>M</td>\n",
              "      <td>Normal</td>\n",
              "      <td>HIGH</td>\n",
              "      <td>9.084</td>\n",
              "      <td>drugZ</td>\n",
              "    </tr>\n",
              "    <tr>\n",
              "      <th>3</th>\n",
              "      <td>62.0</td>\n",
              "      <td>M</td>\n",
              "      <td>Normal</td>\n",
              "      <td>HIGH</td>\n",
              "      <td>16.594</td>\n",
              "      <td>drugZ</td>\n",
              "    </tr>\n",
              "    <tr>\n",
              "      <th>4</th>\n",
              "      <td>55.0</td>\n",
              "      <td>F</td>\n",
              "      <td>High</td>\n",
              "      <td>NORMAL</td>\n",
              "      <td>10.977</td>\n",
              "      <td>drugQ</td>\n",
              "    </tr>\n",
              "  </tbody>\n",
              "</table>\n",
              "</div>\n",
              "    <div class=\"colab-df-buttons\">\n",
              "\n",
              "  <div class=\"colab-df-container\">\n",
              "    <button class=\"colab-df-convert\" onclick=\"convertToInteractive('df-8c11cc7f-0d7d-4cbe-9904-abed7eb351ab')\"\n",
              "            title=\"Convert this dataframe to an interactive table.\"\n",
              "            style=\"display:none;\">\n",
              "\n",
              "  <svg xmlns=\"http://www.w3.org/2000/svg\" height=\"24px\" viewBox=\"0 -960 960 960\">\n",
              "    <path d=\"M120-120v-720h720v720H120Zm60-500h600v-160H180v160Zm220 220h160v-160H400v160Zm0 220h160v-160H400v160ZM180-400h160v-160H180v160Zm440 0h160v-160H620v160ZM180-180h160v-160H180v160Zm440 0h160v-160H620v160Z\"/>\n",
              "  </svg>\n",
              "    </button>\n",
              "\n",
              "  <style>\n",
              "    .colab-df-container {\n",
              "      display:flex;\n",
              "      gap: 12px;\n",
              "    }\n",
              "\n",
              "    .colab-df-convert {\n",
              "      background-color: #E8F0FE;\n",
              "      border: none;\n",
              "      border-radius: 50%;\n",
              "      cursor: pointer;\n",
              "      display: none;\n",
              "      fill: #1967D2;\n",
              "      height: 32px;\n",
              "      padding: 0 0 0 0;\n",
              "      width: 32px;\n",
              "    }\n",
              "\n",
              "    .colab-df-convert:hover {\n",
              "      background-color: #E2EBFA;\n",
              "      box-shadow: 0px 1px 2px rgba(60, 64, 67, 0.3), 0px 1px 3px 1px rgba(60, 64, 67, 0.15);\n",
              "      fill: #174EA6;\n",
              "    }\n",
              "\n",
              "    .colab-df-buttons div {\n",
              "      margin-bottom: 4px;\n",
              "    }\n",
              "\n",
              "    [theme=dark] .colab-df-convert {\n",
              "      background-color: #3B4455;\n",
              "      fill: #D2E3FC;\n",
              "    }\n",
              "\n",
              "    [theme=dark] .colab-df-convert:hover {\n",
              "      background-color: #434B5C;\n",
              "      box-shadow: 0px 1px 3px 1px rgba(0, 0, 0, 0.15);\n",
              "      filter: drop-shadow(0px 1px 2px rgba(0, 0, 0, 0.3));\n",
              "      fill: #FFFFFF;\n",
              "    }\n",
              "  </style>\n",
              "\n",
              "    <script>\n",
              "      const buttonEl =\n",
              "        document.querySelector('#df-8c11cc7f-0d7d-4cbe-9904-abed7eb351ab button.colab-df-convert');\n",
              "      buttonEl.style.display =\n",
              "        google.colab.kernel.accessAllowed ? 'block' : 'none';\n",
              "\n",
              "      async function convertToInteractive(key) {\n",
              "        const element = document.querySelector('#df-8c11cc7f-0d7d-4cbe-9904-abed7eb351ab');\n",
              "        const dataTable =\n",
              "          await google.colab.kernel.invokeFunction('convertToInteractive',\n",
              "                                                    [key], {});\n",
              "        if (!dataTable) return;\n",
              "\n",
              "        const docLinkHtml = 'Like what you see? Visit the ' +\n",
              "          '<a target=\"_blank\" href=https://colab.research.google.com/notebooks/data_table.ipynb>data table notebook</a>'\n",
              "          + ' to learn more about interactive tables.';\n",
              "        element.innerHTML = '';\n",
              "        dataTable['output_type'] = 'display_data';\n",
              "        await google.colab.output.renderOutput(dataTable, element);\n",
              "        const docLink = document.createElement('div');\n",
              "        docLink.innerHTML = docLinkHtml;\n",
              "        element.appendChild(docLink);\n",
              "      }\n",
              "    </script>\n",
              "  </div>\n",
              "\n",
              "\n",
              "<div id=\"df-e827e995-425a-4831-b9de-668032a4c92d\">\n",
              "  <button class=\"colab-df-quickchart\" onclick=\"quickchart('df-e827e995-425a-4831-b9de-668032a4c92d')\"\n",
              "            title=\"Suggest charts.\"\n",
              "            style=\"display:none;\">\n",
              "\n",
              "<svg xmlns=\"http://www.w3.org/2000/svg\" height=\"24px\"viewBox=\"0 0 24 24\"\n",
              "     width=\"24px\">\n",
              "    <g>\n",
              "        <path d=\"M19 3H5c-1.1 0-2 .9-2 2v14c0 1.1.9 2 2 2h14c1.1 0 2-.9 2-2V5c0-1.1-.9-2-2-2zM9 17H7v-7h2v7zm4 0h-2V7h2v10zm4 0h-2v-4h2v4z\"/>\n",
              "    </g>\n",
              "</svg>\n",
              "  </button>\n",
              "\n",
              "<style>\n",
              "  .colab-df-quickchart {\n",
              "      --bg-color: #E8F0FE;\n",
              "      --fill-color: #1967D2;\n",
              "      --hover-bg-color: #E2EBFA;\n",
              "      --hover-fill-color: #174EA6;\n",
              "      --disabled-fill-color: #AAA;\n",
              "      --disabled-bg-color: #DDD;\n",
              "  }\n",
              "\n",
              "  [theme=dark] .colab-df-quickchart {\n",
              "      --bg-color: #3B4455;\n",
              "      --fill-color: #D2E3FC;\n",
              "      --hover-bg-color: #434B5C;\n",
              "      --hover-fill-color: #FFFFFF;\n",
              "      --disabled-bg-color: #3B4455;\n",
              "      --disabled-fill-color: #666;\n",
              "  }\n",
              "\n",
              "  .colab-df-quickchart {\n",
              "    background-color: var(--bg-color);\n",
              "    border: none;\n",
              "    border-radius: 50%;\n",
              "    cursor: pointer;\n",
              "    display: none;\n",
              "    fill: var(--fill-color);\n",
              "    height: 32px;\n",
              "    padding: 0;\n",
              "    width: 32px;\n",
              "  }\n",
              "\n",
              "  .colab-df-quickchart:hover {\n",
              "    background-color: var(--hover-bg-color);\n",
              "    box-shadow: 0 1px 2px rgba(60, 64, 67, 0.3), 0 1px 3px 1px rgba(60, 64, 67, 0.15);\n",
              "    fill: var(--button-hover-fill-color);\n",
              "  }\n",
              "\n",
              "  .colab-df-quickchart-complete:disabled,\n",
              "  .colab-df-quickchart-complete:disabled:hover {\n",
              "    background-color: var(--disabled-bg-color);\n",
              "    fill: var(--disabled-fill-color);\n",
              "    box-shadow: none;\n",
              "  }\n",
              "\n",
              "  .colab-df-spinner {\n",
              "    border: 2px solid var(--fill-color);\n",
              "    border-color: transparent;\n",
              "    border-bottom-color: var(--fill-color);\n",
              "    animation:\n",
              "      spin 1s steps(1) infinite;\n",
              "  }\n",
              "\n",
              "  @keyframes spin {\n",
              "    0% {\n",
              "      border-color: transparent;\n",
              "      border-bottom-color: var(--fill-color);\n",
              "      border-left-color: var(--fill-color);\n",
              "    }\n",
              "    20% {\n",
              "      border-color: transparent;\n",
              "      border-left-color: var(--fill-color);\n",
              "      border-top-color: var(--fill-color);\n",
              "    }\n",
              "    30% {\n",
              "      border-color: transparent;\n",
              "      border-left-color: var(--fill-color);\n",
              "      border-top-color: var(--fill-color);\n",
              "      border-right-color: var(--fill-color);\n",
              "    }\n",
              "    40% {\n",
              "      border-color: transparent;\n",
              "      border-right-color: var(--fill-color);\n",
              "      border-top-color: var(--fill-color);\n",
              "    }\n",
              "    60% {\n",
              "      border-color: transparent;\n",
              "      border-right-color: var(--fill-color);\n",
              "    }\n",
              "    80% {\n",
              "      border-color: transparent;\n",
              "      border-right-color: var(--fill-color);\n",
              "      border-bottom-color: var(--fill-color);\n",
              "    }\n",
              "    90% {\n",
              "      border-color: transparent;\n",
              "      border-bottom-color: var(--fill-color);\n",
              "    }\n",
              "  }\n",
              "</style>\n",
              "\n",
              "  <script>\n",
              "    async function quickchart(key) {\n",
              "      const quickchartButtonEl =\n",
              "        document.querySelector('#' + key + ' button');\n",
              "      quickchartButtonEl.disabled = true;  // To prevent multiple clicks.\n",
              "      quickchartButtonEl.classList.add('colab-df-spinner');\n",
              "      try {\n",
              "        const charts = await google.colab.kernel.invokeFunction(\n",
              "            'suggestCharts', [key], {});\n",
              "      } catch (error) {\n",
              "        console.error('Error during call to suggestCharts:', error);\n",
              "      }\n",
              "      quickchartButtonEl.classList.remove('colab-df-spinner');\n",
              "      quickchartButtonEl.classList.add('colab-df-quickchart-complete');\n",
              "    }\n",
              "    (() => {\n",
              "      let quickchartButtonEl =\n",
              "        document.querySelector('#df-e827e995-425a-4831-b9de-668032a4c92d button');\n",
              "      quickchartButtonEl.style.display =\n",
              "        google.colab.kernel.accessAllowed ? 'block' : 'none';\n",
              "    })();\n",
              "  </script>\n",
              "</div>\n",
              "    </div>\n",
              "  </div>\n"
            ]
          },
          "metadata": {},
          "execution_count": 377
        }
      ],
      "source": [
        "# Load the data\n",
        "dataset =\"https://docs.google.com/spreadsheets/d/e/2PACX-1vS1dPoQOoqwI17yqZAjAiuSgNoY16lMRUFzDMfaLs9IVb0IQFxxNHOvBJ0HO_NBiM9fNsussKkrx2bO/pub?output=csv\"\n",
        "df = pd.read_csv(dataset)\n",
        "df.head()"
      ]
    },
    {
      "cell_type": "code",
      "source": [
        "# Display the number of rows and columns for the dataframe\n",
        "df.shape\n",
        "print(f'There are {df.shape[0]} rows, and {df.shape[1]} columns.')\n",
        "print(f'The rows represent {df.shape[0]} observations, and the columns represent {df.shape[1]-1} features and 1 target variable.')"
      ],
      "metadata": {
        "colab": {
          "base_uri": "https://localhost:8080/"
        },
        "id": "BtAr3ebDrIz5",
        "outputId": "59574113-a3ba-4fec-cf55-938d096c6047"
      },
      "execution_count": 378,
      "outputs": [
        {
          "output_type": "stream",
          "name": "stdout",
          "text": [
            "There are 296 rows, and 6 columns.\n",
            "The rows represent 296 observations, and the columns represent 5 features and 1 target variable.\n"
          ]
        }
      ]
    },
    {
      "cell_type": "code",
      "source": [
        "# Display the column names, count of non-null values, and their datatypes\n",
        "df.info()"
      ],
      "metadata": {
        "colab": {
          "base_uri": "https://localhost:8080/"
        },
        "id": "DKokkNFCrcRQ",
        "outputId": "64e7530c-8a5e-49cb-a5e2-ae58da4723f4"
      },
      "execution_count": 379,
      "outputs": [
        {
          "output_type": "stream",
          "name": "stdout",
          "text": [
            "<class 'pandas.core.frame.DataFrame'>\n",
            "RangeIndex: 296 entries, 0 to 295\n",
            "Data columns (total 6 columns):\n",
            " #   Column       Non-Null Count  Dtype  \n",
            "---  ------       --------------  -----  \n",
            " 0   Age          237 non-null    float64\n",
            " 1   Gender       296 non-null    object \n",
            " 2   BP           221 non-null    object \n",
            " 3   Cholesterol  296 non-null    object \n",
            " 4   Na_to_K      296 non-null    object \n",
            " 5   Drug         296 non-null    object \n",
            "dtypes: float64(1), object(5)\n",
            "memory usage: 14.0+ KB\n"
          ]
        }
      ]
    },
    {
      "cell_type": "markdown",
      "source": [
        "## **Clean the Data**"
      ],
      "metadata": {
        "id": "aSqf5O0erkpj"
      }
    },
    {
      "cell_type": "markdown",
      "source": [
        "###Remove Unecessary Rows"
      ],
      "metadata": {
        "id": "cvE0Ba8esj72"
      }
    },
    {
      "cell_type": "code",
      "source": [
        "# Display the number of duplicate rows in the dataset\n",
        "print(f'There are {df.duplicated().sum()} duplicate rows.')"
      ],
      "metadata": {
        "colab": {
          "base_uri": "https://localhost:8080/"
        },
        "id": "jyYcUDLdsfya",
        "outputId": "8856527a-2d09-4aad-f0ef-5e9bc65ec0a0"
      },
      "execution_count": 380,
      "outputs": [
        {
          "output_type": "stream",
          "name": "stdout",
          "text": [
            "There are 15 duplicate rows.\n"
          ]
        }
      ]
    },
    {
      "cell_type": "code",
      "source": [
        "# Drop duplicte rows\n",
        "df.drop_duplicates(inplace=True)"
      ],
      "metadata": {
        "id": "Eb8c0fnOrh8h"
      },
      "execution_count": 381,
      "outputs": []
    },
    {
      "cell_type": "markdown",
      "source": [
        "### **Missing Values**"
      ],
      "metadata": {
        "id": "C95nEn0Lxonh"
      }
    },
    {
      "cell_type": "code",
      "source": [
        "# Display the total number of missing values\n",
        "print(f'There are {df.isna().sum().sum()} missing values.')"
      ],
      "metadata": {
        "colab": {
          "base_uri": "https://localhost:8080/"
        },
        "id": "sTGO07yxxpQd",
        "outputId": "34680fac-1d43-461c-d51a-09950839d1cb"
      },
      "execution_count": 382,
      "outputs": [
        {
          "output_type": "stream",
          "name": "stdout",
          "text": [
            "There are 129 missing values.\n"
          ]
        }
      ]
    },
    {
      "cell_type": "code",
      "source": [
        "# Check for missing values. You should produce an output that shows the number of missing values for each feature.\n",
        "df.isna().sum()"
      ],
      "metadata": {
        "colab": {
          "base_uri": "https://localhost:8080/"
        },
        "id": "WXILX8CpxuIt",
        "outputId": "e393a951-92fe-4f3b-d29e-dbd18386e9b1"
      },
      "execution_count": 383,
      "outputs": [
        {
          "output_type": "execute_result",
          "data": {
            "text/plain": [
              "Age            54\n",
              "Gender          0\n",
              "BP             75\n",
              "Cholesterol     0\n",
              "Na_to_K         0\n",
              "Drug            0\n",
              "dtype: int64"
            ]
          },
          "metadata": {},
          "execution_count": 383
        }
      ]
    },
    {
      "cell_type": "code",
      "source": [
        "# Check for and address any impossible values in numeric columns.\n",
        "df.describe(include='number')"
      ],
      "metadata": {
        "colab": {
          "base_uri": "https://localhost:8080/",
          "height": 300
        },
        "id": "-JlFprOSx1mh",
        "outputId": "a171cc7e-e883-4b8c-d965-0d250c946bb2"
      },
      "execution_count": 384,
      "outputs": [
        {
          "output_type": "execute_result",
          "data": {
            "text/plain": [
              "              Age\n",
              "count  227.000000\n",
              "mean    47.475771\n",
              "std     38.359652\n",
              "min     15.000000\n",
              "25%     32.000000\n",
              "50%     45.000000\n",
              "75%     59.000000\n",
              "max    570.000000"
            ],
            "text/html": [
              "\n",
              "  <div id=\"df-9952f566-9d45-4b23-bcd1-0204fa0b538d\" class=\"colab-df-container\">\n",
              "    <div>\n",
              "<style scoped>\n",
              "    .dataframe tbody tr th:only-of-type {\n",
              "        vertical-align: middle;\n",
              "    }\n",
              "\n",
              "    .dataframe tbody tr th {\n",
              "        vertical-align: top;\n",
              "    }\n",
              "\n",
              "    .dataframe thead th {\n",
              "        text-align: right;\n",
              "    }\n",
              "</style>\n",
              "<table border=\"1\" class=\"dataframe\">\n",
              "  <thead>\n",
              "    <tr style=\"text-align: right;\">\n",
              "      <th></th>\n",
              "      <th>Age</th>\n",
              "    </tr>\n",
              "  </thead>\n",
              "  <tbody>\n",
              "    <tr>\n",
              "      <th>count</th>\n",
              "      <td>227.000000</td>\n",
              "    </tr>\n",
              "    <tr>\n",
              "      <th>mean</th>\n",
              "      <td>47.475771</td>\n",
              "    </tr>\n",
              "    <tr>\n",
              "      <th>std</th>\n",
              "      <td>38.359652</td>\n",
              "    </tr>\n",
              "    <tr>\n",
              "      <th>min</th>\n",
              "      <td>15.000000</td>\n",
              "    </tr>\n",
              "    <tr>\n",
              "      <th>25%</th>\n",
              "      <td>32.000000</td>\n",
              "    </tr>\n",
              "    <tr>\n",
              "      <th>50%</th>\n",
              "      <td>45.000000</td>\n",
              "    </tr>\n",
              "    <tr>\n",
              "      <th>75%</th>\n",
              "      <td>59.000000</td>\n",
              "    </tr>\n",
              "    <tr>\n",
              "      <th>max</th>\n",
              "      <td>570.000000</td>\n",
              "    </tr>\n",
              "  </tbody>\n",
              "</table>\n",
              "</div>\n",
              "    <div class=\"colab-df-buttons\">\n",
              "\n",
              "  <div class=\"colab-df-container\">\n",
              "    <button class=\"colab-df-convert\" onclick=\"convertToInteractive('df-9952f566-9d45-4b23-bcd1-0204fa0b538d')\"\n",
              "            title=\"Convert this dataframe to an interactive table.\"\n",
              "            style=\"display:none;\">\n",
              "\n",
              "  <svg xmlns=\"http://www.w3.org/2000/svg\" height=\"24px\" viewBox=\"0 -960 960 960\">\n",
              "    <path d=\"M120-120v-720h720v720H120Zm60-500h600v-160H180v160Zm220 220h160v-160H400v160Zm0 220h160v-160H400v160ZM180-400h160v-160H180v160Zm440 0h160v-160H620v160ZM180-180h160v-160H180v160Zm440 0h160v-160H620v160Z\"/>\n",
              "  </svg>\n",
              "    </button>\n",
              "\n",
              "  <style>\n",
              "    .colab-df-container {\n",
              "      display:flex;\n",
              "      gap: 12px;\n",
              "    }\n",
              "\n",
              "    .colab-df-convert {\n",
              "      background-color: #E8F0FE;\n",
              "      border: none;\n",
              "      border-radius: 50%;\n",
              "      cursor: pointer;\n",
              "      display: none;\n",
              "      fill: #1967D2;\n",
              "      height: 32px;\n",
              "      padding: 0 0 0 0;\n",
              "      width: 32px;\n",
              "    }\n",
              "\n",
              "    .colab-df-convert:hover {\n",
              "      background-color: #E2EBFA;\n",
              "      box-shadow: 0px 1px 2px rgba(60, 64, 67, 0.3), 0px 1px 3px 1px rgba(60, 64, 67, 0.15);\n",
              "      fill: #174EA6;\n",
              "    }\n",
              "\n",
              "    .colab-df-buttons div {\n",
              "      margin-bottom: 4px;\n",
              "    }\n",
              "\n",
              "    [theme=dark] .colab-df-convert {\n",
              "      background-color: #3B4455;\n",
              "      fill: #D2E3FC;\n",
              "    }\n",
              "\n",
              "    [theme=dark] .colab-df-convert:hover {\n",
              "      background-color: #434B5C;\n",
              "      box-shadow: 0px 1px 3px 1px rgba(0, 0, 0, 0.15);\n",
              "      filter: drop-shadow(0px 1px 2px rgba(0, 0, 0, 0.3));\n",
              "      fill: #FFFFFF;\n",
              "    }\n",
              "  </style>\n",
              "\n",
              "    <script>\n",
              "      const buttonEl =\n",
              "        document.querySelector('#df-9952f566-9d45-4b23-bcd1-0204fa0b538d button.colab-df-convert');\n",
              "      buttonEl.style.display =\n",
              "        google.colab.kernel.accessAllowed ? 'block' : 'none';\n",
              "\n",
              "      async function convertToInteractive(key) {\n",
              "        const element = document.querySelector('#df-9952f566-9d45-4b23-bcd1-0204fa0b538d');\n",
              "        const dataTable =\n",
              "          await google.colab.kernel.invokeFunction('convertToInteractive',\n",
              "                                                    [key], {});\n",
              "        if (!dataTable) return;\n",
              "\n",
              "        const docLinkHtml = 'Like what you see? Visit the ' +\n",
              "          '<a target=\"_blank\" href=https://colab.research.google.com/notebooks/data_table.ipynb>data table notebook</a>'\n",
              "          + ' to learn more about interactive tables.';\n",
              "        element.innerHTML = '';\n",
              "        dataTable['output_type'] = 'display_data';\n",
              "        await google.colab.output.renderOutput(dataTable, element);\n",
              "        const docLink = document.createElement('div');\n",
              "        docLink.innerHTML = docLinkHtml;\n",
              "        element.appendChild(docLink);\n",
              "      }\n",
              "    </script>\n",
              "  </div>\n",
              "\n",
              "\n",
              "<div id=\"df-4f784768-2e6e-40ee-a28b-ff626e1f33b4\">\n",
              "  <button class=\"colab-df-quickchart\" onclick=\"quickchart('df-4f784768-2e6e-40ee-a28b-ff626e1f33b4')\"\n",
              "            title=\"Suggest charts.\"\n",
              "            style=\"display:none;\">\n",
              "\n",
              "<svg xmlns=\"http://www.w3.org/2000/svg\" height=\"24px\"viewBox=\"0 0 24 24\"\n",
              "     width=\"24px\">\n",
              "    <g>\n",
              "        <path d=\"M19 3H5c-1.1 0-2 .9-2 2v14c0 1.1.9 2 2 2h14c1.1 0 2-.9 2-2V5c0-1.1-.9-2-2-2zM9 17H7v-7h2v7zm4 0h-2V7h2v10zm4 0h-2v-4h2v4z\"/>\n",
              "    </g>\n",
              "</svg>\n",
              "  </button>\n",
              "\n",
              "<style>\n",
              "  .colab-df-quickchart {\n",
              "      --bg-color: #E8F0FE;\n",
              "      --fill-color: #1967D2;\n",
              "      --hover-bg-color: #E2EBFA;\n",
              "      --hover-fill-color: #174EA6;\n",
              "      --disabled-fill-color: #AAA;\n",
              "      --disabled-bg-color: #DDD;\n",
              "  }\n",
              "\n",
              "  [theme=dark] .colab-df-quickchart {\n",
              "      --bg-color: #3B4455;\n",
              "      --fill-color: #D2E3FC;\n",
              "      --hover-bg-color: #434B5C;\n",
              "      --hover-fill-color: #FFFFFF;\n",
              "      --disabled-bg-color: #3B4455;\n",
              "      --disabled-fill-color: #666;\n",
              "  }\n",
              "\n",
              "  .colab-df-quickchart {\n",
              "    background-color: var(--bg-color);\n",
              "    border: none;\n",
              "    border-radius: 50%;\n",
              "    cursor: pointer;\n",
              "    display: none;\n",
              "    fill: var(--fill-color);\n",
              "    height: 32px;\n",
              "    padding: 0;\n",
              "    width: 32px;\n",
              "  }\n",
              "\n",
              "  .colab-df-quickchart:hover {\n",
              "    background-color: var(--hover-bg-color);\n",
              "    box-shadow: 0 1px 2px rgba(60, 64, 67, 0.3), 0 1px 3px 1px rgba(60, 64, 67, 0.15);\n",
              "    fill: var(--button-hover-fill-color);\n",
              "  }\n",
              "\n",
              "  .colab-df-quickchart-complete:disabled,\n",
              "  .colab-df-quickchart-complete:disabled:hover {\n",
              "    background-color: var(--disabled-bg-color);\n",
              "    fill: var(--disabled-fill-color);\n",
              "    box-shadow: none;\n",
              "  }\n",
              "\n",
              "  .colab-df-spinner {\n",
              "    border: 2px solid var(--fill-color);\n",
              "    border-color: transparent;\n",
              "    border-bottom-color: var(--fill-color);\n",
              "    animation:\n",
              "      spin 1s steps(1) infinite;\n",
              "  }\n",
              "\n",
              "  @keyframes spin {\n",
              "    0% {\n",
              "      border-color: transparent;\n",
              "      border-bottom-color: var(--fill-color);\n",
              "      border-left-color: var(--fill-color);\n",
              "    }\n",
              "    20% {\n",
              "      border-color: transparent;\n",
              "      border-left-color: var(--fill-color);\n",
              "      border-top-color: var(--fill-color);\n",
              "    }\n",
              "    30% {\n",
              "      border-color: transparent;\n",
              "      border-left-color: var(--fill-color);\n",
              "      border-top-color: var(--fill-color);\n",
              "      border-right-color: var(--fill-color);\n",
              "    }\n",
              "    40% {\n",
              "      border-color: transparent;\n",
              "      border-right-color: var(--fill-color);\n",
              "      border-top-color: var(--fill-color);\n",
              "    }\n",
              "    60% {\n",
              "      border-color: transparent;\n",
              "      border-right-color: var(--fill-color);\n",
              "    }\n",
              "    80% {\n",
              "      border-color: transparent;\n",
              "      border-right-color: var(--fill-color);\n",
              "      border-bottom-color: var(--fill-color);\n",
              "    }\n",
              "    90% {\n",
              "      border-color: transparent;\n",
              "      border-bottom-color: var(--fill-color);\n",
              "    }\n",
              "  }\n",
              "</style>\n",
              "\n",
              "  <script>\n",
              "    async function quickchart(key) {\n",
              "      const quickchartButtonEl =\n",
              "        document.querySelector('#' + key + ' button');\n",
              "      quickchartButtonEl.disabled = true;  // To prevent multiple clicks.\n",
              "      quickchartButtonEl.classList.add('colab-df-spinner');\n",
              "      try {\n",
              "        const charts = await google.colab.kernel.invokeFunction(\n",
              "            'suggestCharts', [key], {});\n",
              "      } catch (error) {\n",
              "        console.error('Error during call to suggestCharts:', error);\n",
              "      }\n",
              "      quickchartButtonEl.classList.remove('colab-df-spinner');\n",
              "      quickchartButtonEl.classList.add('colab-df-quickchart-complete');\n",
              "    }\n",
              "    (() => {\n",
              "      let quickchartButtonEl =\n",
              "        document.querySelector('#df-4f784768-2e6e-40ee-a28b-ff626e1f33b4 button');\n",
              "      quickchartButtonEl.style.display =\n",
              "        google.colab.kernel.accessAllowed ? 'block' : 'none';\n",
              "    })();\n",
              "  </script>\n",
              "</div>\n",
              "    </div>\n",
              "  </div>\n"
            ]
          },
          "metadata": {},
          "execution_count": 384
        }
      ]
    },
    {
      "cell_type": "code",
      "source": [
        "# Check for and address any inconsistent values in categorical columns.\n",
        "\n",
        "df.describe(include='object')"
      ],
      "metadata": {
        "colab": {
          "base_uri": "https://localhost:8080/",
          "height": 175
        },
        "id": "11cu3126x5FH",
        "outputId": "3fde8349-65d8-470a-ea26-0861c5a051c6"
      },
      "execution_count": 385,
      "outputs": [
        {
          "output_type": "execute_result",
          "data": {
            "text/plain": [
              "       Gender    BP Cholesterol Na_to_K   Drug\n",
              "count     281   206         281     281    281\n",
              "unique      8     3           5     183      2\n",
              "top         M  High        HIGH  12.766  drugZ\n",
              "freq      140   128         145       7    147"
            ],
            "text/html": [
              "\n",
              "  <div id=\"df-ba015556-8402-43f3-b2f0-12602b6d7595\" class=\"colab-df-container\">\n",
              "    <div>\n",
              "<style scoped>\n",
              "    .dataframe tbody tr th:only-of-type {\n",
              "        vertical-align: middle;\n",
              "    }\n",
              "\n",
              "    .dataframe tbody tr th {\n",
              "        vertical-align: top;\n",
              "    }\n",
              "\n",
              "    .dataframe thead th {\n",
              "        text-align: right;\n",
              "    }\n",
              "</style>\n",
              "<table border=\"1\" class=\"dataframe\">\n",
              "  <thead>\n",
              "    <tr style=\"text-align: right;\">\n",
              "      <th></th>\n",
              "      <th>Gender</th>\n",
              "      <th>BP</th>\n",
              "      <th>Cholesterol</th>\n",
              "      <th>Na_to_K</th>\n",
              "      <th>Drug</th>\n",
              "    </tr>\n",
              "  </thead>\n",
              "  <tbody>\n",
              "    <tr>\n",
              "      <th>count</th>\n",
              "      <td>281</td>\n",
              "      <td>206</td>\n",
              "      <td>281</td>\n",
              "      <td>281</td>\n",
              "      <td>281</td>\n",
              "    </tr>\n",
              "    <tr>\n",
              "      <th>unique</th>\n",
              "      <td>8</td>\n",
              "      <td>3</td>\n",
              "      <td>5</td>\n",
              "      <td>183</td>\n",
              "      <td>2</td>\n",
              "    </tr>\n",
              "    <tr>\n",
              "      <th>top</th>\n",
              "      <td>M</td>\n",
              "      <td>High</td>\n",
              "      <td>HIGH</td>\n",
              "      <td>12.766</td>\n",
              "      <td>drugZ</td>\n",
              "    </tr>\n",
              "    <tr>\n",
              "      <th>freq</th>\n",
              "      <td>140</td>\n",
              "      <td>128</td>\n",
              "      <td>145</td>\n",
              "      <td>7</td>\n",
              "      <td>147</td>\n",
              "    </tr>\n",
              "  </tbody>\n",
              "</table>\n",
              "</div>\n",
              "    <div class=\"colab-df-buttons\">\n",
              "\n",
              "  <div class=\"colab-df-container\">\n",
              "    <button class=\"colab-df-convert\" onclick=\"convertToInteractive('df-ba015556-8402-43f3-b2f0-12602b6d7595')\"\n",
              "            title=\"Convert this dataframe to an interactive table.\"\n",
              "            style=\"display:none;\">\n",
              "\n",
              "  <svg xmlns=\"http://www.w3.org/2000/svg\" height=\"24px\" viewBox=\"0 -960 960 960\">\n",
              "    <path d=\"M120-120v-720h720v720H120Zm60-500h600v-160H180v160Zm220 220h160v-160H400v160Zm0 220h160v-160H400v160ZM180-400h160v-160H180v160Zm440 0h160v-160H620v160ZM180-180h160v-160H180v160Zm440 0h160v-160H620v160Z\"/>\n",
              "  </svg>\n",
              "    </button>\n",
              "\n",
              "  <style>\n",
              "    .colab-df-container {\n",
              "      display:flex;\n",
              "      gap: 12px;\n",
              "    }\n",
              "\n",
              "    .colab-df-convert {\n",
              "      background-color: #E8F0FE;\n",
              "      border: none;\n",
              "      border-radius: 50%;\n",
              "      cursor: pointer;\n",
              "      display: none;\n",
              "      fill: #1967D2;\n",
              "      height: 32px;\n",
              "      padding: 0 0 0 0;\n",
              "      width: 32px;\n",
              "    }\n",
              "\n",
              "    .colab-df-convert:hover {\n",
              "      background-color: #E2EBFA;\n",
              "      box-shadow: 0px 1px 2px rgba(60, 64, 67, 0.3), 0px 1px 3px 1px rgba(60, 64, 67, 0.15);\n",
              "      fill: #174EA6;\n",
              "    }\n",
              "\n",
              "    .colab-df-buttons div {\n",
              "      margin-bottom: 4px;\n",
              "    }\n",
              "\n",
              "    [theme=dark] .colab-df-convert {\n",
              "      background-color: #3B4455;\n",
              "      fill: #D2E3FC;\n",
              "    }\n",
              "\n",
              "    [theme=dark] .colab-df-convert:hover {\n",
              "      background-color: #434B5C;\n",
              "      box-shadow: 0px 1px 3px 1px rgba(0, 0, 0, 0.15);\n",
              "      filter: drop-shadow(0px 1px 2px rgba(0, 0, 0, 0.3));\n",
              "      fill: #FFFFFF;\n",
              "    }\n",
              "  </style>\n",
              "\n",
              "    <script>\n",
              "      const buttonEl =\n",
              "        document.querySelector('#df-ba015556-8402-43f3-b2f0-12602b6d7595 button.colab-df-convert');\n",
              "      buttonEl.style.display =\n",
              "        google.colab.kernel.accessAllowed ? 'block' : 'none';\n",
              "\n",
              "      async function convertToInteractive(key) {\n",
              "        const element = document.querySelector('#df-ba015556-8402-43f3-b2f0-12602b6d7595');\n",
              "        const dataTable =\n",
              "          await google.colab.kernel.invokeFunction('convertToInteractive',\n",
              "                                                    [key], {});\n",
              "        if (!dataTable) return;\n",
              "\n",
              "        const docLinkHtml = 'Like what you see? Visit the ' +\n",
              "          '<a target=\"_blank\" href=https://colab.research.google.com/notebooks/data_table.ipynb>data table notebook</a>'\n",
              "          + ' to learn more about interactive tables.';\n",
              "        element.innerHTML = '';\n",
              "        dataTable['output_type'] = 'display_data';\n",
              "        await google.colab.output.renderOutput(dataTable, element);\n",
              "        const docLink = document.createElement('div');\n",
              "        docLink.innerHTML = docLinkHtml;\n",
              "        element.appendChild(docLink);\n",
              "      }\n",
              "    </script>\n",
              "  </div>\n",
              "\n",
              "\n",
              "<div id=\"df-5895b2c0-93fe-4eb0-af85-21e2674ba0ce\">\n",
              "  <button class=\"colab-df-quickchart\" onclick=\"quickchart('df-5895b2c0-93fe-4eb0-af85-21e2674ba0ce')\"\n",
              "            title=\"Suggest charts.\"\n",
              "            style=\"display:none;\">\n",
              "\n",
              "<svg xmlns=\"http://www.w3.org/2000/svg\" height=\"24px\"viewBox=\"0 0 24 24\"\n",
              "     width=\"24px\">\n",
              "    <g>\n",
              "        <path d=\"M19 3H5c-1.1 0-2 .9-2 2v14c0 1.1.9 2 2 2h14c1.1 0 2-.9 2-2V5c0-1.1-.9-2-2-2zM9 17H7v-7h2v7zm4 0h-2V7h2v10zm4 0h-2v-4h2v4z\"/>\n",
              "    </g>\n",
              "</svg>\n",
              "  </button>\n",
              "\n",
              "<style>\n",
              "  .colab-df-quickchart {\n",
              "      --bg-color: #E8F0FE;\n",
              "      --fill-color: #1967D2;\n",
              "      --hover-bg-color: #E2EBFA;\n",
              "      --hover-fill-color: #174EA6;\n",
              "      --disabled-fill-color: #AAA;\n",
              "      --disabled-bg-color: #DDD;\n",
              "  }\n",
              "\n",
              "  [theme=dark] .colab-df-quickchart {\n",
              "      --bg-color: #3B4455;\n",
              "      --fill-color: #D2E3FC;\n",
              "      --hover-bg-color: #434B5C;\n",
              "      --hover-fill-color: #FFFFFF;\n",
              "      --disabled-bg-color: #3B4455;\n",
              "      --disabled-fill-color: #666;\n",
              "  }\n",
              "\n",
              "  .colab-df-quickchart {\n",
              "    background-color: var(--bg-color);\n",
              "    border: none;\n",
              "    border-radius: 50%;\n",
              "    cursor: pointer;\n",
              "    display: none;\n",
              "    fill: var(--fill-color);\n",
              "    height: 32px;\n",
              "    padding: 0;\n",
              "    width: 32px;\n",
              "  }\n",
              "\n",
              "  .colab-df-quickchart:hover {\n",
              "    background-color: var(--hover-bg-color);\n",
              "    box-shadow: 0 1px 2px rgba(60, 64, 67, 0.3), 0 1px 3px 1px rgba(60, 64, 67, 0.15);\n",
              "    fill: var(--button-hover-fill-color);\n",
              "  }\n",
              "\n",
              "  .colab-df-quickchart-complete:disabled,\n",
              "  .colab-df-quickchart-complete:disabled:hover {\n",
              "    background-color: var(--disabled-bg-color);\n",
              "    fill: var(--disabled-fill-color);\n",
              "    box-shadow: none;\n",
              "  }\n",
              "\n",
              "  .colab-df-spinner {\n",
              "    border: 2px solid var(--fill-color);\n",
              "    border-color: transparent;\n",
              "    border-bottom-color: var(--fill-color);\n",
              "    animation:\n",
              "      spin 1s steps(1) infinite;\n",
              "  }\n",
              "\n",
              "  @keyframes spin {\n",
              "    0% {\n",
              "      border-color: transparent;\n",
              "      border-bottom-color: var(--fill-color);\n",
              "      border-left-color: var(--fill-color);\n",
              "    }\n",
              "    20% {\n",
              "      border-color: transparent;\n",
              "      border-left-color: var(--fill-color);\n",
              "      border-top-color: var(--fill-color);\n",
              "    }\n",
              "    30% {\n",
              "      border-color: transparent;\n",
              "      border-left-color: var(--fill-color);\n",
              "      border-top-color: var(--fill-color);\n",
              "      border-right-color: var(--fill-color);\n",
              "    }\n",
              "    40% {\n",
              "      border-color: transparent;\n",
              "      border-right-color: var(--fill-color);\n",
              "      border-top-color: var(--fill-color);\n",
              "    }\n",
              "    60% {\n",
              "      border-color: transparent;\n",
              "      border-right-color: var(--fill-color);\n",
              "    }\n",
              "    80% {\n",
              "      border-color: transparent;\n",
              "      border-right-color: var(--fill-color);\n",
              "      border-bottom-color: var(--fill-color);\n",
              "    }\n",
              "    90% {\n",
              "      border-color: transparent;\n",
              "      border-bottom-color: var(--fill-color);\n",
              "    }\n",
              "  }\n",
              "</style>\n",
              "\n",
              "  <script>\n",
              "    async function quickchart(key) {\n",
              "      const quickchartButtonEl =\n",
              "        document.querySelector('#' + key + ' button');\n",
              "      quickchartButtonEl.disabled = true;  // To prevent multiple clicks.\n",
              "      quickchartButtonEl.classList.add('colab-df-spinner');\n",
              "      try {\n",
              "        const charts = await google.colab.kernel.invokeFunction(\n",
              "            'suggestCharts', [key], {});\n",
              "      } catch (error) {\n",
              "        console.error('Error during call to suggestCharts:', error);\n",
              "      }\n",
              "      quickchartButtonEl.classList.remove('colab-df-spinner');\n",
              "      quickchartButtonEl.classList.add('colab-df-quickchart-complete');\n",
              "    }\n",
              "    (() => {\n",
              "      let quickchartButtonEl =\n",
              "        document.querySelector('#df-5895b2c0-93fe-4eb0-af85-21e2674ba0ce button');\n",
              "      quickchartButtonEl.style.display =\n",
              "        google.colab.kernel.accessAllowed ? 'block' : 'none';\n",
              "    })();\n",
              "  </script>\n",
              "</div>\n",
              "    </div>\n",
              "  </div>\n"
            ]
          },
          "metadata": {},
          "execution_count": 385
        }
      ]
    },
    {
      "cell_type": "code",
      "source": [
        "# Checking for discrepancies in categorical data column 'Gender'\n",
        "df['Gender'].value_counts()"
      ],
      "metadata": {
        "colab": {
          "base_uri": "https://localhost:8080/"
        },
        "id": "PCAmpVAux-jS",
        "outputId": "5e6f6ec2-efbf-41c1-ec2f-f7aac6fb4bea"
      },
      "execution_count": 386,
      "outputs": [
        {
          "output_type": "execute_result",
          "data": {
            "text/plain": [
              "M         140\n",
              "F         131\n",
              "male        4\n",
              "female      2\n",
              "Female      1\n",
              "Male        1\n",
              "femal       1\n",
              "Femal       1\n",
              "Name: Gender, dtype: int64"
            ]
          },
          "metadata": {},
          "execution_count": 386
        }
      ]
    },
    {
      "cell_type": "code",
      "source": [
        "# Fixing discrepancies\n",
        "df['Gender'].replace({\"male\":\"M\", \"female\":\"F\", \"Male\":\"M\",\"Female\":\"F\", \"femal\":\"F\", \"Femal\":\"F\"}, inplace = True)\n",
        "df['Gender'].value_counts()"
      ],
      "metadata": {
        "colab": {
          "base_uri": "https://localhost:8080/"
        },
        "id": "rCMEXXcqyEHo",
        "outputId": "3e396272-f395-45ef-9d14-85a89f46e444"
      },
      "execution_count": 387,
      "outputs": [
        {
          "output_type": "execute_result",
          "data": {
            "text/plain": [
              "M    145\n",
              "F    136\n",
              "Name: Gender, dtype: int64"
            ]
          },
          "metadata": {},
          "execution_count": 387
        }
      ]
    },
    {
      "cell_type": "code",
      "source": [
        "# Checking for discrepancies in categorical data column 'BP'\n",
        "df['BP'].value_counts()"
      ],
      "metadata": {
        "colab": {
          "base_uri": "https://localhost:8080/"
        },
        "id": "TRDDMX73ymE7",
        "outputId": "b514a577-ffe0-4464-919b-881c7d2bb222"
      },
      "execution_count": 388,
      "outputs": [
        {
          "output_type": "execute_result",
          "data": {
            "text/plain": [
              "High      128\n",
              "Normal     46\n",
              "Low        32\n",
              "Name: BP, dtype: int64"
            ]
          },
          "metadata": {},
          "execution_count": 388
        }
      ]
    },
    {
      "cell_type": "code",
      "source": [
        "# Checking for discrepancies in categorical data column 'Cholesterol'\n",
        "df['Cholesterol'].value_counts()"
      ],
      "metadata": {
        "colab": {
          "base_uri": "https://localhost:8080/"
        },
        "id": "z7pmR8Ccyv_y",
        "outputId": "226f2144-32c9-4899-c2cf-d13d448c1ebb"
      },
      "execution_count": 389,
      "outputs": [
        {
          "output_type": "execute_result",
          "data": {
            "text/plain": [
              "HIGH      145\n",
              "NORMAL    114\n",
              "norm        9\n",
              "high        7\n",
              "NORM        6\n",
              "Name: Cholesterol, dtype: int64"
            ]
          },
          "metadata": {},
          "execution_count": 389
        }
      ]
    },
    {
      "cell_type": "code",
      "source": [
        "# Fixing discrepancies\n",
        "df['Cholesterol'].replace({\"norm\":\"NORMAL\", \"NORM\":\"NORMAL\", \"high\":\"HIGH\"}, inplace = True)\n",
        "df['Cholesterol'].value_counts()"
      ],
      "metadata": {
        "colab": {
          "base_uri": "https://localhost:8080/"
        },
        "id": "fQPb3zXty6fb",
        "outputId": "763340be-8c12-4b09-84be-dd07e4614820"
      },
      "execution_count": 390,
      "outputs": [
        {
          "output_type": "execute_result",
          "data": {
            "text/plain": [
              "HIGH      152\n",
              "NORMAL    129\n",
              "Name: Cholesterol, dtype: int64"
            ]
          },
          "metadata": {},
          "execution_count": 390
        }
      ]
    },
    {
      "cell_type": "code",
      "source": [
        "# Checking for discrepancies in categorical data column 'Na_to_K'\n",
        "df['Na_to_K'].value_counts()"
      ],
      "metadata": {
        "colab": {
          "base_uri": "https://localhost:8080/"
        },
        "id": "L-l29TCtzXTi",
        "outputId": "f059cd57-d93f-4477-ae88-6a5d46b3caf9"
      },
      "execution_count": 391,
      "outputs": [
        {
          "output_type": "execute_result",
          "data": {
            "text/plain": [
              "12.766    7\n",
              "12.307    6\n",
              "11.009    6\n",
              "11.198    6\n",
              "12.854    6\n",
              "         ..\n",
              "8.107     1\n",
              "10.443    1\n",
              "11.455    1\n",
              "16.347    1\n",
              "12.879    1\n",
              "Name: Na_to_K, Length: 183, dtype: int64"
            ]
          },
          "metadata": {},
          "execution_count": 391
        }
      ]
    },
    {
      "cell_type": "code",
      "source": [
        "# Clean the 'Na_to_K' column by removing non-numeric characters\n",
        "df['Na_to_K'] = df['Na_to_K'].str.replace('_', '', regex=False)"
      ],
      "metadata": {
        "id": "AMgXH_M00rWy"
      },
      "execution_count": 392,
      "outputs": []
    },
    {
      "cell_type": "code",
      "source": [
        "# Convert 'Na_to_K' to float\n",
        "df['Na_to_K'] = df['Na_to_K'].astype(float)"
      ],
      "metadata": {
        "id": "hNf5VBbU1wgn"
      },
      "execution_count": 393,
      "outputs": []
    },
    {
      "cell_type": "code",
      "source": [
        "# Checking for discrepancies in categorical data column 'Cholesterol'\n",
        "df['Drug'].value_counts()"
      ],
      "metadata": {
        "colab": {
          "base_uri": "https://localhost:8080/"
        },
        "id": "CDLNIJnb27Cc",
        "outputId": "f3696e2a-c473-4317-bb16-87450fa7d635"
      },
      "execution_count": 394,
      "outputs": [
        {
          "output_type": "execute_result",
          "data": {
            "text/plain": [
              "drugZ    147\n",
              "drugQ    134\n",
              "Name: Drug, dtype: int64"
            ]
          },
          "metadata": {},
          "execution_count": 394
        }
      ]
    },
    {
      "cell_type": "code",
      "source": [
        "df.info()"
      ],
      "metadata": {
        "colab": {
          "base_uri": "https://localhost:8080/"
        },
        "id": "KzpsMTp712RG",
        "outputId": "ba119e4d-fe93-411b-fc48-0891ea625d2b"
      },
      "execution_count": 395,
      "outputs": [
        {
          "output_type": "stream",
          "name": "stdout",
          "text": [
            "<class 'pandas.core.frame.DataFrame'>\n",
            "Int64Index: 281 entries, 0 to 295\n",
            "Data columns (total 6 columns):\n",
            " #   Column       Non-Null Count  Dtype  \n",
            "---  ------       --------------  -----  \n",
            " 0   Age          227 non-null    float64\n",
            " 1   Gender       281 non-null    object \n",
            " 2   BP           206 non-null    object \n",
            " 3   Cholesterol  281 non-null    object \n",
            " 4   Na_to_K      281 non-null    float64\n",
            " 5   Drug         281 non-null    object \n",
            "dtypes: float64(2), object(4)\n",
            "memory usage: 15.4+ KB\n"
          ]
        }
      ]
    },
    {
      "cell_type": "code",
      "source": [
        "# Data Exploration and Cleaning\n",
        "\n",
        "# Check for missing values and impute them\n",
        "missing_values = df.isnull().sum()\n",
        "print(\"Missing Values:\\n\", missing_values)\n",
        "\n",
        "# Impute missing values based on your chosen strategy\n",
        "# Use median imputation for numeric columns and mode imputation for categorical columns.\n",
        "median_age = df['Age'].median()\n",
        "df['Age'].fillna(median_age, inplace=True)\n",
        "\n",
        "mode_gender = df['Gender'].mode()[0]\n",
        "df['Gender'].fillna(mode_gender, inplace=True)\n",
        "\n",
        "mode_bp = df['BP'].mode()[0]\n",
        "df['BP'].fillna(mode_bp, inplace=True)\n",
        "\n",
        "mode_cholesterol = df['Cholesterol'].mode()[0]\n",
        "df['Cholesterol'].fillna(mode_cholesterol, inplace=True)\n",
        "\n",
        "median_na_to_k = df['Na_to_K'].median()\n",
        "df['Na_to_K'].fillna(median_na_to_k, inplace=True)\n",
        "\n",
        "# Check for inconsistent values in categorical columns\n",
        "# Assuming Gender, BP, and Cholesterol have inconsistent values\n",
        "# Apply lowercase and strip leading/trailing whitespaces for consistency\n",
        "df['Gender'] = df['Gender'].str.lower().str.strip()\n",
        "df['BP'] = df['BP'].str.lower().str.strip()\n",
        "df['Cholesterol'] = df['Cholesterol'].str.lower().str.strip()\n",
        "\n",
        "# Check for impossible values in numeric columns (Age, Na_to_K)\n",
        "# Define reasonable value ranges and filter out rows with impossible values\n",
        "data = df[(df['Age'] >= 0) & (df['Age'] <= 120)]  # Example age range\n",
        "data = data[(data['Na_to_K'] > 0)]  # Assuming Na_to_K should be strictly positive\n",
        "\n",
        "# Display the cleaned dataset\n",
        "print(\"Cleaned Dataset:\\n\", data.head())\n"
      ],
      "metadata": {
        "colab": {
          "base_uri": "https://localhost:8080/"
        },
        "id": "OILMUEqA2QqB",
        "outputId": "51e74b26-0aa4-4e21-a89f-3330a515c295"
      },
      "execution_count": 396,
      "outputs": [
        {
          "output_type": "stream",
          "name": "stdout",
          "text": [
            "Missing Values:\n",
            " Age            54\n",
            "Gender          0\n",
            "BP             75\n",
            "Cholesterol     0\n",
            "Na_to_K         0\n",
            "Drug            0\n",
            "dtype: int64\n",
            "Cleaned Dataset:\n",
            "     Age Gender      BP Cholesterol  Na_to_K   Drug\n",
            "0  59.0      m    high        high   13.935  drugQ\n",
            "1  40.0      f  normal        high   10.103  drugZ\n",
            "2  45.0      m  normal        high    9.084  drugZ\n",
            "3  62.0      m  normal        high   16.594  drugZ\n",
            "4  55.0      f    high      normal   10.977  drugQ\n"
          ]
        }
      ]
    },
    {
      "cell_type": "markdown",
      "source": [
        "## **Explore the data**"
      ],
      "metadata": {
        "id": "t-uulyttxhvF"
      }
    },
    {
      "cell_type": "code",
      "source": [
        "# Visualization 1: Box Plot of Age by Drug\n",
        "plt.figure(figsize=(8, 6))\n",
        "sns.boxplot(data=data, x='Drug', y='Age')\n",
        "plt.xlabel('Drug')\n",
        "plt.ylabel('Age')\n",
        "plt.title('Distribution of Age by Drug')\n",
        "plt.show()"
      ],
      "metadata": {
        "colab": {
          "base_uri": "https://localhost:8080/",
          "height": 564
        },
        "id": "xlw0rxTO30xC",
        "outputId": "290d23db-2e2c-4de2-f363-4e79adc2a618"
      },
      "execution_count": 397,
      "outputs": [
        {
          "output_type": "display_data",
          "data": {
            "text/plain": [
              "<Figure size 800x600 with 1 Axes>"
            ],
            "image/png": "[encoded data removed]"
          },
          "metadata": {}
        }
      ]
    },
    {
      "cell_type": "markdown",
      "source": [
        "This visualization shows the distribution of ages for different drug types. It tells us that 'drugZ' tends to be prescribed to younger patients, while 'drugQ' is prescribed to patients across a slightly higer age range. 'drugQ' and 'drugZ' has a relatively similar median age."
      ],
      "metadata": {
        "id": "mF2Fbom33-Fd"
      }
    },
    {
      "cell_type": "code",
      "source": [
        "# Visualization 2: Count Plot of Drug Types\n",
        "plt.figure(figsize=(6, 4))\n",
        "sns.countplot(data=data, x='Drug')\n",
        "plt.xlabel('Drug Type')\n",
        "plt.ylabel('Count')\n",
        "plt.title('Distribution of Drug Types')\n",
        "plt.show()"
      ],
      "metadata": {
        "colab": {
          "base_uri": "https://localhost:8080/",
          "height": 410
        },
        "id": "FycxLqWg4cRO",
        "outputId": "f13b850f-7a58-439c-bbd7-6765630b53db"
      },
      "execution_count": 486,
      "outputs": [
        {
          "output_type": "display_data",
          "data": {
            "text/plain": [
              "<Figure size 600x400 with 1 Axes>"
            ],
            "image/png": "[encoded data removed]"
          },
          "metadata": {}
        }
      ]
    },
    {
      "cell_type": "markdown",
      "source": [
        "This count plot displays the distribution of different drug types in the dataset. It tells us that 'drugZ' appears to be the most commonly prescribed drug, while 'drugY' is the least common among the given data points. This visualization provides an overview of the distribution of drug types in the dataset."
      ],
      "metadata": {
        "id": "PbnBRZjb5jsE"
      }
    },
    {
      "cell_type": "markdown",
      "source": [
        "## **Model Validation Data Split**"
      ],
      "metadata": {
        "id": "2UqHF3LE6fg_"
      }
    },
    {
      "cell_type": "code",
      "source": [
        "# Create a copy of the dataset for Modeling\n",
        "df_ml = df.copy()"
      ],
      "metadata": {
        "id": "rhspTb7S6cuq"
      },
      "execution_count": 399,
      "outputs": []
    },
    {
      "cell_type": "code",
      "source": [
        "# Check how many samples of each class are present\n",
        "df_ml['Drug'].value_counts(normalize=False)"
      ],
      "metadata": {
        "colab": {
          "base_uri": "https://localhost:8080/"
        },
        "id": "gWGOlYWY6kxD",
        "outputId": "0d157999-27f2-4e13-a646-296f57ecfed9"
      },
      "execution_count": 400,
      "outputs": [
        {
          "output_type": "execute_result",
          "data": {
            "text/plain": [
              "drugZ    147\n",
              "drugQ    134\n",
              "Name: Drug, dtype: int64"
            ]
          },
          "metadata": {},
          "execution_count": 400
        }
      ]
    },
    {
      "cell_type": "markdown",
      "source": [
        "### **Split the Data**"
      ],
      "metadata": {
        "id": "GnfuDhFT62Bl"
      }
    },
    {
      "cell_type": "code",
      "source": [
        "# Define features (X) and target (y)\n",
        "target = 'Drug'\n",
        "X = df.drop(columns = ['Drug']).copy()\n",
        "y = df[target].copy()"
      ],
      "metadata": {
        "id": "SHPOC3ux63Uo"
      },
      "execution_count": 401,
      "outputs": []
    },
    {
      "cell_type": "code",
      "source": [
        "# Split the dataset\n",
        "X_train, X_test, y_train, y_test = train_test_split(X, y, stratify=y, random_state=42)"
      ],
      "metadata": {
        "id": "q2arfOIR7Bkx"
      },
      "execution_count": 402,
      "outputs": []
    },
    {
      "cell_type": "markdown",
      "source": [
        "#### Check Class Balance"
      ],
      "metadata": {
        "id": "V8nl0Rri7dGx"
      }
    },
    {
      "cell_type": "code",
      "source": [
        "# Check how many samples of each class are present for train\n",
        "y_train.value_counts(normalize=True)"
      ],
      "metadata": {
        "colab": {
          "base_uri": "https://localhost:8080/"
        },
        "id": "CIks6brz7drP",
        "outputId": "215b726d-3c2a-4d3a-a543-0f0e49413a44"
      },
      "execution_count": 403,
      "outputs": [
        {
          "output_type": "execute_result",
          "data": {
            "text/plain": [
              "drugZ    0.52381\n",
              "drugQ    0.47619\n",
              "Name: Drug, dtype: float64"
            ]
          },
          "metadata": {},
          "execution_count": 403
        }
      ]
    },
    {
      "cell_type": "code",
      "source": [
        "y_test.value_counts(normalize=True)"
      ],
      "metadata": {
        "colab": {
          "base_uri": "https://localhost:8080/"
        },
        "id": "zM2VrFBe7i1M",
        "outputId": "c5b74363-0900-472d-e28a-7cffda67be5b"
      },
      "execution_count": 404,
      "outputs": [
        {
          "output_type": "execute_result",
          "data": {
            "text/plain": [
              "drugZ    0.521127\n",
              "drugQ    0.478873\n",
              "Name: Drug, dtype: float64"
            ]
          },
          "metadata": {},
          "execution_count": 404
        }
      ]
    },
    {
      "cell_type": "markdown",
      "source": [
        "### **Prepare the data appropriately for modeling:**"
      ],
      "metadata": {
        "id": "rbAa9KNa7mW8"
      }
    },
    {
      "cell_type": "markdown",
      "source": [
        "#### **Numeric Transformation**"
      ],
      "metadata": {
        "id": "b6OQlMAo8Rem"
      }
    },
    {
      "cell_type": "code",
      "source": [
        "# We will use a mean imputer to impute missing values for the numeric columns\n",
        "# Transformers\n",
        "mean_imputer = SimpleImputer(strategy='mean')\n",
        "scaler = StandardScaler()\n",
        "\n",
        "# Pipeline\n",
        "num_pipeline = make_pipeline(mean_imputer, scaler)\n",
        "\n",
        "# Selector\n",
        "num_selector = make_column_selector(dtype_include= 'number')\n",
        "\n",
        "# Tuple\n",
        "numeric_tuple = (num_pipeline, num_selector)"
      ],
      "metadata": {
        "id": "4J2_wN_A8Gr2"
      },
      "execution_count": 405,
      "outputs": []
    },
    {
      "cell_type": "code",
      "source": [
        "num_selector(X_train)"
      ],
      "metadata": {
        "colab": {
          "base_uri": "https://localhost:8080/"
        },
        "id": "zW7Nm2Hy8X8j",
        "outputId": "48a453bb-df83-4260-900b-9971af60a238"
      },
      "execution_count": 406,
      "outputs": [
        {
          "output_type": "execute_result",
          "data": {
            "text/plain": [
              "['Age', 'Na_to_K']"
            ]
          },
          "metadata": {},
          "execution_count": 406
        }
      ]
    },
    {
      "cell_type": "markdown",
      "source": [
        "#### **Ordinal Transformation**"
      ],
      "metadata": {
        "id": "OjwH0H9o8cwL"
      }
    },
    {
      "cell_type": "code",
      "source": [
        "# Ordered Category Lists\n",
        "\n",
        "bp_list = ['low', 'normal', 'high']\n",
        "cholestrol_list = ['normal','high']\n",
        "\n",
        "# Transformers\n",
        "\n",
        "ord = OrdinalEncoder(categories=[bp_list, cholestrol_list],handle_unknown='use_encoded_value',unknown_value = -1)\n",
        "\n",
        "# We will use a most frequent imputer to impute missing values for the ordinal columns\n",
        "freq_imputer = SimpleImputer(strategy='most_frequent')\n",
        "\n",
        "# We have more than 2 ordinal values for each column so using scaler\n",
        "scaler2 = StandardScaler()\n",
        "\n",
        "\n",
        "# Pipeline\n",
        "ord_pipeline = make_pipeline(freq_imputer, ord, scaler2)\n",
        "# Selector\n",
        "#ordinal_cols = make_column_selector(dtype_include= 'object')\n",
        "#ordinal_cols = ['raw ethanol', 'pressure[hpa]']\n",
        "ordinal_cols = ['BP','Cholesterol']\n",
        "# Tuple\n",
        "ordinal_tuple = (ord_pipeline, ordinal_cols)"
      ],
      "metadata": {
        "id": "pXYWodnK8bZa"
      },
      "execution_count": 407,
      "outputs": []
    },
    {
      "cell_type": "code",
      "source": [
        "# Instantiate the make column transformer\n",
        "preprocessor = make_column_transformer(numeric_tuple,\n",
        "                                       ordinal_tuple,\n",
        "                                       remainder='drop')"
      ],
      "metadata": {
        "id": "it2JZXtp9I2Y"
      },
      "execution_count": 408,
      "outputs": []
    },
    {
      "cell_type": "code",
      "source": [
        "y_pre = preprocessor.fit(X_train)"
      ],
      "metadata": {
        "id": "HR29ecya9U_t"
      },
      "execution_count": 409,
      "outputs": []
    },
    {
      "cell_type": "markdown",
      "source": [
        "Ordinal encoding is suitable for categorical variables when there is an inherent order or ranking among the categories.\n",
        "If the categorical variable has a meaningful order or hierarchy, preserving that order can provide valuable information to the model. For example, in the 'Blood Pressure' ('BP') and 'Cholesterol' columns, we can reasonably assume that there's an order ('Low' < 'Normal' < 'High').\n",
        "\n",
        "One-hot encoding is appropriate for nominal categorical variables with no meaningful order or ranking among the categories. For example, the 'Gender' column is nominal since there's no meaningful order between 'Male' and 'Female.'"
      ],
      "metadata": {
        "id": "xULhtJgEFPSC"
      }
    },
    {
      "cell_type": "markdown",
      "source": [
        "## **Create and compare at least 2 different models:**"
      ],
      "metadata": {
        "id": "mc6towGmFxzH"
      }
    },
    {
      "cell_type": "code",
      "source": [
        "def classification_metrics(model, X_test, y_test, label='Test Data',\n",
        "                            figsize=(15, 5), normalize='true',\n",
        "                            cmap='Greens', thresh=0.5):\n",
        "\n",
        "    fig, axes = plt.subplots(1, 2, figsize=figsize)\n",
        "\n",
        "    # Get the predictions\n",
        "    y_proba = model.predict_proba(X_test)\n",
        "    # Convert y_pred to strings ('drugQ' or 'drugZ') based on the threshold\n",
        "    y_pred = ['drugZ' if x[1] > thresh else 'drugQ' for x in y_proba]\n",
        "\n",
        "    # Print classification report for the test data (and make it pretty!)\n",
        "    print('---' * 20)\n",
        "    print(f\"[i] CLASSIFICATION REPORT FOR: {label}\")\n",
        "    print('---' * 20)\n",
        "\n",
        "    print(classification_report(y_test, y_pred))\n",
        "\n",
        "    # Confusion matrix and ROC curve display code remains the same\n",
        "    ConfusionMatrixDisplay.from_estimator(model, X_test, y_test,\n",
        "                                           normalize=normalize, cmap=cmap,\n",
        "                                           ax=axes[0])\n",
        "\n",
        "    RocCurveDisplay.from_estimator(model, X_test, y_test, ax=axes[1])\n",
        "\n",
        "    plt.show()\n"
      ],
      "metadata": {
        "id": "9zWNTjqwFvpR"
      },
      "execution_count": 474,
      "outputs": []
    },
    {
      "cell_type": "markdown",
      "source": [
        "### **KNN Model**"
      ],
      "metadata": {
        "id": "YM9xeoCsGpWN"
      }
    },
    {
      "cell_type": "code",
      "source": [
        "# Create an instance of the model\n",
        "knn = KNeighborsClassifier()\n",
        "# Create a model pipeline\n",
        "knn_pipe = make_pipeline(preprocessor, knn)\n",
        "## Fit the model\n",
        "knn_pipe.fit(X_train, y_train)"
      ],
      "metadata": {
        "colab": {
          "base_uri": "https://localhost:8080/",
          "height": 259
        },
        "id": "IGrRyG1-GqAO",
        "outputId": "fe414296-8330-4750-f285-44afa848cebd"
      },
      "execution_count": 452,
      "outputs": [
        {
          "output_type": "execute_result",
          "data": {
            "text/plain": [
              "Pipeline(steps=[('columntransformer',\n",
              "                 ColumnTransformer(transformers=[('pipeline-1',\n",
              "                                                  Pipeline(steps=[('simpleimputer',\n",
              "                                                                   SimpleImputer()),\n",
              "                                                                  ('standardscaler',\n",
              "                                                                   StandardScaler())]),\n",
              "                                                  <sklearn.compose._column_transformer.make_column_selector object at 0x7fb95b446260>),\n",
              "                                                 ('pipeline-2',\n",
              "                                                  Pipeline(steps=[('simpleimputer',\n",
              "                                                                   SimpleImputer(strategy='most_frequent')),\n",
              "                                                                  ('ordinalencoder',\n",
              "                                                                   OrdinalEncoder(categories=[['low',\n",
              "                                                                                               'normal',\n",
              "                                                                                               'high'],\n",
              "                                                                                              ['normal',\n",
              "                                                                                               'high']],\n",
              "                                                                                  handle_unknown='use_encoded_value',\n",
              "                                                                                  unknown_value=-1)),\n",
              "                                                                  ('standardscaler',\n",
              "                                                                   StandardScaler())]),\n",
              "                                                  ['BP', 'Cholesterol'])])),\n",
              "                ('kneighborsclassifier', KNeighborsClassifier())])"
            ],
            "text/html": [
              "<style>#sk-container-id-38 {color: black;background-color: white;}#sk-container-id-38 pre{padding: 0;}#sk-container-id-38 div.sk-toggleable {background-color: white;}#sk-container-id-38 label.sk-toggleable__label {cursor: pointer;display: block;width: 100%;margin-bottom: 0;padding: 0.3em;box-sizing: border-box;text-align: center;}#sk-container-id-38 label.sk-toggleable__label-arrow:before {content: \"▸\";float: left;margin-right: 0.25em;color: #696969;}#sk-container-id-38 label.sk-toggleable__label-arrow:hover:before {color: black;}#sk-container-id-38 div.sk-estimator:hover label.sk-toggleable__label-arrow:before {color: black;}#sk-container-id-38 div.sk-toggleable__content {max-height: 0;max-width: 0;overflow: hidden;text-align: left;background-color: #f0f8ff;}#sk-container-id-38 div.sk-toggleable__content pre {margin: 0.2em;color: black;border-radius: 0.25em;background-color: #f0f8ff;}#sk-container-id-38 input.sk-toggleable__control:checked~div.sk-toggleable__content {max-height: 200px;max-width: 100%;overflow: auto;}#sk-container-id-38 input.sk-toggleable__control:checked~label.sk-toggleable__label-arrow:before {content: \"▾\";}#sk-container-id-38 div.sk-estimator input.sk-toggleable__control:checked~label.sk-toggleable__label {background-color: #d4ebff;}#sk-container-id-38 div.sk-label input.sk-toggleable__control:checked~label.sk-toggleable__label {background-color: #d4ebff;}#sk-container-id-38 input.sk-hidden--visually {border: 0;clip: rect(1px 1px 1px 1px);clip: rect(1px, 1px, 1px, 1px);height: 1px;margin: -1px;overflow: hidden;padding: 0;position: absolute;width: 1px;}#sk-container-id-38 div.sk-estimator {font-family: monospace;background-color: #f0f8ff;border: 1px dotted black;border-radius: 0.25em;box-sizing: border-box;margin-bottom: 0.5em;}#sk-container-id-38 div.sk-estimator:hover {background-color: #d4ebff;}#sk-container-id-38 div.sk-parallel-item::after {content: \"\";width: 100%;border-bottom: 1px solid gray;flex-grow: 1;}#sk-container-id-38 div.sk-label:hover label.sk-toggleable__label {background-color: #d4ebff;}#sk-container-id-38 div.sk-serial::before {content: \"\";position: absolute;border-left: 1px solid gray;box-sizing: border-box;top: 0;bottom: 0;left: 50%;z-index: 0;}#sk-container-id-38 div.sk-serial {display: flex;flex-direction: column;align-items: center;background-color: white;padding-right: 0.2em;padding-left: 0.2em;position: relative;}#sk-container-id-38 div.sk-item {position: relative;z-index: 1;}#sk-container-id-38 div.sk-parallel {display: flex;align-items: stretch;justify-content: center;background-color: white;position: relative;}#sk-container-id-38 div.sk-item::before, #sk-container-id-38 div.sk-parallel-item::before {content: \"\";position: absolute;border-left: 1px solid gray;box-sizing: border-box;top: 0;bottom: 0;left: 50%;z-index: -1;}#sk-container-id-38 div.sk-parallel-item {display: flex;flex-direction: column;z-index: 1;position: relative;background-color: white;}#sk-container-id-38 div.sk-parallel-item:first-child::after {align-self: flex-end;width: 50%;}#sk-container-id-38 div.sk-parallel-item:last-child::after {align-self: flex-start;width: 50%;}#sk-container-id-38 div.sk-parallel-item:only-child::after {width: 0;}#sk-container-id-38 div.sk-dashed-wrapped {border: 1px dashed gray;margin: 0 0.4em 0.5em 0.4em;box-sizing: border-box;padding-bottom: 0.4em;background-color: white;}#sk-container-id-38 div.sk-label label {font-family: monospace;font-weight: bold;display: inline-block;line-height: 1.2em;}#sk-container-id-38 div.sk-label-container {text-align: center;}#sk-container-id-38 div.sk-container {/* jupyter's `normalize.less` sets `[hidden] { display: none; }` but bootstrap.min.css set `[hidden] { display: none !important; }` so we also need the `!important` here to be able to override the default hidden behavior on the sphinx rendered scikit-learn.org. See: https://github.com/scikit-learn/scikit-learn/issues/21755 */display: inline-block !important;position: relative;}#sk-container-id-38 div.sk-text-repr-fallback {display: none;}</style><div id=\"sk-container-id-38\" class=\"sk-top-container\"><div class=\"sk-text-repr-fallback\"><pre>Pipeline(steps=[(&#x27;columntransformer&#x27;,\n",
              "                 ColumnTransformer(transformers=[(&#x27;pipeline-1&#x27;,\n",
              "                                                  Pipeline(steps=[(&#x27;simpleimputer&#x27;,\n",
              "                                                                   SimpleImputer()),\n",
              "                                                                  (&#x27;standardscaler&#x27;,\n",
              "                                                                   StandardScaler())]),\n",
              "                                                  &lt;sklearn.compose._column_transformer.make_column_selector object at 0x7fb95b446260&gt;),\n",
              "                                                 (&#x27;pipeline-2&#x27;,\n",
              "                                                  Pipeline(steps=[(&#x27;simpleimputer&#x27;,\n",
              "                                                                   SimpleImputer(strategy=&#x27;most_frequent&#x27;)),\n",
              "                                                                  (&#x27;ordinalencoder&#x27;,\n",
              "                                                                   OrdinalEncoder(categories=[[&#x27;low&#x27;,\n",
              "                                                                                               &#x27;normal&#x27;,\n",
              "                                                                                               &#x27;high&#x27;],\n",
              "                                                                                              [&#x27;normal&#x27;,\n",
              "                                                                                               &#x27;high&#x27;]],\n",
              "                                                                                  handle_unknown=&#x27;use_encoded_value&#x27;,\n",
              "                                                                                  unknown_value=-1)),\n",
              "                                                                  (&#x27;standardscaler&#x27;,\n",
              "                                                                   StandardScaler())]),\n",
              "                                                  [&#x27;BP&#x27;, &#x27;Cholesterol&#x27;])])),\n",
              "                (&#x27;kneighborsclassifier&#x27;, KNeighborsClassifier())])</pre><b>In a Jupyter environment, please rerun this cell to show the HTML representation or trust the notebook. <br />On GitHub, the HTML representation is unable to render, please try loading this page with nbviewer.org.</b></div><div class=\"sk-container\" hidden><div class=\"sk-item sk-dashed-wrapped\"><div class=\"sk-label-container\"><div class=\"sk-label sk-toggleable\"><input class=\"sk-toggleable__control sk-hidden--visually\" id=\"sk-estimator-id-379\" type=\"checkbox\" ><label for=\"sk-estimator-id-379\" class=\"sk-toggleable__label sk-toggleable__label-arrow\">Pipeline</label><div class=\"sk-toggleable__content\"><pre>Pipeline(steps=[(&#x27;columntransformer&#x27;,\n",
              "                 ColumnTransformer(transformers=[(&#x27;pipeline-1&#x27;,\n",
              "                                                  Pipeline(steps=[(&#x27;simpleimputer&#x27;,\n",
              "                                                                   SimpleImputer()),\n",
              "                                                                  (&#x27;standardscaler&#x27;,\n",
              "                                                                   StandardScaler())]),\n",
              "                                                  &lt;sklearn.compose._column_transformer.make_column_selector object at 0x7fb95b446260&gt;),\n",
              "                                                 (&#x27;pipeline-2&#x27;,\n",
              "                                                  Pipeline(steps=[(&#x27;simpleimputer&#x27;,\n",
              "                                                                   SimpleImputer(strategy=&#x27;most_frequent&#x27;)),\n",
              "                                                                  (&#x27;ordinalencoder&#x27;,\n",
              "                                                                   OrdinalEncoder(categories=[[&#x27;low&#x27;,\n",
              "                                                                                               &#x27;normal&#x27;,\n",
              "                                                                                               &#x27;high&#x27;],\n",
              "                                                                                              [&#x27;normal&#x27;,\n",
              "                                                                                               &#x27;high&#x27;]],\n",
              "                                                                                  handle_unknown=&#x27;use_encoded_value&#x27;,\n",
              "                                                                                  unknown_value=-1)),\n",
              "                                                                  (&#x27;standardscaler&#x27;,\n",
              "                                                                   StandardScaler())]),\n",
              "                                                  [&#x27;BP&#x27;, &#x27;Cholesterol&#x27;])])),\n",
              "                (&#x27;kneighborsclassifier&#x27;, KNeighborsClassifier())])</pre></div></div></div><div class=\"sk-serial\"><div class=\"sk-item sk-dashed-wrapped\"><div class=\"sk-label-container\"><div class=\"sk-label sk-toggleable\"><input class=\"sk-toggleable__control sk-hidden--visually\" id=\"sk-estimator-id-380\" type=\"checkbox\" ><label for=\"sk-estimator-id-380\" class=\"sk-toggleable__label sk-toggleable__label-arrow\">columntransformer: ColumnTransformer</label><div class=\"sk-toggleable__content\"><pre>ColumnTransformer(transformers=[(&#x27;pipeline-1&#x27;,\n",
              "                                 Pipeline(steps=[(&#x27;simpleimputer&#x27;,\n",
              "                                                  SimpleImputer()),\n",
              "                                                 (&#x27;standardscaler&#x27;,\n",
              "                                                  StandardScaler())]),\n",
              "                                 &lt;sklearn.compose._column_transformer.make_column_selector object at 0x7fb95b446260&gt;),\n",
              "                                (&#x27;pipeline-2&#x27;,\n",
              "                                 Pipeline(steps=[(&#x27;simpleimputer&#x27;,\n",
              "                                                  SimpleImputer(strategy=&#x27;most_frequent&#x27;)),\n",
              "                                                 (&#x27;ordinalencoder&#x27;,\n",
              "                                                  OrdinalEncoder(categories=[[&#x27;low&#x27;,\n",
              "                                                                              &#x27;normal&#x27;,\n",
              "                                                                              &#x27;high&#x27;],\n",
              "                                                                             [&#x27;normal&#x27;,\n",
              "                                                                              &#x27;high&#x27;]],\n",
              "                                                                 handle_unknown=&#x27;use_encoded_value&#x27;,\n",
              "                                                                 unknown_value=-1)),\n",
              "                                                 (&#x27;standardscaler&#x27;,\n",
              "                                                  StandardScaler())]),\n",
              "                                 [&#x27;BP&#x27;, &#x27;Cholesterol&#x27;])])</pre></div></div></div><div class=\"sk-parallel\"><div class=\"sk-parallel-item\"><div class=\"sk-item\"><div class=\"sk-label-container\"><div class=\"sk-label sk-toggleable\"><input class=\"sk-toggleable__control sk-hidden--visually\" id=\"sk-estimator-id-381\" type=\"checkbox\" ><label for=\"sk-estimator-id-381\" class=\"sk-toggleable__label sk-toggleable__label-arrow\">pipeline-1</label><div class=\"sk-toggleable__content\"><pre>&lt;sklearn.compose._column_transformer.make_column_selector object at 0x7fb95b446260&gt;</pre></div></div></div><div class=\"sk-serial\"><div class=\"sk-item\"><div class=\"sk-serial\"><div class=\"sk-item\"><div class=\"sk-estimator sk-toggleable\"><input class=\"sk-toggleable__control sk-hidden--visually\" id=\"sk-estimator-id-382\" type=\"checkbox\" ><label for=\"sk-estimator-id-382\" class=\"sk-toggleable__label sk-toggleable__label-arrow\">SimpleImputer</label><div class=\"sk-toggleable__content\"><pre>SimpleImputer()</pre></div></div></div><div class=\"sk-item\"><div class=\"sk-estimator sk-toggleable\"><input class=\"sk-toggleable__control sk-hidden--visually\" id=\"sk-estimator-id-383\" type=\"checkbox\" ><label for=\"sk-estimator-id-383\" class=\"sk-toggleable__label sk-toggleable__label-arrow\">StandardScaler</label><div class=\"sk-toggleable__content\"><pre>StandardScaler()</pre></div></div></div></div></div></div></div></div><div class=\"sk-parallel-item\"><div class=\"sk-item\"><div class=\"sk-label-container\"><div class=\"sk-label sk-toggleable\"><input class=\"sk-toggleable__control sk-hidden--visually\" id=\"sk-estimator-id-384\" type=\"checkbox\" ><label for=\"sk-estimator-id-384\" class=\"sk-toggleable__label sk-toggleable__label-arrow\">pipeline-2</label><div class=\"sk-toggleable__content\"><pre>[&#x27;BP&#x27;, &#x27;Cholesterol&#x27;]</pre></div></div></div><div class=\"sk-serial\"><div class=\"sk-item\"><div class=\"sk-serial\"><div class=\"sk-item\"><div class=\"sk-estimator sk-toggleable\"><input class=\"sk-toggleable__control sk-hidden--visually\" id=\"sk-estimator-id-385\" type=\"checkbox\" ><label for=\"sk-estimator-id-385\" class=\"sk-toggleable__label sk-toggleable__label-arrow\">SimpleImputer</label><div class=\"sk-toggleable__content\"><pre>SimpleImputer(strategy=&#x27;most_frequent&#x27;)</pre></div></div></div><div class=\"sk-item\"><div class=\"sk-estimator sk-toggleable\"><input class=\"sk-toggleable__control sk-hidden--visually\" id=\"sk-estimator-id-386\" type=\"checkbox\" ><label for=\"sk-estimator-id-386\" class=\"sk-toggleable__label sk-toggleable__label-arrow\">OrdinalEncoder</label><div class=\"sk-toggleable__content\"><pre>OrdinalEncoder(categories=[[&#x27;low&#x27;, &#x27;normal&#x27;, &#x27;high&#x27;], [&#x27;normal&#x27;, &#x27;high&#x27;]],\n",
              "               handle_unknown=&#x27;use_encoded_value&#x27;, unknown_value=-1)</pre></div></div></div><div class=\"sk-item\"><div class=\"sk-estimator sk-toggleable\"><input class=\"sk-toggleable__control sk-hidden--visually\" id=\"sk-estimator-id-387\" type=\"checkbox\" ><label for=\"sk-estimator-id-387\" class=\"sk-toggleable__label sk-toggleable__label-arrow\">StandardScaler</label><div class=\"sk-toggleable__content\"><pre>StandardScaler()</pre></div></div></div></div></div></div></div></div></div></div><div class=\"sk-item\"><div class=\"sk-estimator sk-toggleable\"><input class=\"sk-toggleable__control sk-hidden--visually\" id=\"sk-estimator-id-388\" type=\"checkbox\" ><label for=\"sk-estimator-id-388\" class=\"sk-toggleable__label sk-toggleable__label-arrow\">KNeighborsClassifier</label><div class=\"sk-toggleable__content\"><pre>KNeighborsClassifier()</pre></div></div></div></div></div></div></div>"
            ]
          },
          "metadata": {},
          "execution_count": 452
        }
      ]
    },
    {
      "cell_type": "markdown",
      "source": [
        "### **KNN Model Evaluation**"
      ],
      "metadata": {
        "id": "cWvSRD1jGuwo"
      }
    },
    {
      "cell_type": "code",
      "source": [
        "## Save the model's predictions for the train dataset\n",
        "knn_train_preds = knn_pipe.predict(X_train)\n",
        "## Save the model's predictions for the test dataset\n",
        "knn_test_preds = knn_pipe.predict(X_test)"
      ],
      "metadata": {
        "id": "R24WvfpxGvXm"
      },
      "execution_count": 453,
      "outputs": []
    },
    {
      "cell_type": "code",
      "source": [
        "## print the classification reports\n",
        "labels = ['drugQ','drugZ']\n",
        "print('Train Report')\n",
        "print(classification_report(y_train, knn_train_preds, target_names=labels))\n",
        "\n",
        "print('Test Report')\n",
        "print(classification_report(y_test, knn_test_preds, target_names=labels))"
      ],
      "metadata": {
        "colab": {
          "base_uri": "https://localhost:8080/"
        },
        "id": "oI0S68cmG0JV",
        "outputId": "d0181ba1-c7bd-4bd5-cd78-7b7c4b33bb4c"
      },
      "execution_count": 454,
      "outputs": [
        {
          "output_type": "stream",
          "name": "stdout",
          "text": [
            "Train Report\n",
            "              precision    recall  f1-score   support\n",
            "\n",
            "       drugQ       0.88      0.99      0.93       100\n",
            "       drugZ       0.99      0.87      0.93       110\n",
            "\n",
            "    accuracy                           0.93       210\n",
            "   macro avg       0.93      0.93      0.93       210\n",
            "weighted avg       0.94      0.93      0.93       210\n",
            "\n",
            "Test Report\n",
            "              precision    recall  f1-score   support\n",
            "\n",
            "       drugQ       0.89      1.00      0.94        34\n",
            "       drugZ       1.00      0.89      0.94        37\n",
            "\n",
            "    accuracy                           0.94        71\n",
            "   macro avg       0.95      0.95      0.94        71\n",
            "weighted avg       0.95      0.94      0.94        71\n",
            "\n"
          ]
        }
      ]
    },
    {
      "cell_type": "code",
      "source": [
        "## create confusion matrices\n",
        "ConfusionMatrixDisplay.from_predictions(y_train, knn_train_preds,\n",
        "               normalize='true', display_labels=labels, cmap='Blues')\n",
        "plt.suptitle('Train');\n",
        "\n",
        "\n",
        "\n",
        "ConfusionMatrixDisplay.from_predictions(y_test, knn_test_preds,\n",
        "               normalize='true', display_labels=labels, cmap='Blues')\n",
        "plt.suptitle('Test');"
      ],
      "metadata": {
        "colab": {
          "base_uri": "https://localhost:8080/",
          "height": 977
        },
        "id": "MBurmVtEHzF-",
        "outputId": "bc0ecd0a-4a84-4c6b-d201-a04c23ac0a27"
      },
      "execution_count": 455,
      "outputs": [
        {
          "output_type": "display_data",
          "data": {
            "text/plain": [
              "<Figure size 640x480 with 2 Axes>"
            ],
            "image/png": "[encoded data removed]"
          },
          "metadata": {}
        },
        {
          "output_type": "display_data",
          "data": {
            "text/plain": [
              "<Figure size 640x480 with 2 Axes>"
            ],
            "image/png": "[encoded data removed]"
          },
          "metadata": {}
        }
      ]
    },
    {
      "cell_type": "markdown",
      "source": [
        "#### Tune the Hyperparameters"
      ],
      "metadata": {
        "id": "i3vAafh-KjVX"
      }
    },
    {
      "cell_type": "code",
      "source": [
        "# Display the hyperparameters.\n",
        "knn_pipe.get_params()"
      ],
      "metadata": {
        "colab": {
          "base_uri": "https://localhost:8080/"
        },
        "id": "pbIfkexiKuZE",
        "outputId": "1b45bc65-f96c-4c94-c669-dc5da44e6f89"
      },
      "execution_count": 456,
      "outputs": [
        {
          "output_type": "execute_result",
          "data": {
            "text/plain": [
              "{'memory': None,\n",
              " 'steps': [('columntransformer',\n",
              "   ColumnTransformer(transformers=[('pipeline-1',\n",
              "                                    Pipeline(steps=[('simpleimputer',\n",
              "                                                     SimpleImputer()),\n",
              "                                                    ('standardscaler',\n",
              "                                                     StandardScaler())]),\n",
              "                                    <sklearn.compose._column_transformer.make_column_selector object at 0x7fb95b446260>),\n",
              "                                   ('pipeline-2',\n",
              "                                    Pipeline(steps=[('simpleimputer',\n",
              "                                                     SimpleImputer(strategy='most_frequent')),\n",
              "                                                    ('ordinalencoder',\n",
              "                                                     OrdinalEncoder(categories=[['low',\n",
              "                                                                                 'normal',\n",
              "                                                                                 'high'],\n",
              "                                                                                ['normal',\n",
              "                                                                                 'high']],\n",
              "                                                                    handle_unknown='use_encoded_value',\n",
              "                                                                    unknown_value=-1)),\n",
              "                                                    ('standardscaler',\n",
              "                                                     StandardScaler())]),\n",
              "                                    ['BP', 'Cholesterol'])])),\n",
              "  ('kneighborsclassifier', KNeighborsClassifier())],\n",
              " 'verbose': False,\n",
              " 'columntransformer': ColumnTransformer(transformers=[('pipeline-1',\n",
              "                                  Pipeline(steps=[('simpleimputer',\n",
              "                                                   SimpleImputer()),\n",
              "                                                  ('standardscaler',\n",
              "                                                   StandardScaler())]),\n",
              "                                  <sklearn.compose._column_transformer.make_column_selector object at 0x7fb95b446260>),\n",
              "                                 ('pipeline-2',\n",
              "                                  Pipeline(steps=[('simpleimputer',\n",
              "                                                   SimpleImputer(strategy='most_frequent')),\n",
              "                                                  ('ordinalencoder',\n",
              "                                                   OrdinalEncoder(categories=[['low',\n",
              "                                                                               'normal',\n",
              "                                                                               'high'],\n",
              "                                                                              ['normal',\n",
              "                                                                               'high']],\n",
              "                                                                  handle_unknown='use_encoded_value',\n",
              "                                                                  unknown_value=-1)),\n",
              "                                                  ('standardscaler',\n",
              "                                                   StandardScaler())]),\n",
              "                                  ['BP', 'Cholesterol'])]),\n",
              " 'kneighborsclassifier': KNeighborsClassifier(),\n",
              " 'columntransformer__n_jobs': None,\n",
              " 'columntransformer__remainder': 'drop',\n",
              " 'columntransformer__sparse_threshold': 0.3,\n",
              " 'columntransformer__transformer_weights': None,\n",
              " 'columntransformer__transformers': [('pipeline-1',\n",
              "   Pipeline(steps=[('simpleimputer', SimpleImputer()),\n",
              "                   ('standardscaler', StandardScaler())]),\n",
              "   <sklearn.compose._column_transformer.make_column_selector at 0x7fb95b446260>),\n",
              "  ('pipeline-2',\n",
              "   Pipeline(steps=[('simpleimputer', SimpleImputer(strategy='most_frequent')),\n",
              "                   ('ordinalencoder',\n",
              "                    OrdinalEncoder(categories=[['low', 'normal', 'high'],\n",
              "                                               ['normal', 'high']],\n",
              "                                   handle_unknown='use_encoded_value',\n",
              "                                   unknown_value=-1)),\n",
              "                   ('standardscaler', StandardScaler())]),\n",
              "   ['BP', 'Cholesterol'])],\n",
              " 'columntransformer__verbose': False,\n",
              " 'columntransformer__verbose_feature_names_out': True,\n",
              " 'columntransformer__pipeline-1': Pipeline(steps=[('simpleimputer', SimpleImputer()),\n",
              "                 ('standardscaler', StandardScaler())]),\n",
              " 'columntransformer__pipeline-2': Pipeline(steps=[('simpleimputer', SimpleImputer(strategy='most_frequent')),\n",
              "                 ('ordinalencoder',\n",
              "                  OrdinalEncoder(categories=[['low', 'normal', 'high'],\n",
              "                                             ['normal', 'high']],\n",
              "                                 handle_unknown='use_encoded_value',\n",
              "                                 unknown_value=-1)),\n",
              "                 ('standardscaler', StandardScaler())]),\n",
              " 'columntransformer__pipeline-1__memory': None,\n",
              " 'columntransformer__pipeline-1__steps': [('simpleimputer', SimpleImputer()),\n",
              "  ('standardscaler', StandardScaler())],\n",
              " 'columntransformer__pipeline-1__verbose': False,\n",
              " 'columntransformer__pipeline-1__simpleimputer': SimpleImputer(),\n",
              " 'columntransformer__pipeline-1__standardscaler': StandardScaler(),\n",
              " 'columntransformer__pipeline-1__simpleimputer__add_indicator': False,\n",
              " 'columntransformer__pipeline-1__simpleimputer__copy': True,\n",
              " 'columntransformer__pipeline-1__simpleimputer__fill_value': None,\n",
              " 'columntransformer__pipeline-1__simpleimputer__keep_empty_features': False,\n",
              " 'columntransformer__pipeline-1__simpleimputer__missing_values': nan,\n",
              " 'columntransformer__pipeline-1__simpleimputer__strategy': 'mean',\n",
              " 'columntransformer__pipeline-1__simpleimputer__verbose': 'deprecated',\n",
              " 'columntransformer__pipeline-1__standardscaler__copy': True,\n",
              " 'columntransformer__pipeline-1__standardscaler__with_mean': True,\n",
              " 'columntransformer__pipeline-1__standardscaler__with_std': True,\n",
              " 'columntransformer__pipeline-2__memory': None,\n",
              " 'columntransformer__pipeline-2__steps': [('simpleimputer',\n",
              "   SimpleImputer(strategy='most_frequent')),\n",
              "  ('ordinalencoder',\n",
              "   OrdinalEncoder(categories=[['low', 'normal', 'high'], ['normal', 'high']],\n",
              "                  handle_unknown='use_encoded_value', unknown_value=-1)),\n",
              "  ('standardscaler', StandardScaler())],\n",
              " 'columntransformer__pipeline-2__verbose': False,\n",
              " 'columntransformer__pipeline-2__simpleimputer': SimpleImputer(strategy='most_frequent'),\n",
              " 'columntransformer__pipeline-2__ordinalencoder': OrdinalEncoder(categories=[['low', 'normal', 'high'], ['normal', 'high']],\n",
              "                handle_unknown='use_encoded_value', unknown_value=-1),\n",
              " 'columntransformer__pipeline-2__standardscaler': StandardScaler(),\n",
              " 'columntransformer__pipeline-2__simpleimputer__add_indicator': False,\n",
              " 'columntransformer__pipeline-2__simpleimputer__copy': True,\n",
              " 'columntransformer__pipeline-2__simpleimputer__fill_value': None,\n",
              " 'columntransformer__pipeline-2__simpleimputer__keep_empty_features': False,\n",
              " 'columntransformer__pipeline-2__simpleimputer__missing_values': nan,\n",
              " 'columntransformer__pipeline-2__simpleimputer__strategy': 'most_frequent',\n",
              " 'columntransformer__pipeline-2__simpleimputer__verbose': 'deprecated',\n",
              " 'columntransformer__pipeline-2__ordinalencoder__categories': [['low',\n",
              "   'normal',\n",
              "   'high'],\n",
              "  ['normal', 'high']],\n",
              " 'columntransformer__pipeline-2__ordinalencoder__dtype': numpy.float64,\n",
              " 'columntransformer__pipeline-2__ordinalencoder__encoded_missing_value': nan,\n",
              " 'columntransformer__pipeline-2__ordinalencoder__handle_unknown': 'use_encoded_value',\n",
              " 'columntransformer__pipeline-2__ordinalencoder__unknown_value': -1,\n",
              " 'columntransformer__pipeline-2__standardscaler__copy': True,\n",
              " 'columntransformer__pipeline-2__standardscaler__with_mean': True,\n",
              " 'columntransformer__pipeline-2__standardscaler__with_std': True,\n",
              " 'kneighborsclassifier__algorithm': 'auto',\n",
              " 'kneighborsclassifier__leaf_size': 30,\n",
              " 'kneighborsclassifier__metric': 'minkowski',\n",
              " 'kneighborsclassifier__metric_params': None,\n",
              " 'kneighborsclassifier__n_jobs': None,\n",
              " 'kneighborsclassifier__n_neighbors': 5,\n",
              " 'kneighborsclassifier__p': 2,\n",
              " 'kneighborsclassifier__weights': 'uniform'}"
            ]
          },
          "metadata": {},
          "execution_count": 456
        }
      ]
    },
    {
      "cell_type": "code",
      "source": [
        "# Create a dictionary of parameters\n",
        "\n",
        "params = {'kneighborsclassifier__n_neighbors': range(1,15),\n",
        "          'kneighborsclassifier__weights': ['distance','uniform']}"
      ],
      "metadata": {
        "id": "b4roT3QzK0Uq"
      },
      "execution_count": 457,
      "outputs": []
    },
    {
      "cell_type": "code",
      "source": [
        "# Tune hyperparameters with GridSearchCV\n",
        "knn_gs = GridSearchCV(knn_pipe, params)\n",
        "knn_gs.fit(X_train, y_train)"
      ],
      "metadata": {
        "colab": {
          "base_uri": "https://localhost:8080/",
          "height": 285
        },
        "id": "yC-Kn9MWK9C8",
        "outputId": "101208d5-8bf7-4448-8270-58cb1444f370"
      },
      "execution_count": 458,
      "outputs": [
        {
          "output_type": "execute_result",
          "data": {
            "text/plain": [
              "GridSearchCV(estimator=Pipeline(steps=[('columntransformer',\n",
              "                                        ColumnTransformer(transformers=[('pipeline-1',\n",
              "                                                                         Pipeline(steps=[('simpleimputer',\n",
              "                                                                                          SimpleImputer()),\n",
              "                                                                                         ('standardscaler',\n",
              "                                                                                          StandardScaler())]),\n",
              "                                                                         <sklearn.compose._column_transformer.make_column_selector object at 0x7fb95b446260>),\n",
              "                                                                        ('pipeline-2',\n",
              "                                                                         Pipeline(steps=[('simpleimputer',\n",
              "                                                                                          SimpleImputer(strategy='mos...\n",
              "                                                                                          OrdinalEncoder(categories=[['low',\n",
              "                                                                                                                      'normal',\n",
              "                                                                                                                      'high'],\n",
              "                                                                                                                     ['normal',\n",
              "                                                                                                                      'high']],\n",
              "                                                                                                         handle_unknown='use_encoded_value',\n",
              "                                                                                                         unknown_value=-1)),\n",
              "                                                                                         ('standardscaler',\n",
              "                                                                                          StandardScaler())]),\n",
              "                                                                         ['BP',\n",
              "                                                                          'Cholesterol'])])),\n",
              "                                       ('kneighborsclassifier',\n",
              "                                        KNeighborsClassifier())]),\n",
              "             param_grid={'kneighborsclassifier__n_neighbors': range(1, 15),\n",
              "                         'kneighborsclassifier__weights': ['distance',\n",
              "                                                           'uniform']})"
            ],
            "text/html": [
              "<style>#sk-container-id-39 {color: black;background-color: white;}#sk-container-id-39 pre{padding: 0;}#sk-container-id-39 div.sk-toggleable {background-color: white;}#sk-container-id-39 label.sk-toggleable__label {cursor: pointer;display: block;width: 100%;margin-bottom: 0;padding: 0.3em;box-sizing: border-box;text-align: center;}#sk-container-id-39 label.sk-toggleable__label-arrow:before {content: \"▸\";float: left;margin-right: 0.25em;color: #696969;}#sk-container-id-39 label.sk-toggleable__label-arrow:hover:before {color: black;}#sk-container-id-39 div.sk-estimator:hover label.sk-toggleable__label-arrow:before {color: black;}#sk-container-id-39 div.sk-toggleable__content {max-height: 0;max-width: 0;overflow: hidden;text-align: left;background-color: #f0f8ff;}#sk-container-id-39 div.sk-toggleable__content pre {margin: 0.2em;color: black;border-radius: 0.25em;background-color: #f0f8ff;}#sk-container-id-39 input.sk-toggleable__control:checked~div.sk-toggleable__content {max-height: 200px;max-width: 100%;overflow: auto;}#sk-container-id-39 input.sk-toggleable__control:checked~label.sk-toggleable__label-arrow:before {content: \"▾\";}#sk-container-id-39 div.sk-estimator input.sk-toggleable__control:checked~label.sk-toggleable__label {background-color: #d4ebff;}#sk-container-id-39 div.sk-label input.sk-toggleable__control:checked~label.sk-toggleable__label {background-color: #d4ebff;}#sk-container-id-39 input.sk-hidden--visually {border: 0;clip: rect(1px 1px 1px 1px);clip: rect(1px, 1px, 1px, 1px);height: 1px;margin: -1px;overflow: hidden;padding: 0;position: absolute;width: 1px;}#sk-container-id-39 div.sk-estimator {font-family: monospace;background-color: #f0f8ff;border: 1px dotted black;border-radius: 0.25em;box-sizing: border-box;margin-bottom: 0.5em;}#sk-container-id-39 div.sk-estimator:hover {background-color: #d4ebff;}#sk-container-id-39 div.sk-parallel-item::after {content: \"\";width: 100%;border-bottom: 1px solid gray;flex-grow: 1;}#sk-container-id-39 div.sk-label:hover label.sk-toggleable__label {background-color: #d4ebff;}#sk-container-id-39 div.sk-serial::before {content: \"\";position: absolute;border-left: 1px solid gray;box-sizing: border-box;top: 0;bottom: 0;left: 50%;z-index: 0;}#sk-container-id-39 div.sk-serial {display: flex;flex-direction: column;align-items: center;background-color: white;padding-right: 0.2em;padding-left: 0.2em;position: relative;}#sk-container-id-39 div.sk-item {position: relative;z-index: 1;}#sk-container-id-39 div.sk-parallel {display: flex;align-items: stretch;justify-content: center;background-color: white;position: relative;}#sk-container-id-39 div.sk-item::before, #sk-container-id-39 div.sk-parallel-item::before {content: \"\";position: absolute;border-left: 1px solid gray;box-sizing: border-box;top: 0;bottom: 0;left: 50%;z-index: -1;}#sk-container-id-39 div.sk-parallel-item {display: flex;flex-direction: column;z-index: 1;position: relative;background-color: white;}#sk-container-id-39 div.sk-parallel-item:first-child::after {align-self: flex-end;width: 50%;}#sk-container-id-39 div.sk-parallel-item:last-child::after {align-self: flex-start;width: 50%;}#sk-container-id-39 div.sk-parallel-item:only-child::after {width: 0;}#sk-container-id-39 div.sk-dashed-wrapped {border: 1px dashed gray;margin: 0 0.4em 0.5em 0.4em;box-sizing: border-box;padding-bottom: 0.4em;background-color: white;}#sk-container-id-39 div.sk-label label {font-family: monospace;font-weight: bold;display: inline-block;line-height: 1.2em;}#sk-container-id-39 div.sk-label-container {text-align: center;}#sk-container-id-39 div.sk-container {/* jupyter's `normalize.less` sets `[hidden] { display: none; }` but bootstrap.min.css set `[hidden] { display: none !important; }` so we also need the `!important` here to be able to override the default hidden behavior on the sphinx rendered scikit-learn.org. See: https://github.com/scikit-learn/scikit-learn/issues/21755 */display: inline-block !important;position: relative;}#sk-container-id-39 div.sk-text-repr-fallback {display: none;}</style><div id=\"sk-container-id-39\" class=\"sk-top-container\"><div class=\"sk-text-repr-fallback\"><pre>GridSearchCV(estimator=Pipeline(steps=[(&#x27;columntransformer&#x27;,\n",
              "                                        ColumnTransformer(transformers=[(&#x27;pipeline-1&#x27;,\n",
              "                                                                         Pipeline(steps=[(&#x27;simpleimputer&#x27;,\n",
              "                                                                                          SimpleImputer()),\n",
              "                                                                                         (&#x27;standardscaler&#x27;,\n",
              "                                                                                          StandardScaler())]),\n",
              "                                                                         &lt;sklearn.compose._column_transformer.make_column_selector object at 0x7fb95b446260&gt;),\n",
              "                                                                        (&#x27;pipeline-2&#x27;,\n",
              "                                                                         Pipeline(steps=[(&#x27;simpleimputer&#x27;,\n",
              "                                                                                          SimpleImputer(strategy=&#x27;mos...\n",
              "                                                                                          OrdinalEncoder(categories=[[&#x27;low&#x27;,\n",
              "                                                                                                                      &#x27;normal&#x27;,\n",
              "                                                                                                                      &#x27;high&#x27;],\n",
              "                                                                                                                     [&#x27;normal&#x27;,\n",
              "                                                                                                                      &#x27;high&#x27;]],\n",
              "                                                                                                         handle_unknown=&#x27;use_encoded_value&#x27;,\n",
              "                                                                                                         unknown_value=-1)),\n",
              "                                                                                         (&#x27;standardscaler&#x27;,\n",
              "                                                                                          StandardScaler())]),\n",
              "                                                                         [&#x27;BP&#x27;,\n",
              "                                                                          &#x27;Cholesterol&#x27;])])),\n",
              "                                       (&#x27;kneighborsclassifier&#x27;,\n",
              "                                        KNeighborsClassifier())]),\n",
              "             param_grid={&#x27;kneighborsclassifier__n_neighbors&#x27;: range(1, 15),\n",
              "                         &#x27;kneighborsclassifier__weights&#x27;: [&#x27;distance&#x27;,\n",
              "                                                           &#x27;uniform&#x27;]})</pre><b>In a Jupyter environment, please rerun this cell to show the HTML representation or trust the notebook. <br />On GitHub, the HTML representation is unable to render, please try loading this page with nbviewer.org.</b></div><div class=\"sk-container\" hidden><div class=\"sk-item sk-dashed-wrapped\"><div class=\"sk-label-container\"><div class=\"sk-label sk-toggleable\"><input class=\"sk-toggleable__control sk-hidden--visually\" id=\"sk-estimator-id-389\" type=\"checkbox\" ><label for=\"sk-estimator-id-389\" class=\"sk-toggleable__label sk-toggleable__label-arrow\">GridSearchCV</label><div class=\"sk-toggleable__content\"><pre>GridSearchCV(estimator=Pipeline(steps=[(&#x27;columntransformer&#x27;,\n",
              "                                        ColumnTransformer(transformers=[(&#x27;pipeline-1&#x27;,\n",
              "                                                                         Pipeline(steps=[(&#x27;simpleimputer&#x27;,\n",
              "                                                                                          SimpleImputer()),\n",
              "                                                                                         (&#x27;standardscaler&#x27;,\n",
              "                                                                                          StandardScaler())]),\n",
              "                                                                         &lt;sklearn.compose._column_transformer.make_column_selector object at 0x7fb95b446260&gt;),\n",
              "                                                                        (&#x27;pipeline-2&#x27;,\n",
              "                                                                         Pipeline(steps=[(&#x27;simpleimputer&#x27;,\n",
              "                                                                                          SimpleImputer(strategy=&#x27;mos...\n",
              "                                                                                          OrdinalEncoder(categories=[[&#x27;low&#x27;,\n",
              "                                                                                                                      &#x27;normal&#x27;,\n",
              "                                                                                                                      &#x27;high&#x27;],\n",
              "                                                                                                                     [&#x27;normal&#x27;,\n",
              "                                                                                                                      &#x27;high&#x27;]],\n",
              "                                                                                                         handle_unknown=&#x27;use_encoded_value&#x27;,\n",
              "                                                                                                         unknown_value=-1)),\n",
              "                                                                                         (&#x27;standardscaler&#x27;,\n",
              "                                                                                          StandardScaler())]),\n",
              "                                                                         [&#x27;BP&#x27;,\n",
              "                                                                          &#x27;Cholesterol&#x27;])])),\n",
              "                                       (&#x27;kneighborsclassifier&#x27;,\n",
              "                                        KNeighborsClassifier())]),\n",
              "             param_grid={&#x27;kneighborsclassifier__n_neighbors&#x27;: range(1, 15),\n",
              "                         &#x27;kneighborsclassifier__weights&#x27;: [&#x27;distance&#x27;,\n",
              "                                                           &#x27;uniform&#x27;]})</pre></div></div></div><div class=\"sk-parallel\"><div class=\"sk-parallel-item\"><div class=\"sk-item\"><div class=\"sk-label-container\"><div class=\"sk-label sk-toggleable\"><input class=\"sk-toggleable__control sk-hidden--visually\" id=\"sk-estimator-id-390\" type=\"checkbox\" ><label for=\"sk-estimator-id-390\" class=\"sk-toggleable__label sk-toggleable__label-arrow\">estimator: Pipeline</label><div class=\"sk-toggleable__content\"><pre>Pipeline(steps=[(&#x27;columntransformer&#x27;,\n",
              "                 ColumnTransformer(transformers=[(&#x27;pipeline-1&#x27;,\n",
              "                                                  Pipeline(steps=[(&#x27;simpleimputer&#x27;,\n",
              "                                                                   SimpleImputer()),\n",
              "                                                                  (&#x27;standardscaler&#x27;,\n",
              "                                                                   StandardScaler())]),\n",
              "                                                  &lt;sklearn.compose._column_transformer.make_column_selector object at 0x7fb95b446260&gt;),\n",
              "                                                 (&#x27;pipeline-2&#x27;,\n",
              "                                                  Pipeline(steps=[(&#x27;simpleimputer&#x27;,\n",
              "                                                                   SimpleImputer(strategy=&#x27;most_frequent&#x27;)),\n",
              "                                                                  (&#x27;ordinalencoder&#x27;,\n",
              "                                                                   OrdinalEncoder(categories=[[&#x27;low&#x27;,\n",
              "                                                                                               &#x27;normal&#x27;,\n",
              "                                                                                               &#x27;high&#x27;],\n",
              "                                                                                              [&#x27;normal&#x27;,\n",
              "                                                                                               &#x27;high&#x27;]],\n",
              "                                                                                  handle_unknown=&#x27;use_encoded_value&#x27;,\n",
              "                                                                                  unknown_value=-1)),\n",
              "                                                                  (&#x27;standardscaler&#x27;,\n",
              "                                                                   StandardScaler())]),\n",
              "                                                  [&#x27;BP&#x27;, &#x27;Cholesterol&#x27;])])),\n",
              "                (&#x27;kneighborsclassifier&#x27;, KNeighborsClassifier())])</pre></div></div></div><div class=\"sk-serial\"><div class=\"sk-item\"><div class=\"sk-serial\"><div class=\"sk-item sk-dashed-wrapped\"><div class=\"sk-label-container\"><div class=\"sk-label sk-toggleable\"><input class=\"sk-toggleable__control sk-hidden--visually\" id=\"sk-estimator-id-391\" type=\"checkbox\" ><label for=\"sk-estimator-id-391\" class=\"sk-toggleable__label sk-toggleable__label-arrow\">columntransformer: ColumnTransformer</label><div class=\"sk-toggleable__content\"><pre>ColumnTransformer(transformers=[(&#x27;pipeline-1&#x27;,\n",
              "                                 Pipeline(steps=[(&#x27;simpleimputer&#x27;,\n",
              "                                                  SimpleImputer()),\n",
              "                                                 (&#x27;standardscaler&#x27;,\n",
              "                                                  StandardScaler())]),\n",
              "                                 &lt;sklearn.compose._column_transformer.make_column_selector object at 0x7fb95b446260&gt;),\n",
              "                                (&#x27;pipeline-2&#x27;,\n",
              "                                 Pipeline(steps=[(&#x27;simpleimputer&#x27;,\n",
              "                                                  SimpleImputer(strategy=&#x27;most_frequent&#x27;)),\n",
              "                                                 (&#x27;ordinalencoder&#x27;,\n",
              "                                                  OrdinalEncoder(categories=[[&#x27;low&#x27;,\n",
              "                                                                              &#x27;normal&#x27;,\n",
              "                                                                              &#x27;high&#x27;],\n",
              "                                                                             [&#x27;normal&#x27;,\n",
              "                                                                              &#x27;high&#x27;]],\n",
              "                                                                 handle_unknown=&#x27;use_encoded_value&#x27;,\n",
              "                                                                 unknown_value=-1)),\n",
              "                                                 (&#x27;standardscaler&#x27;,\n",
              "                                                  StandardScaler())]),\n",
              "                                 [&#x27;BP&#x27;, &#x27;Cholesterol&#x27;])])</pre></div></div></div><div class=\"sk-parallel\"><div class=\"sk-parallel-item\"><div class=\"sk-item\"><div class=\"sk-label-container\"><div class=\"sk-label sk-toggleable\"><input class=\"sk-toggleable__control sk-hidden--visually\" id=\"sk-estimator-id-392\" type=\"checkbox\" ><label for=\"sk-estimator-id-392\" class=\"sk-toggleable__label sk-toggleable__label-arrow\">pipeline-1</label><div class=\"sk-toggleable__content\"><pre>&lt;sklearn.compose._column_transformer.make_column_selector object at 0x7fb95b446260&gt;</pre></div></div></div><div class=\"sk-serial\"><div class=\"sk-item\"><div class=\"sk-serial\"><div class=\"sk-item\"><div class=\"sk-estimator sk-toggleable\"><input class=\"sk-toggleable__control sk-hidden--visually\" id=\"sk-estimator-id-393\" type=\"checkbox\" ><label for=\"sk-estimator-id-393\" class=\"sk-toggleable__label sk-toggleable__label-arrow\">SimpleImputer</label><div class=\"sk-toggleable__content\"><pre>SimpleImputer()</pre></div></div></div><div class=\"sk-item\"><div class=\"sk-estimator sk-toggleable\"><input class=\"sk-toggleable__control sk-hidden--visually\" id=\"sk-estimator-id-394\" type=\"checkbox\" ><label for=\"sk-estimator-id-394\" class=\"sk-toggleable__label sk-toggleable__label-arrow\">StandardScaler</label><div class=\"sk-toggleable__content\"><pre>StandardScaler()</pre></div></div></div></div></div></div></div></div><div class=\"sk-parallel-item\"><div class=\"sk-item\"><div class=\"sk-label-container\"><div class=\"sk-label sk-toggleable\"><input class=\"sk-toggleable__control sk-hidden--visually\" id=\"sk-estimator-id-395\" type=\"checkbox\" ><label for=\"sk-estimator-id-395\" class=\"sk-toggleable__label sk-toggleable__label-arrow\">pipeline-2</label><div class=\"sk-toggleable__content\"><pre>[&#x27;BP&#x27;, &#x27;Cholesterol&#x27;]</pre></div></div></div><div class=\"sk-serial\"><div class=\"sk-item\"><div class=\"sk-serial\"><div class=\"sk-item\"><div class=\"sk-estimator sk-toggleable\"><input class=\"sk-toggleable__control sk-hidden--visually\" id=\"sk-estimator-id-396\" type=\"checkbox\" ><label for=\"sk-estimator-id-396\" class=\"sk-toggleable__label sk-toggleable__label-arrow\">SimpleImputer</label><div class=\"sk-toggleable__content\"><pre>SimpleImputer(strategy=&#x27;most_frequent&#x27;)</pre></div></div></div><div class=\"sk-item\"><div class=\"sk-estimator sk-toggleable\"><input class=\"sk-toggleable__control sk-hidden--visually\" id=\"sk-estimator-id-397\" type=\"checkbox\" ><label for=\"sk-estimator-id-397\" class=\"sk-toggleable__label sk-toggleable__label-arrow\">OrdinalEncoder</label><div class=\"sk-toggleable__content\"><pre>OrdinalEncoder(categories=[[&#x27;low&#x27;, &#x27;normal&#x27;, &#x27;high&#x27;], [&#x27;normal&#x27;, &#x27;high&#x27;]],\n",
              "               handle_unknown=&#x27;use_encoded_value&#x27;, unknown_value=-1)</pre></div></div></div><div class=\"sk-item\"><div class=\"sk-estimator sk-toggleable\"><input class=\"sk-toggleable__control sk-hidden--visually\" id=\"sk-estimator-id-398\" type=\"checkbox\" ><label for=\"sk-estimator-id-398\" class=\"sk-toggleable__label sk-toggleable__label-arrow\">StandardScaler</label><div class=\"sk-toggleable__content\"><pre>StandardScaler()</pre></div></div></div></div></div></div></div></div></div></div><div class=\"sk-item\"><div class=\"sk-estimator sk-toggleable\"><input class=\"sk-toggleable__control sk-hidden--visually\" id=\"sk-estimator-id-399\" type=\"checkbox\" ><label for=\"sk-estimator-id-399\" class=\"sk-toggleable__label sk-toggleable__label-arrow\">KNeighborsClassifier</label><div class=\"sk-toggleable__content\"><pre>KNeighborsClassifier()</pre></div></div></div></div></div></div></div></div></div></div></div></div>"
            ]
          },
          "metadata": {},
          "execution_count": 458
        }
      ]
    },
    {
      "cell_type": "code",
      "source": [
        "knn_gs.best_params_"
      ],
      "metadata": {
        "colab": {
          "base_uri": "https://localhost:8080/"
        },
        "id": "_3W7o2AKLCV6",
        "outputId": "ca10396a-8dd0-41e4-e4aa-a527bf24a0e1"
      },
      "execution_count": 459,
      "outputs": [
        {
          "output_type": "execute_result",
          "data": {
            "text/plain": [
              "{'kneighborsclassifier__n_neighbors': 2,\n",
              " 'kneighborsclassifier__weights': 'uniform'}"
            ]
          },
          "metadata": {},
          "execution_count": 459
        }
      ]
    },
    {
      "cell_type": "code",
      "source": [
        "knn_gs.best_score_"
      ],
      "metadata": {
        "colab": {
          "base_uri": "https://localhost:8080/"
        },
        "id": "Rd-9EdGvLIru",
        "outputId": "ada6158c-b046-4547-b224-302a7fa3f182"
      },
      "execution_count": 460,
      "outputs": [
        {
          "output_type": "execute_result",
          "data": {
            "text/plain": [
              "0.919047619047619"
            ]
          },
          "metadata": {},
          "execution_count": 460
        }
      ]
    },
    {
      "cell_type": "code",
      "source": [
        "best_knn = knn_gs.best_estimator_"
      ],
      "metadata": {
        "id": "1AfSz8avLLL5"
      },
      "execution_count": 461,
      "outputs": []
    },
    {
      "cell_type": "code",
      "source": [
        "#check the best parameter\n",
        "# Instantiate and fit GridSearchCV\n",
        "train_preds = best_knn.predict(X_train)\n",
        "test_preds = best_knn.predict(X_test)"
      ],
      "metadata": {
        "id": "QJP5aIPaLOAe"
      },
      "execution_count": 462,
      "outputs": []
    },
    {
      "cell_type": "code",
      "source": [
        "print('Train\\n', classification_report(y_train, train_preds))\n",
        "print('Test\\n', classification_report(y_test, test_preds))"
      ],
      "metadata": {
        "colab": {
          "base_uri": "https://localhost:8080/"
        },
        "id": "DVyzhjazLTDP",
        "outputId": "42728b05-0d56-4d61-a20e-7ff42348cbb3"
      },
      "execution_count": 463,
      "outputs": [
        {
          "output_type": "stream",
          "name": "stdout",
          "text": [
            "Train\n",
            "               precision    recall  f1-score   support\n",
            "\n",
            "       drugQ       0.90      1.00      0.95       100\n",
            "       drugZ       1.00      0.90      0.95       110\n",
            "\n",
            "    accuracy                           0.95       210\n",
            "   macro avg       0.95      0.95      0.95       210\n",
            "weighted avg       0.95      0.95      0.95       210\n",
            "\n",
            "Test\n",
            "               precision    recall  f1-score   support\n",
            "\n",
            "       drugQ       0.92      0.97      0.94        34\n",
            "       drugZ       0.97      0.92      0.94        37\n",
            "\n",
            "    accuracy                           0.94        71\n",
            "   macro avg       0.94      0.94      0.94        71\n",
            "weighted avg       0.95      0.94      0.94        71\n",
            "\n"
          ]
        }
      ]
    },
    {
      "cell_type": "code",
      "source": [
        "# Check the class balance again to help us choose a metric\n",
        "# Display the test and training Confusion Matrix\n",
        "fig, axes = plt.subplots(ncols=2, figsize=(10,5))\n",
        "\n",
        "ConfusionMatrixDisplay.from_predictions(y_train, train_preds,\n",
        "                                        ax=axes[0], cmap='Blues',normalize='true')\n",
        "\n",
        "axes[0].set_title('Train CM')\n",
        "ConfusionMatrixDisplay.from_predictions(y_test, test_preds,\n",
        "                                        ax=axes[1], cmap='Greens',normalize='true')\n",
        "\n",
        "axes[1].set_title('Test CM')"
      ],
      "metadata": {
        "colab": {
          "base_uri": "https://localhost:8080/",
          "height": 453
        },
        "id": "_EwVFl-XLdMS",
        "outputId": "a1f4b401-fc3e-4dd9-cc21-6936ac29c78a"
      },
      "execution_count": 464,
      "outputs": [
        {
          "output_type": "execute_result",
          "data": {
            "text/plain": [
              "Text(0.5, 1.0, 'Test CM')"
            ]
          },
          "metadata": {},
          "execution_count": 464
        },
        {
          "output_type": "display_data",
          "data": {
            "text/plain": [
              "<Figure size 1000x500 with 4 Axes>"
            ],
            "image/png": "[encoded data removed]"
          },
          "metadata": {}
        }
      ]
    },
    {
      "cell_type": "markdown",
      "source": [
        "### **Decision Tree Classifier**"
      ],
      "metadata": {
        "id": "VE7rhMQxLn1G"
      }
    },
    {
      "cell_type": "code",
      "source": [
        "dt = DecisionTreeClassifier()\n",
        "\n",
        "dt_pipe = make_pipeline(preprocessor, dt)\n",
        "\n",
        "dt_pipe.fit(X_train, y_train)"
      ],
      "metadata": {
        "colab": {
          "base_uri": "https://localhost:8080/",
          "height": 259
        },
        "id": "t727XzhALrxz",
        "outputId": "0342d0b6-e488-4477-a971-197f1e0da4ed"
      },
      "execution_count": 465,
      "outputs": [
        {
          "output_type": "execute_result",
          "data": {
            "text/plain": [
              "Pipeline(steps=[('columntransformer',\n",
              "                 ColumnTransformer(transformers=[('pipeline-1',\n",
              "                                                  Pipeline(steps=[('simpleimputer',\n",
              "                                                                   SimpleImputer()),\n",
              "                                                                  ('standardscaler',\n",
              "                                                                   StandardScaler())]),\n",
              "                                                  <sklearn.compose._column_transformer.make_column_selector object at 0x7fb95b446260>),\n",
              "                                                 ('pipeline-2',\n",
              "                                                  Pipeline(steps=[('simpleimputer',\n",
              "                                                                   SimpleImputer(strategy='most_frequent')),\n",
              "                                                                  ('ordinalencoder',\n",
              "                                                                   OrdinalEncoder(categories=[['low',\n",
              "                                                                                               'normal',\n",
              "                                                                                               'high'],\n",
              "                                                                                              ['normal',\n",
              "                                                                                               'high']],\n",
              "                                                                                  handle_unknown='use_encoded_value',\n",
              "                                                                                  unknown_value=-1)),\n",
              "                                                                  ('standardscaler',\n",
              "                                                                   StandardScaler())]),\n",
              "                                                  ['BP', 'Cholesterol'])])),\n",
              "                ('decisiontreeclassifier', DecisionTreeClassifier())])"
            ],
            "text/html": [
              "<style>#sk-container-id-40 {color: black;background-color: white;}#sk-container-id-40 pre{padding: 0;}#sk-container-id-40 div.sk-toggleable {background-color: white;}#sk-container-id-40 label.sk-toggleable__label {cursor: pointer;display: block;width: 100%;margin-bottom: 0;padding: 0.3em;box-sizing: border-box;text-align: center;}#sk-container-id-40 label.sk-toggleable__label-arrow:before {content: \"▸\";float: left;margin-right: 0.25em;color: #696969;}#sk-container-id-40 label.sk-toggleable__label-arrow:hover:before {color: black;}#sk-container-id-40 div.sk-estimator:hover label.sk-toggleable__label-arrow:before {color: black;}#sk-container-id-40 div.sk-toggleable__content {max-height: 0;max-width: 0;overflow: hidden;text-align: left;background-color: #f0f8ff;}#sk-container-id-40 div.sk-toggleable__content pre {margin: 0.2em;color: black;border-radius: 0.25em;background-color: #f0f8ff;}#sk-container-id-40 input.sk-toggleable__control:checked~div.sk-toggleable__content {max-height: 200px;max-width: 100%;overflow: auto;}#sk-container-id-40 input.sk-toggleable__control:checked~label.sk-toggleable__label-arrow:before {content: \"▾\";}#sk-container-id-40 div.sk-estimator input.sk-toggleable__control:checked~label.sk-toggleable__label {background-color: #d4ebff;}#sk-container-id-40 div.sk-label input.sk-toggleable__control:checked~label.sk-toggleable__label {background-color: #d4ebff;}#sk-container-id-40 input.sk-hidden--visually {border: 0;clip: rect(1px 1px 1px 1px);clip: rect(1px, 1px, 1px, 1px);height: 1px;margin: -1px;overflow: hidden;padding: 0;position: absolute;width: 1px;}#sk-container-id-40 div.sk-estimator {font-family: monospace;background-color: #f0f8ff;border: 1px dotted black;border-radius: 0.25em;box-sizing: border-box;margin-bottom: 0.5em;}#sk-container-id-40 div.sk-estimator:hover {background-color: #d4ebff;}#sk-container-id-40 div.sk-parallel-item::after {content: \"\";width: 100%;border-bottom: 1px solid gray;flex-grow: 1;}#sk-container-id-40 div.sk-label:hover label.sk-toggleable__label {background-color: #d4ebff;}#sk-container-id-40 div.sk-serial::before {content: \"\";position: absolute;border-left: 1px solid gray;box-sizing: border-box;top: 0;bottom: 0;left: 50%;z-index: 0;}#sk-container-id-40 div.sk-serial {display: flex;flex-direction: column;align-items: center;background-color: white;padding-right: 0.2em;padding-left: 0.2em;position: relative;}#sk-container-id-40 div.sk-item {position: relative;z-index: 1;}#sk-container-id-40 div.sk-parallel {display: flex;align-items: stretch;justify-content: center;background-color: white;position: relative;}#sk-container-id-40 div.sk-item::before, #sk-container-id-40 div.sk-parallel-item::before {content: \"\";position: absolute;border-left: 1px solid gray;box-sizing: border-box;top: 0;bottom: 0;left: 50%;z-index: -1;}#sk-container-id-40 div.sk-parallel-item {display: flex;flex-direction: column;z-index: 1;position: relative;background-color: white;}#sk-container-id-40 div.sk-parallel-item:first-child::after {align-self: flex-end;width: 50%;}#sk-container-id-40 div.sk-parallel-item:last-child::after {align-self: flex-start;width: 50%;}#sk-container-id-40 div.sk-parallel-item:only-child::after {width: 0;}#sk-container-id-40 div.sk-dashed-wrapped {border: 1px dashed gray;margin: 0 0.4em 0.5em 0.4em;box-sizing: border-box;padding-bottom: 0.4em;background-color: white;}#sk-container-id-40 div.sk-label label {font-family: monospace;font-weight: bold;display: inline-block;line-height: 1.2em;}#sk-container-id-40 div.sk-label-container {text-align: center;}#sk-container-id-40 div.sk-container {/* jupyter's `normalize.less` sets `[hidden] { display: none; }` but bootstrap.min.css set `[hidden] { display: none !important; }` so we also need the `!important` here to be able to override the default hidden behavior on the sphinx rendered scikit-learn.org. See: https://github.com/scikit-learn/scikit-learn/issues/21755 */display: inline-block !important;position: relative;}#sk-container-id-40 div.sk-text-repr-fallback {display: none;}</style><div id=\"sk-container-id-40\" class=\"sk-top-container\"><div class=\"sk-text-repr-fallback\"><pre>Pipeline(steps=[(&#x27;columntransformer&#x27;,\n",
              "                 ColumnTransformer(transformers=[(&#x27;pipeline-1&#x27;,\n",
              "                                                  Pipeline(steps=[(&#x27;simpleimputer&#x27;,\n",
              "                                                                   SimpleImputer()),\n",
              "                                                                  (&#x27;standardscaler&#x27;,\n",
              "                                                                   StandardScaler())]),\n",
              "                                                  &lt;sklearn.compose._column_transformer.make_column_selector object at 0x7fb95b446260&gt;),\n",
              "                                                 (&#x27;pipeline-2&#x27;,\n",
              "                                                  Pipeline(steps=[(&#x27;simpleimputer&#x27;,\n",
              "                                                                   SimpleImputer(strategy=&#x27;most_frequent&#x27;)),\n",
              "                                                                  (&#x27;ordinalencoder&#x27;,\n",
              "                                                                   OrdinalEncoder(categories=[[&#x27;low&#x27;,\n",
              "                                                                                               &#x27;normal&#x27;,\n",
              "                                                                                               &#x27;high&#x27;],\n",
              "                                                                                              [&#x27;normal&#x27;,\n",
              "                                                                                               &#x27;high&#x27;]],\n",
              "                                                                                  handle_unknown=&#x27;use_encoded_value&#x27;,\n",
              "                                                                                  unknown_value=-1)),\n",
              "                                                                  (&#x27;standardscaler&#x27;,\n",
              "                                                                   StandardScaler())]),\n",
              "                                                  [&#x27;BP&#x27;, &#x27;Cholesterol&#x27;])])),\n",
              "                (&#x27;decisiontreeclassifier&#x27;, DecisionTreeClassifier())])</pre><b>In a Jupyter environment, please rerun this cell to show the HTML representation or trust the notebook. <br />On GitHub, the HTML representation is unable to render, please try loading this page with nbviewer.org.</b></div><div class=\"sk-container\" hidden><div class=\"sk-item sk-dashed-wrapped\"><div class=\"sk-label-container\"><div class=\"sk-label sk-toggleable\"><input class=\"sk-toggleable__control sk-hidden--visually\" id=\"sk-estimator-id-400\" type=\"checkbox\" ><label for=\"sk-estimator-id-400\" class=\"sk-toggleable__label sk-toggleable__label-arrow\">Pipeline</label><div class=\"sk-toggleable__content\"><pre>Pipeline(steps=[(&#x27;columntransformer&#x27;,\n",
              "                 ColumnTransformer(transformers=[(&#x27;pipeline-1&#x27;,\n",
              "                                                  Pipeline(steps=[(&#x27;simpleimputer&#x27;,\n",
              "                                                                   SimpleImputer()),\n",
              "                                                                  (&#x27;standardscaler&#x27;,\n",
              "                                                                   StandardScaler())]),\n",
              "                                                  &lt;sklearn.compose._column_transformer.make_column_selector object at 0x7fb95b446260&gt;),\n",
              "                                                 (&#x27;pipeline-2&#x27;,\n",
              "                                                  Pipeline(steps=[(&#x27;simpleimputer&#x27;,\n",
              "                                                                   SimpleImputer(strategy=&#x27;most_frequent&#x27;)),\n",
              "                                                                  (&#x27;ordinalencoder&#x27;,\n",
              "                                                                   OrdinalEncoder(categories=[[&#x27;low&#x27;,\n",
              "                                                                                               &#x27;normal&#x27;,\n",
              "                                                                                               &#x27;high&#x27;],\n",
              "                                                                                              [&#x27;normal&#x27;,\n",
              "                                                                                               &#x27;high&#x27;]],\n",
              "                                                                                  handle_unknown=&#x27;use_encoded_value&#x27;,\n",
              "                                                                                  unknown_value=-1)),\n",
              "                                                                  (&#x27;standardscaler&#x27;,\n",
              "                                                                   StandardScaler())]),\n",
              "                                                  [&#x27;BP&#x27;, &#x27;Cholesterol&#x27;])])),\n",
              "                (&#x27;decisiontreeclassifier&#x27;, DecisionTreeClassifier())])</pre></div></div></div><div class=\"sk-serial\"><div class=\"sk-item sk-dashed-wrapped\"><div class=\"sk-label-container\"><div class=\"sk-label sk-toggleable\"><input class=\"sk-toggleable__control sk-hidden--visually\" id=\"sk-estimator-id-401\" type=\"checkbox\" ><label for=\"sk-estimator-id-401\" class=\"sk-toggleable__label sk-toggleable__label-arrow\">columntransformer: ColumnTransformer</label><div class=\"sk-toggleable__content\"><pre>ColumnTransformer(transformers=[(&#x27;pipeline-1&#x27;,\n",
              "                                 Pipeline(steps=[(&#x27;simpleimputer&#x27;,\n",
              "                                                  SimpleImputer()),\n",
              "                                                 (&#x27;standardscaler&#x27;,\n",
              "                                                  StandardScaler())]),\n",
              "                                 &lt;sklearn.compose._column_transformer.make_column_selector object at 0x7fb95b446260&gt;),\n",
              "                                (&#x27;pipeline-2&#x27;,\n",
              "                                 Pipeline(steps=[(&#x27;simpleimputer&#x27;,\n",
              "                                                  SimpleImputer(strategy=&#x27;most_frequent&#x27;)),\n",
              "                                                 (&#x27;ordinalencoder&#x27;,\n",
              "                                                  OrdinalEncoder(categories=[[&#x27;low&#x27;,\n",
              "                                                                              &#x27;normal&#x27;,\n",
              "                                                                              &#x27;high&#x27;],\n",
              "                                                                             [&#x27;normal&#x27;,\n",
              "                                                                              &#x27;high&#x27;]],\n",
              "                                                                 handle_unknown=&#x27;use_encoded_value&#x27;,\n",
              "                                                                 unknown_value=-1)),\n",
              "                                                 (&#x27;standardscaler&#x27;,\n",
              "                                                  StandardScaler())]),\n",
              "                                 [&#x27;BP&#x27;, &#x27;Cholesterol&#x27;])])</pre></div></div></div><div class=\"sk-parallel\"><div class=\"sk-parallel-item\"><div class=\"sk-item\"><div class=\"sk-label-container\"><div class=\"sk-label sk-toggleable\"><input class=\"sk-toggleable__control sk-hidden--visually\" id=\"sk-estimator-id-402\" type=\"checkbox\" ><label for=\"sk-estimator-id-402\" class=\"sk-toggleable__label sk-toggleable__label-arrow\">pipeline-1</label><div class=\"sk-toggleable__content\"><pre>&lt;sklearn.compose._column_transformer.make_column_selector object at 0x7fb95b446260&gt;</pre></div></div></div><div class=\"sk-serial\"><div class=\"sk-item\"><div class=\"sk-serial\"><div class=\"sk-item\"><div class=\"sk-estimator sk-toggleable\"><input class=\"sk-toggleable__control sk-hidden--visually\" id=\"sk-estimator-id-403\" type=\"checkbox\" ><label for=\"sk-estimator-id-403\" class=\"sk-toggleable__label sk-toggleable__label-arrow\">SimpleImputer</label><div class=\"sk-toggleable__content\"><pre>SimpleImputer()</pre></div></div></div><div class=\"sk-item\"><div class=\"sk-estimator sk-toggleable\"><input class=\"sk-toggleable__control sk-hidden--visually\" id=\"sk-estimator-id-404\" type=\"checkbox\" ><label for=\"sk-estimator-id-404\" class=\"sk-toggleable__label sk-toggleable__label-arrow\">StandardScaler</label><div class=\"sk-toggleable__content\"><pre>StandardScaler()</pre></div></div></div></div></div></div></div></div><div class=\"sk-parallel-item\"><div class=\"sk-item\"><div class=\"sk-label-container\"><div class=\"sk-label sk-toggleable\"><input class=\"sk-toggleable__control sk-hidden--visually\" id=\"sk-estimator-id-405\" type=\"checkbox\" ><label for=\"sk-estimator-id-405\" class=\"sk-toggleable__label sk-toggleable__label-arrow\">pipeline-2</label><div class=\"sk-toggleable__content\"><pre>[&#x27;BP&#x27;, &#x27;Cholesterol&#x27;]</pre></div></div></div><div class=\"sk-serial\"><div class=\"sk-item\"><div class=\"sk-serial\"><div class=\"sk-item\"><div class=\"sk-estimator sk-toggleable\"><input class=\"sk-toggleable__control sk-hidden--visually\" id=\"sk-estimator-id-406\" type=\"checkbox\" ><label for=\"sk-estimator-id-406\" class=\"sk-toggleable__label sk-toggleable__label-arrow\">SimpleImputer</label><div class=\"sk-toggleable__content\"><pre>SimpleImputer(strategy=&#x27;most_frequent&#x27;)</pre></div></div></div><div class=\"sk-item\"><div class=\"sk-estimator sk-toggleable\"><input class=\"sk-toggleable__control sk-hidden--visually\" id=\"sk-estimator-id-407\" type=\"checkbox\" ><label for=\"sk-estimator-id-407\" class=\"sk-toggleable__label sk-toggleable__label-arrow\">OrdinalEncoder</label><div class=\"sk-toggleable__content\"><pre>OrdinalEncoder(categories=[[&#x27;low&#x27;, &#x27;normal&#x27;, &#x27;high&#x27;], [&#x27;normal&#x27;, &#x27;high&#x27;]],\n",
              "               handle_unknown=&#x27;use_encoded_value&#x27;, unknown_value=-1)</pre></div></div></div><div class=\"sk-item\"><div class=\"sk-estimator sk-toggleable\"><input class=\"sk-toggleable__control sk-hidden--visually\" id=\"sk-estimator-id-408\" type=\"checkbox\" ><label for=\"sk-estimator-id-408\" class=\"sk-toggleable__label sk-toggleable__label-arrow\">StandardScaler</label><div class=\"sk-toggleable__content\"><pre>StandardScaler()</pre></div></div></div></div></div></div></div></div></div></div><div class=\"sk-item\"><div class=\"sk-estimator sk-toggleable\"><input class=\"sk-toggleable__control sk-hidden--visually\" id=\"sk-estimator-id-409\" type=\"checkbox\" ><label for=\"sk-estimator-id-409\" class=\"sk-toggleable__label sk-toggleable__label-arrow\">DecisionTreeClassifier</label><div class=\"sk-toggleable__content\"><pre>DecisionTreeClassifier()</pre></div></div></div></div></div></div></div>"
            ]
          },
          "metadata": {},
          "execution_count": 465
        }
      ]
    },
    {
      "cell_type": "markdown",
      "source": [
        "### **Decision Tree Model Evaluation**"
      ],
      "metadata": {
        "id": "srSeUvVzLzEa"
      }
    },
    {
      "cell_type": "code",
      "source": [
        "train_preds = dt_pipe.predict(X_train)\n",
        "test_preds = dt_pipe.predict(X_test)\n",
        "\n",
        "print('train')\n",
        "print(classification_report(y_train, train_preds))\n",
        "\n",
        "print('test')\n",
        "print(classification_report(y_test, test_preds))"
      ],
      "metadata": {
        "colab": {
          "base_uri": "https://localhost:8080/"
        },
        "id": "BAaAy9-VLzwv",
        "outputId": "4401d62f-44d1-4e77-ee6a-f8195c680d51"
      },
      "execution_count": 466,
      "outputs": [
        {
          "output_type": "stream",
          "name": "stdout",
          "text": [
            "train\n",
            "              precision    recall  f1-score   support\n",
            "\n",
            "       drugQ       1.00      1.00      1.00       100\n",
            "       drugZ       1.00      1.00      1.00       110\n",
            "\n",
            "    accuracy                           1.00       210\n",
            "   macro avg       1.00      1.00      1.00       210\n",
            "weighted avg       1.00      1.00      1.00       210\n",
            "\n",
            "test\n",
            "              precision    recall  f1-score   support\n",
            "\n",
            "       drugQ       0.94      0.91      0.93        34\n",
            "       drugZ       0.92      0.95      0.93        37\n",
            "\n",
            "    accuracy                           0.93        71\n",
            "   macro avg       0.93      0.93      0.93        71\n",
            "weighted avg       0.93      0.93      0.93        71\n",
            "\n"
          ]
        }
      ]
    },
    {
      "cell_type": "markdown",
      "source": [
        "### **Logistical Regression**"
      ],
      "metadata": {
        "id": "bTTCoP74MKwd"
      }
    },
    {
      "cell_type": "code",
      "source": [
        "lr = LogisticRegression(random_state =42)\n",
        "lr_pipe = make_pipeline(preprocessor, lr)\n",
        "lr_pipe.fit(X_train,y_train)"
      ],
      "metadata": {
        "colab": {
          "base_uri": "https://localhost:8080/",
          "height": 259
        },
        "id": "YvT0sMqjL_Iu",
        "outputId": "248793de-6dce-495f-ef87-c846bffeeb5b"
      },
      "execution_count": 467,
      "outputs": [
        {
          "output_type": "execute_result",
          "data": {
            "text/plain": [
              "Pipeline(steps=[('columntransformer',\n",
              "                 ColumnTransformer(transformers=[('pipeline-1',\n",
              "                                                  Pipeline(steps=[('simpleimputer',\n",
              "                                                                   SimpleImputer()),\n",
              "                                                                  ('standardscaler',\n",
              "                                                                   StandardScaler())]),\n",
              "                                                  <sklearn.compose._column_transformer.make_column_selector object at 0x7fb95b446260>),\n",
              "                                                 ('pipeline-2',\n",
              "                                                  Pipeline(steps=[('simpleimputer',\n",
              "                                                                   SimpleImputer(strategy='most_frequent')),\n",
              "                                                                  ('ordinalencoder',\n",
              "                                                                   OrdinalEncoder(categories=[['low',\n",
              "                                                                                               'normal',\n",
              "                                                                                               'high'],\n",
              "                                                                                              ['normal',\n",
              "                                                                                               'high']],\n",
              "                                                                                  handle_unknown='use_encoded_value',\n",
              "                                                                                  unknown_value=-1)),\n",
              "                                                                  ('standardscaler',\n",
              "                                                                   StandardScaler())]),\n",
              "                                                  ['BP', 'Cholesterol'])])),\n",
              "                ('logisticregression', LogisticRegression(random_state=42))])"
            ],
            "text/html": [
              "<style>#sk-container-id-41 {color: black;background-color: white;}#sk-container-id-41 pre{padding: 0;}#sk-container-id-41 div.sk-toggleable {background-color: white;}#sk-container-id-41 label.sk-toggleable__label {cursor: pointer;display: block;width: 100%;margin-bottom: 0;padding: 0.3em;box-sizing: border-box;text-align: center;}#sk-container-id-41 label.sk-toggleable__label-arrow:before {content: \"▸\";float: left;margin-right: 0.25em;color: #696969;}#sk-container-id-41 label.sk-toggleable__label-arrow:hover:before {color: black;}#sk-container-id-41 div.sk-estimator:hover label.sk-toggleable__label-arrow:before {color: black;}#sk-container-id-41 div.sk-toggleable__content {max-height: 0;max-width: 0;overflow: hidden;text-align: left;background-color: #f0f8ff;}#sk-container-id-41 div.sk-toggleable__content pre {margin: 0.2em;color: black;border-radius: 0.25em;background-color: #f0f8ff;}#sk-container-id-41 input.sk-toggleable__control:checked~div.sk-toggleable__content {max-height: 200px;max-width: 100%;overflow: auto;}#sk-container-id-41 input.sk-toggleable__control:checked~label.sk-toggleable__label-arrow:before {content: \"▾\";}#sk-container-id-41 div.sk-estimator input.sk-toggleable__control:checked~label.sk-toggleable__label {background-color: #d4ebff;}#sk-container-id-41 div.sk-label input.sk-toggleable__control:checked~label.sk-toggleable__label {background-color: #d4ebff;}#sk-container-id-41 input.sk-hidden--visually {border: 0;clip: rect(1px 1px 1px 1px);clip: rect(1px, 1px, 1px, 1px);height: 1px;margin: -1px;overflow: hidden;padding: 0;position: absolute;width: 1px;}#sk-container-id-41 div.sk-estimator {font-family: monospace;background-color: #f0f8ff;border: 1px dotted black;border-radius: 0.25em;box-sizing: border-box;margin-bottom: 0.5em;}#sk-container-id-41 div.sk-estimator:hover {background-color: #d4ebff;}#sk-container-id-41 div.sk-parallel-item::after {content: \"\";width: 100%;border-bottom: 1px solid gray;flex-grow: 1;}#sk-container-id-41 div.sk-label:hover label.sk-toggleable__label {background-color: #d4ebff;}#sk-container-id-41 div.sk-serial::before {content: \"\";position: absolute;border-left: 1px solid gray;box-sizing: border-box;top: 0;bottom: 0;left: 50%;z-index: 0;}#sk-container-id-41 div.sk-serial {display: flex;flex-direction: column;align-items: center;background-color: white;padding-right: 0.2em;padding-left: 0.2em;position: relative;}#sk-container-id-41 div.sk-item {position: relative;z-index: 1;}#sk-container-id-41 div.sk-parallel {display: flex;align-items: stretch;justify-content: center;background-color: white;position: relative;}#sk-container-id-41 div.sk-item::before, #sk-container-id-41 div.sk-parallel-item::before {content: \"\";position: absolute;border-left: 1px solid gray;box-sizing: border-box;top: 0;bottom: 0;left: 50%;z-index: -1;}#sk-container-id-41 div.sk-parallel-item {display: flex;flex-direction: column;z-index: 1;position: relative;background-color: white;}#sk-container-id-41 div.sk-parallel-item:first-child::after {align-self: flex-end;width: 50%;}#sk-container-id-41 div.sk-parallel-item:last-child::after {align-self: flex-start;width: 50%;}#sk-container-id-41 div.sk-parallel-item:only-child::after {width: 0;}#sk-container-id-41 div.sk-dashed-wrapped {border: 1px dashed gray;margin: 0 0.4em 0.5em 0.4em;box-sizing: border-box;padding-bottom: 0.4em;background-color: white;}#sk-container-id-41 div.sk-label label {font-family: monospace;font-weight: bold;display: inline-block;line-height: 1.2em;}#sk-container-id-41 div.sk-label-container {text-align: center;}#sk-container-id-41 div.sk-container {/* jupyter's `normalize.less` sets `[hidden] { display: none; }` but bootstrap.min.css set `[hidden] { display: none !important; }` so we also need the `!important` here to be able to override the default hidden behavior on the sphinx rendered scikit-learn.org. See: https://github.com/scikit-learn/scikit-learn/issues/21755 */display: inline-block !important;position: relative;}#sk-container-id-41 div.sk-text-repr-fallback {display: none;}</style><div id=\"sk-container-id-41\" class=\"sk-top-container\"><div class=\"sk-text-repr-fallback\"><pre>Pipeline(steps=[(&#x27;columntransformer&#x27;,\n",
              "                 ColumnTransformer(transformers=[(&#x27;pipeline-1&#x27;,\n",
              "                                                  Pipeline(steps=[(&#x27;simpleimputer&#x27;,\n",
              "                                                                   SimpleImputer()),\n",
              "                                                                  (&#x27;standardscaler&#x27;,\n",
              "                                                                   StandardScaler())]),\n",
              "                                                  &lt;sklearn.compose._column_transformer.make_column_selector object at 0x7fb95b446260&gt;),\n",
              "                                                 (&#x27;pipeline-2&#x27;,\n",
              "                                                  Pipeline(steps=[(&#x27;simpleimputer&#x27;,\n",
              "                                                                   SimpleImputer(strategy=&#x27;most_frequent&#x27;)),\n",
              "                                                                  (&#x27;ordinalencoder&#x27;,\n",
              "                                                                   OrdinalEncoder(categories=[[&#x27;low&#x27;,\n",
              "                                                                                               &#x27;normal&#x27;,\n",
              "                                                                                               &#x27;high&#x27;],\n",
              "                                                                                              [&#x27;normal&#x27;,\n",
              "                                                                                               &#x27;high&#x27;]],\n",
              "                                                                                  handle_unknown=&#x27;use_encoded_value&#x27;,\n",
              "                                                                                  unknown_value=-1)),\n",
              "                                                                  (&#x27;standardscaler&#x27;,\n",
              "                                                                   StandardScaler())]),\n",
              "                                                  [&#x27;BP&#x27;, &#x27;Cholesterol&#x27;])])),\n",
              "                (&#x27;logisticregression&#x27;, LogisticRegression(random_state=42))])</pre><b>In a Jupyter environment, please rerun this cell to show the HTML representation or trust the notebook. <br />On GitHub, the HTML representation is unable to render, please try loading this page with nbviewer.org.</b></div><div class=\"sk-container\" hidden><div class=\"sk-item sk-dashed-wrapped\"><div class=\"sk-label-container\"><div class=\"sk-label sk-toggleable\"><input class=\"sk-toggleable__control sk-hidden--visually\" id=\"sk-estimator-id-410\" type=\"checkbox\" ><label for=\"sk-estimator-id-410\" class=\"sk-toggleable__label sk-toggleable__label-arrow\">Pipeline</label><div class=\"sk-toggleable__content\"><pre>Pipeline(steps=[(&#x27;columntransformer&#x27;,\n",
              "                 ColumnTransformer(transformers=[(&#x27;pipeline-1&#x27;,\n",
              "                                                  Pipeline(steps=[(&#x27;simpleimputer&#x27;,\n",
              "                                                                   SimpleImputer()),\n",
              "                                                                  (&#x27;standardscaler&#x27;,\n",
              "                                                                   StandardScaler())]),\n",
              "                                                  &lt;sklearn.compose._column_transformer.make_column_selector object at 0x7fb95b446260&gt;),\n",
              "                                                 (&#x27;pipeline-2&#x27;,\n",
              "                                                  Pipeline(steps=[(&#x27;simpleimputer&#x27;,\n",
              "                                                                   SimpleImputer(strategy=&#x27;most_frequent&#x27;)),\n",
              "                                                                  (&#x27;ordinalencoder&#x27;,\n",
              "                                                                   OrdinalEncoder(categories=[[&#x27;low&#x27;,\n",
              "                                                                                               &#x27;normal&#x27;,\n",
              "                                                                                               &#x27;high&#x27;],\n",
              "                                                                                              [&#x27;normal&#x27;,\n",
              "                                                                                               &#x27;high&#x27;]],\n",
              "                                                                                  handle_unknown=&#x27;use_encoded_value&#x27;,\n",
              "                                                                                  unknown_value=-1)),\n",
              "                                                                  (&#x27;standardscaler&#x27;,\n",
              "                                                                   StandardScaler())]),\n",
              "                                                  [&#x27;BP&#x27;, &#x27;Cholesterol&#x27;])])),\n",
              "                (&#x27;logisticregression&#x27;, LogisticRegression(random_state=42))])</pre></div></div></div><div class=\"sk-serial\"><div class=\"sk-item sk-dashed-wrapped\"><div class=\"sk-label-container\"><div class=\"sk-label sk-toggleable\"><input class=\"sk-toggleable__control sk-hidden--visually\" id=\"sk-estimator-id-411\" type=\"checkbox\" ><label for=\"sk-estimator-id-411\" class=\"sk-toggleable__label sk-toggleable__label-arrow\">columntransformer: ColumnTransformer</label><div class=\"sk-toggleable__content\"><pre>ColumnTransformer(transformers=[(&#x27;pipeline-1&#x27;,\n",
              "                                 Pipeline(steps=[(&#x27;simpleimputer&#x27;,\n",
              "                                                  SimpleImputer()),\n",
              "                                                 (&#x27;standardscaler&#x27;,\n",
              "                                                  StandardScaler())]),\n",
              "                                 &lt;sklearn.compose._column_transformer.make_column_selector object at 0x7fb95b446260&gt;),\n",
              "                                (&#x27;pipeline-2&#x27;,\n",
              "                                 Pipeline(steps=[(&#x27;simpleimputer&#x27;,\n",
              "                                                  SimpleImputer(strategy=&#x27;most_frequent&#x27;)),\n",
              "                                                 (&#x27;ordinalencoder&#x27;,\n",
              "                                                  OrdinalEncoder(categories=[[&#x27;low&#x27;,\n",
              "                                                                              &#x27;normal&#x27;,\n",
              "                                                                              &#x27;high&#x27;],\n",
              "                                                                             [&#x27;normal&#x27;,\n",
              "                                                                              &#x27;high&#x27;]],\n",
              "                                                                 handle_unknown=&#x27;use_encoded_value&#x27;,\n",
              "                                                                 unknown_value=-1)),\n",
              "                                                 (&#x27;standardscaler&#x27;,\n",
              "                                                  StandardScaler())]),\n",
              "                                 [&#x27;BP&#x27;, &#x27;Cholesterol&#x27;])])</pre></div></div></div><div class=\"sk-parallel\"><div class=\"sk-parallel-item\"><div class=\"sk-item\"><div class=\"sk-label-container\"><div class=\"sk-label sk-toggleable\"><input class=\"sk-toggleable__control sk-hidden--visually\" id=\"sk-estimator-id-412\" type=\"checkbox\" ><label for=\"sk-estimator-id-412\" class=\"sk-toggleable__label sk-toggleable__label-arrow\">pipeline-1</label><div class=\"sk-toggleable__content\"><pre>&lt;sklearn.compose._column_transformer.make_column_selector object at 0x7fb95b446260&gt;</pre></div></div></div><div class=\"sk-serial\"><div class=\"sk-item\"><div class=\"sk-serial\"><div class=\"sk-item\"><div class=\"sk-estimator sk-toggleable\"><input class=\"sk-toggleable__control sk-hidden--visually\" id=\"sk-estimator-id-413\" type=\"checkbox\" ><label for=\"sk-estimator-id-413\" class=\"sk-toggleable__label sk-toggleable__label-arrow\">SimpleImputer</label><div class=\"sk-toggleable__content\"><pre>SimpleImputer()</pre></div></div></div><div class=\"sk-item\"><div class=\"sk-estimator sk-toggleable\"><input class=\"sk-toggleable__control sk-hidden--visually\" id=\"sk-estimator-id-414\" type=\"checkbox\" ><label for=\"sk-estimator-id-414\" class=\"sk-toggleable__label sk-toggleable__label-arrow\">StandardScaler</label><div class=\"sk-toggleable__content\"><pre>StandardScaler()</pre></div></div></div></div></div></div></div></div><div class=\"sk-parallel-item\"><div class=\"sk-item\"><div class=\"sk-label-container\"><div class=\"sk-label sk-toggleable\"><input class=\"sk-toggleable__control sk-hidden--visually\" id=\"sk-estimator-id-415\" type=\"checkbox\" ><label for=\"sk-estimator-id-415\" class=\"sk-toggleable__label sk-toggleable__label-arrow\">pipeline-2</label><div class=\"sk-toggleable__content\"><pre>[&#x27;BP&#x27;, &#x27;Cholesterol&#x27;]</pre></div></div></div><div class=\"sk-serial\"><div class=\"sk-item\"><div class=\"sk-serial\"><div class=\"sk-item\"><div class=\"sk-estimator sk-toggleable\"><input class=\"sk-toggleable__control sk-hidden--visually\" id=\"sk-estimator-id-416\" type=\"checkbox\" ><label for=\"sk-estimator-id-416\" class=\"sk-toggleable__label sk-toggleable__label-arrow\">SimpleImputer</label><div class=\"sk-toggleable__content\"><pre>SimpleImputer(strategy=&#x27;most_frequent&#x27;)</pre></div></div></div><div class=\"sk-item\"><div class=\"sk-estimator sk-toggleable\"><input class=\"sk-toggleable__control sk-hidden--visually\" id=\"sk-estimator-id-417\" type=\"checkbox\" ><label for=\"sk-estimator-id-417\" class=\"sk-toggleable__label sk-toggleable__label-arrow\">OrdinalEncoder</label><div class=\"sk-toggleable__content\"><pre>OrdinalEncoder(categories=[[&#x27;low&#x27;, &#x27;normal&#x27;, &#x27;high&#x27;], [&#x27;normal&#x27;, &#x27;high&#x27;]],\n",
              "               handle_unknown=&#x27;use_encoded_value&#x27;, unknown_value=-1)</pre></div></div></div><div class=\"sk-item\"><div class=\"sk-estimator sk-toggleable\"><input class=\"sk-toggleable__control sk-hidden--visually\" id=\"sk-estimator-id-418\" type=\"checkbox\" ><label for=\"sk-estimator-id-418\" class=\"sk-toggleable__label sk-toggleable__label-arrow\">StandardScaler</label><div class=\"sk-toggleable__content\"><pre>StandardScaler()</pre></div></div></div></div></div></div></div></div></div></div><div class=\"sk-item\"><div class=\"sk-estimator sk-toggleable\"><input class=\"sk-toggleable__control sk-hidden--visually\" id=\"sk-estimator-id-419\" type=\"checkbox\" ><label for=\"sk-estimator-id-419\" class=\"sk-toggleable__label sk-toggleable__label-arrow\">LogisticRegression</label><div class=\"sk-toggleable__content\"><pre>LogisticRegression(random_state=42)</pre></div></div></div></div></div></div></div>"
            ]
          },
          "metadata": {},
          "execution_count": 467
        }
      ]
    },
    {
      "cell_type": "code",
      "source": [
        "## Save the model's predictions for the train dataset\n",
        "lr_train_preds = lr_pipe.predict(X_train)\n",
        "## Save the model's predictions for the test dataset\n",
        "lr_test_preds = lr_pipe.predict(X_test)"
      ],
      "metadata": {
        "id": "gSX11oFgMOqr"
      },
      "execution_count": 468,
      "outputs": []
    },
    {
      "cell_type": "code",
      "source": [
        "## print the classification reports\n",
        "labels = ['drugQ','drugZ']\n",
        "print('Train Report')\n",
        "print(classification_report(y_train, lr_train_preds, target_names=labels))\n",
        "\n",
        "print('Test Report')\n",
        "print(classification_report(y_test, lr_test_preds, target_names=labels))"
      ],
      "metadata": {
        "colab": {
          "base_uri": "https://localhost:8080/"
        },
        "id": "GaSm7nMMMSno",
        "outputId": "4cfdb612-7bba-4120-bad7-dfa82f95d024"
      },
      "execution_count": 475,
      "outputs": [
        {
          "output_type": "stream",
          "name": "stdout",
          "text": [
            "Train Report\n",
            "              precision    recall  f1-score   support\n",
            "\n",
            "       drugQ       0.88      1.00      0.93       100\n",
            "       drugZ       1.00      0.87      0.93       110\n",
            "\n",
            "    accuracy                           0.93       210\n",
            "   macro avg       0.94      0.94      0.93       210\n",
            "weighted avg       0.94      0.93      0.93       210\n",
            "\n",
            "Test Report\n",
            "              precision    recall  f1-score   support\n",
            "\n",
            "       drugQ       0.92      1.00      0.96        34\n",
            "       drugZ       1.00      0.92      0.96        37\n",
            "\n",
            "    accuracy                           0.96        71\n",
            "   macro avg       0.96      0.96      0.96        71\n",
            "weighted avg       0.96      0.96      0.96        71\n",
            "\n"
          ]
        }
      ]
    },
    {
      "cell_type": "code",
      "source": [
        "## Use the function twice to evaluate our model on training AND test data\n",
        "classification_metrics(lr_pipe, X_train,y_train, thresh=.2,\n",
        "                         cmap='Blues', label='Training Data')\n",
        "classification_metrics(lr_pipe, X_test,y_test, thresh=.2,\n",
        "                         cmap='Greens',label='Test Data')"
      ],
      "metadata": {
        "colab": {
          "base_uri": "https://localhost:8080/",
          "height": 1000
        },
        "id": "kI35N1GOP5YC",
        "outputId": "541501da-c3e2-432d-e87c-f4a21fae6404"
      },
      "execution_count": 478,
      "outputs": [
        {
          "output_type": "stream",
          "name": "stdout",
          "text": [
            "------------------------------------------------------------\n",
            "[i] CLASSIFICATION REPORT FOR: Training Data\n",
            "------------------------------------------------------------\n",
            "              precision    recall  f1-score   support\n",
            "\n",
            "       drugQ       0.87      0.58      0.69       100\n",
            "       drugZ       0.71      0.92      0.80       110\n",
            "\n",
            "    accuracy                           0.76       210\n",
            "   macro avg       0.79      0.75      0.75       210\n",
            "weighted avg       0.78      0.76      0.75       210\n",
            "\n"
          ]
        },
        {
          "output_type": "display_data",
          "data": {
            "text/plain": [
              "<Figure size 1500x500 with 3 Axes>"
            ],
            "image/png": "[encoded data removed]"
          },
          "metadata": {}
        },
        {
          "output_type": "stream",
          "name": "stdout",
          "text": [
            "------------------------------------------------------------\n",
            "[i] CLASSIFICATION REPORT FOR: Test Data\n",
            "------------------------------------------------------------\n",
            "              precision    recall  f1-score   support\n",
            "\n",
            "       drugQ       0.88      0.65      0.75        34\n",
            "       drugZ       0.74      0.92      0.82        37\n",
            "\n",
            "    accuracy                           0.79        71\n",
            "   macro avg       0.81      0.78      0.78        71\n",
            "weighted avg       0.81      0.79      0.78        71\n",
            "\n"
          ]
        },
        {
          "output_type": "display_data",
          "data": {
            "text/plain": [
              "<Figure size 1500x500 with 3 Axes>"
            ],
            "image/png": "[encoded data removed]"
          },
          "metadata": {}
        }
      ]
    },
    {
      "cell_type": "markdown",
      "source": [
        "#### Tune the Hyperparameters"
      ],
      "metadata": {
        "id": "VEkeysoafi0x"
      }
    },
    {
      "cell_type": "code",
      "source": [
        "# Display the hyperparameters.\n",
        "lr_pipe.get_params()"
      ],
      "metadata": {
        "colab": {
          "base_uri": "https://localhost:8080/"
        },
        "id": "44KCNjanfjis",
        "outputId": "a78e863a-0af0-4cff-8236-050dcb4a5f64"
      },
      "execution_count": 480,
      "outputs": [
        {
          "output_type": "execute_result",
          "data": {
            "text/plain": [
              "{'memory': None,\n",
              " 'steps': [('columntransformer',\n",
              "   ColumnTransformer(transformers=[('pipeline-1',\n",
              "                                    Pipeline(steps=[('simpleimputer',\n",
              "                                                     SimpleImputer()),\n",
              "                                                    ('standardscaler',\n",
              "                                                     StandardScaler())]),\n",
              "                                    <sklearn.compose._column_transformer.make_column_selector object at 0x7fb95b446260>),\n",
              "                                   ('pipeline-2',\n",
              "                                    Pipeline(steps=[('simpleimputer',\n",
              "                                                     SimpleImputer(strategy='most_frequent')),\n",
              "                                                    ('ordinalencoder',\n",
              "                                                     OrdinalEncoder(categories=[['low',\n",
              "                                                                                 'normal',\n",
              "                                                                                 'high'],\n",
              "                                                                                ['normal',\n",
              "                                                                                 'high']],\n",
              "                                                                    handle_unknown='use_encoded_value',\n",
              "                                                                    unknown_value=-1)),\n",
              "                                                    ('standardscaler',\n",
              "                                                     StandardScaler())]),\n",
              "                                    ['BP', 'Cholesterol'])])),\n",
              "  ('logisticregression', LogisticRegression(random_state=42))],\n",
              " 'verbose': False,\n",
              " 'columntransformer': ColumnTransformer(transformers=[('pipeline-1',\n",
              "                                  Pipeline(steps=[('simpleimputer',\n",
              "                                                   SimpleImputer()),\n",
              "                                                  ('standardscaler',\n",
              "                                                   StandardScaler())]),\n",
              "                                  <sklearn.compose._column_transformer.make_column_selector object at 0x7fb95b446260>),\n",
              "                                 ('pipeline-2',\n",
              "                                  Pipeline(steps=[('simpleimputer',\n",
              "                                                   SimpleImputer(strategy='most_frequent')),\n",
              "                                                  ('ordinalencoder',\n",
              "                                                   OrdinalEncoder(categories=[['low',\n",
              "                                                                               'normal',\n",
              "                                                                               'high'],\n",
              "                                                                              ['normal',\n",
              "                                                                               'high']],\n",
              "                                                                  handle_unknown='use_encoded_value',\n",
              "                                                                  unknown_value=-1)),\n",
              "                                                  ('standardscaler',\n",
              "                                                   StandardScaler())]),\n",
              "                                  ['BP', 'Cholesterol'])]),\n",
              " 'logisticregression': LogisticRegression(random_state=42),\n",
              " 'columntransformer__n_jobs': None,\n",
              " 'columntransformer__remainder': 'drop',\n",
              " 'columntransformer__sparse_threshold': 0.3,\n",
              " 'columntransformer__transformer_weights': None,\n",
              " 'columntransformer__transformers': [('pipeline-1',\n",
              "   Pipeline(steps=[('simpleimputer', SimpleImputer()),\n",
              "                   ('standardscaler', StandardScaler())]),\n",
              "   <sklearn.compose._column_transformer.make_column_selector at 0x7fb95b446260>),\n",
              "  ('pipeline-2',\n",
              "   Pipeline(steps=[('simpleimputer', SimpleImputer(strategy='most_frequent')),\n",
              "                   ('ordinalencoder',\n",
              "                    OrdinalEncoder(categories=[['low', 'normal', 'high'],\n",
              "                                               ['normal', 'high']],\n",
              "                                   handle_unknown='use_encoded_value',\n",
              "                                   unknown_value=-1)),\n",
              "                   ('standardscaler', StandardScaler())]),\n",
              "   ['BP', 'Cholesterol'])],\n",
              " 'columntransformer__verbose': False,\n",
              " 'columntransformer__verbose_feature_names_out': True,\n",
              " 'columntransformer__pipeline-1': Pipeline(steps=[('simpleimputer', SimpleImputer()),\n",
              "                 ('standardscaler', StandardScaler())]),\n",
              " 'columntransformer__pipeline-2': Pipeline(steps=[('simpleimputer', SimpleImputer(strategy='most_frequent')),\n",
              "                 ('ordinalencoder',\n",
              "                  OrdinalEncoder(categories=[['low', 'normal', 'high'],\n",
              "                                             ['normal', 'high']],\n",
              "                                 handle_unknown='use_encoded_value',\n",
              "                                 unknown_value=-1)),\n",
              "                 ('standardscaler', StandardScaler())]),\n",
              " 'columntransformer__pipeline-1__memory': None,\n",
              " 'columntransformer__pipeline-1__steps': [('simpleimputer', SimpleImputer()),\n",
              "  ('standardscaler', StandardScaler())],\n",
              " 'columntransformer__pipeline-1__verbose': False,\n",
              " 'columntransformer__pipeline-1__simpleimputer': SimpleImputer(),\n",
              " 'columntransformer__pipeline-1__standardscaler': StandardScaler(),\n",
              " 'columntransformer__pipeline-1__simpleimputer__add_indicator': False,\n",
              " 'columntransformer__pipeline-1__simpleimputer__copy': True,\n",
              " 'columntransformer__pipeline-1__simpleimputer__fill_value': None,\n",
              " 'columntransformer__pipeline-1__simpleimputer__keep_empty_features': False,\n",
              " 'columntransformer__pipeline-1__simpleimputer__missing_values': nan,\n",
              " 'columntransformer__pipeline-1__simpleimputer__strategy': 'mean',\n",
              " 'columntransformer__pipeline-1__simpleimputer__verbose': 'deprecated',\n",
              " 'columntransformer__pipeline-1__standardscaler__copy': True,\n",
              " 'columntransformer__pipeline-1__standardscaler__with_mean': True,\n",
              " 'columntransformer__pipeline-1__standardscaler__with_std': True,\n",
              " 'columntransformer__pipeline-2__memory': None,\n",
              " 'columntransformer__pipeline-2__steps': [('simpleimputer',\n",
              "   SimpleImputer(strategy='most_frequent')),\n",
              "  ('ordinalencoder',\n",
              "   OrdinalEncoder(categories=[['low', 'normal', 'high'], ['normal', 'high']],\n",
              "                  handle_unknown='use_encoded_value', unknown_value=-1)),\n",
              "  ('standardscaler', StandardScaler())],\n",
              " 'columntransformer__pipeline-2__verbose': False,\n",
              " 'columntransformer__pipeline-2__simpleimputer': SimpleImputer(strategy='most_frequent'),\n",
              " 'columntransformer__pipeline-2__ordinalencoder': OrdinalEncoder(categories=[['low', 'normal', 'high'], ['normal', 'high']],\n",
              "                handle_unknown='use_encoded_value', unknown_value=-1),\n",
              " 'columntransformer__pipeline-2__standardscaler': StandardScaler(),\n",
              " 'columntransformer__pipeline-2__simpleimputer__add_indicator': False,\n",
              " 'columntransformer__pipeline-2__simpleimputer__copy': True,\n",
              " 'columntransformer__pipeline-2__simpleimputer__fill_value': None,\n",
              " 'columntransformer__pipeline-2__simpleimputer__keep_empty_features': False,\n",
              " 'columntransformer__pipeline-2__simpleimputer__missing_values': nan,\n",
              " 'columntransformer__pipeline-2__simpleimputer__strategy': 'most_frequent',\n",
              " 'columntransformer__pipeline-2__simpleimputer__verbose': 'deprecated',\n",
              " 'columntransformer__pipeline-2__ordinalencoder__categories': [['low',\n",
              "   'normal',\n",
              "   'high'],\n",
              "  ['normal', 'high']],\n",
              " 'columntransformer__pipeline-2__ordinalencoder__dtype': numpy.float64,\n",
              " 'columntransformer__pipeline-2__ordinalencoder__encoded_missing_value': nan,\n",
              " 'columntransformer__pipeline-2__ordinalencoder__handle_unknown': 'use_encoded_value',\n",
              " 'columntransformer__pipeline-2__ordinalencoder__unknown_value': -1,\n",
              " 'columntransformer__pipeline-2__standardscaler__copy': True,\n",
              " 'columntransformer__pipeline-2__standardscaler__with_mean': True,\n",
              " 'columntransformer__pipeline-2__standardscaler__with_std': True,\n",
              " 'logisticregression__C': 1.0,\n",
              " 'logisticregression__class_weight': None,\n",
              " 'logisticregression__dual': False,\n",
              " 'logisticregression__fit_intercept': True,\n",
              " 'logisticregression__intercept_scaling': 1,\n",
              " 'logisticregression__l1_ratio': None,\n",
              " 'logisticregression__max_iter': 100,\n",
              " 'logisticregression__multi_class': 'auto',\n",
              " 'logisticregression__n_jobs': None,\n",
              " 'logisticregression__penalty': 'l2',\n",
              " 'logisticregression__random_state': 42,\n",
              " 'logisticregression__solver': 'lbfgs',\n",
              " 'logisticregression__tol': 0.0001,\n",
              " 'logisticregression__verbose': 0,\n",
              " 'logisticregression__warm_start': False}"
            ]
          },
          "metadata": {},
          "execution_count": 480
        }
      ]
    },
    {
      "cell_type": "code",
      "source": [
        "# Create a dictionary of parameters\n",
        "params = {'logisticregression__C': [0.001, 0.01, 0.1, 1, 10, 100, 1000]}"
      ],
      "metadata": {
        "id": "33PnJucqfpMW"
      },
      "execution_count": 481,
      "outputs": []
    },
    {
      "cell_type": "code",
      "source": [
        "# Tune hyperparameters with GridSearchCV\n",
        "lr_gs = GridSearchCV(lr_pipe, params)\n",
        "lr_gs.fit(X_train, y_train)"
      ],
      "metadata": {
        "colab": {
          "base_uri": "https://localhost:8080/",
          "height": 285
        },
        "id": "1e5oZ_fDfrKt",
        "outputId": "7b99b907-9a3a-453a-9a88-a49f7444995b"
      },
      "execution_count": 482,
      "outputs": [
        {
          "output_type": "execute_result",
          "data": {
            "text/plain": [
              "GridSearchCV(estimator=Pipeline(steps=[('columntransformer',\n",
              "                                        ColumnTransformer(transformers=[('pipeline-1',\n",
              "                                                                         Pipeline(steps=[('simpleimputer',\n",
              "                                                                                          SimpleImputer()),\n",
              "                                                                                         ('standardscaler',\n",
              "                                                                                          StandardScaler())]),\n",
              "                                                                         <sklearn.compose._column_transformer.make_column_selector object at 0x7fb95b446260>),\n",
              "                                                                        ('pipeline-2',\n",
              "                                                                         Pipeline(steps=[('simpleimputer',\n",
              "                                                                                          SimpleImputer(strategy='most_frequent')),\n",
              "                                                                                         ('ordinalencoder',\n",
              "                                                                                          OrdinalEncoder(categories=[['low',\n",
              "                                                                                                                      'normal',\n",
              "                                                                                                                      'high'],\n",
              "                                                                                                                     ['normal',\n",
              "                                                                                                                      'high']],\n",
              "                                                                                                         handle_unknown='use_encoded_value',\n",
              "                                                                                                         unknown_value=-1)),\n",
              "                                                                                         ('standardscaler',\n",
              "                                                                                          StandardScaler())]),\n",
              "                                                                         ['BP',\n",
              "                                                                          'Cholesterol'])])),\n",
              "                                       ('logisticregression',\n",
              "                                        LogisticRegression(random_state=42))]),\n",
              "             param_grid={'logisticregression__C': [0.001, 0.01, 0.1, 1, 10, 100,\n",
              "                                                   1000]})"
            ],
            "text/html": [
              "<style>#sk-container-id-42 {color: black;background-color: white;}#sk-container-id-42 pre{padding: 0;}#sk-container-id-42 div.sk-toggleable {background-color: white;}#sk-container-id-42 label.sk-toggleable__label {cursor: pointer;display: block;width: 100%;margin-bottom: 0;padding: 0.3em;box-sizing: border-box;text-align: center;}#sk-container-id-42 label.sk-toggleable__label-arrow:before {content: \"▸\";float: left;margin-right: 0.25em;color: #696969;}#sk-container-id-42 label.sk-toggleable__label-arrow:hover:before {color: black;}#sk-container-id-42 div.sk-estimator:hover label.sk-toggleable__label-arrow:before {color: black;}#sk-container-id-42 div.sk-toggleable__content {max-height: 0;max-width: 0;overflow: hidden;text-align: left;background-color: #f0f8ff;}#sk-container-id-42 div.sk-toggleable__content pre {margin: 0.2em;color: black;border-radius: 0.25em;background-color: #f0f8ff;}#sk-container-id-42 input.sk-toggleable__control:checked~div.sk-toggleable__content {max-height: 200px;max-width: 100%;overflow: auto;}#sk-container-id-42 input.sk-toggleable__control:checked~label.sk-toggleable__label-arrow:before {content: \"▾\";}#sk-container-id-42 div.sk-estimator input.sk-toggleable__control:checked~label.sk-toggleable__label {background-color: #d4ebff;}#sk-container-id-42 div.sk-label input.sk-toggleable__control:checked~label.sk-toggleable__label {background-color: #d4ebff;}#sk-container-id-42 input.sk-hidden--visually {border: 0;clip: rect(1px 1px 1px 1px);clip: rect(1px, 1px, 1px, 1px);height: 1px;margin: -1px;overflow: hidden;padding: 0;position: absolute;width: 1px;}#sk-container-id-42 div.sk-estimator {font-family: monospace;background-color: #f0f8ff;border: 1px dotted black;border-radius: 0.25em;box-sizing: border-box;margin-bottom: 0.5em;}#sk-container-id-42 div.sk-estimator:hover {background-color: #d4ebff;}#sk-container-id-42 div.sk-parallel-item::after {content: \"\";width: 100%;border-bottom: 1px solid gray;flex-grow: 1;}#sk-container-id-42 div.sk-label:hover label.sk-toggleable__label {background-color: #d4ebff;}#sk-container-id-42 div.sk-serial::before {content: \"\";position: absolute;border-left: 1px solid gray;box-sizing: border-box;top: 0;bottom: 0;left: 50%;z-index: 0;}#sk-container-id-42 div.sk-serial {display: flex;flex-direction: column;align-items: center;background-color: white;padding-right: 0.2em;padding-left: 0.2em;position: relative;}#sk-container-id-42 div.sk-item {position: relative;z-index: 1;}#sk-container-id-42 div.sk-parallel {display: flex;align-items: stretch;justify-content: center;background-color: white;position: relative;}#sk-container-id-42 div.sk-item::before, #sk-container-id-42 div.sk-parallel-item::before {content: \"\";position: absolute;border-left: 1px solid gray;box-sizing: border-box;top: 0;bottom: 0;left: 50%;z-index: -1;}#sk-container-id-42 div.sk-parallel-item {display: flex;flex-direction: column;z-index: 1;position: relative;background-color: white;}#sk-container-id-42 div.sk-parallel-item:first-child::after {align-self: flex-end;width: 50%;}#sk-container-id-42 div.sk-parallel-item:last-child::after {align-self: flex-start;width: 50%;}#sk-container-id-42 div.sk-parallel-item:only-child::after {width: 0;}#sk-container-id-42 div.sk-dashed-wrapped {border: 1px dashed gray;margin: 0 0.4em 0.5em 0.4em;box-sizing: border-box;padding-bottom: 0.4em;background-color: white;}#sk-container-id-42 div.sk-label label {font-family: monospace;font-weight: bold;display: inline-block;line-height: 1.2em;}#sk-container-id-42 div.sk-label-container {text-align: center;}#sk-container-id-42 div.sk-container {/* jupyter's `normalize.less` sets `[hidden] { display: none; }` but bootstrap.min.css set `[hidden] { display: none !important; }` so we also need the `!important` here to be able to override the default hidden behavior on the sphinx rendered scikit-learn.org. See: https://github.com/scikit-learn/scikit-learn/issues/21755 */display: inline-block !important;position: relative;}#sk-container-id-42 div.sk-text-repr-fallback {display: none;}</style><div id=\"sk-container-id-42\" class=\"sk-top-container\"><div class=\"sk-text-repr-fallback\"><pre>GridSearchCV(estimator=Pipeline(steps=[(&#x27;columntransformer&#x27;,\n",
              "                                        ColumnTransformer(transformers=[(&#x27;pipeline-1&#x27;,\n",
              "                                                                         Pipeline(steps=[(&#x27;simpleimputer&#x27;,\n",
              "                                                                                          SimpleImputer()),\n",
              "                                                                                         (&#x27;standardscaler&#x27;,\n",
              "                                                                                          StandardScaler())]),\n",
              "                                                                         &lt;sklearn.compose._column_transformer.make_column_selector object at 0x7fb95b446260&gt;),\n",
              "                                                                        (&#x27;pipeline-2&#x27;,\n",
              "                                                                         Pipeline(steps=[(&#x27;simpleimputer&#x27;,\n",
              "                                                                                          SimpleImputer(strategy=&#x27;most_frequent&#x27;)),\n",
              "                                                                                         (&#x27;ordinalencoder&#x27;,\n",
              "                                                                                          OrdinalEncoder(categories=[[&#x27;low&#x27;,\n",
              "                                                                                                                      &#x27;normal&#x27;,\n",
              "                                                                                                                      &#x27;high&#x27;],\n",
              "                                                                                                                     [&#x27;normal&#x27;,\n",
              "                                                                                                                      &#x27;high&#x27;]],\n",
              "                                                                                                         handle_unknown=&#x27;use_encoded_value&#x27;,\n",
              "                                                                                                         unknown_value=-1)),\n",
              "                                                                                         (&#x27;standardscaler&#x27;,\n",
              "                                                                                          StandardScaler())]),\n",
              "                                                                         [&#x27;BP&#x27;,\n",
              "                                                                          &#x27;Cholesterol&#x27;])])),\n",
              "                                       (&#x27;logisticregression&#x27;,\n",
              "                                        LogisticRegression(random_state=42))]),\n",
              "             param_grid={&#x27;logisticregression__C&#x27;: [0.001, 0.01, 0.1, 1, 10, 100,\n",
              "                                                   1000]})</pre><b>In a Jupyter environment, please rerun this cell to show the HTML representation or trust the notebook. <br />On GitHub, the HTML representation is unable to render, please try loading this page with nbviewer.org.</b></div><div class=\"sk-container\" hidden><div class=\"sk-item sk-dashed-wrapped\"><div class=\"sk-label-container\"><div class=\"sk-label sk-toggleable\"><input class=\"sk-toggleable__control sk-hidden--visually\" id=\"sk-estimator-id-420\" type=\"checkbox\" ><label for=\"sk-estimator-id-420\" class=\"sk-toggleable__label sk-toggleable__label-arrow\">GridSearchCV</label><div class=\"sk-toggleable__content\"><pre>GridSearchCV(estimator=Pipeline(steps=[(&#x27;columntransformer&#x27;,\n",
              "                                        ColumnTransformer(transformers=[(&#x27;pipeline-1&#x27;,\n",
              "                                                                         Pipeline(steps=[(&#x27;simpleimputer&#x27;,\n",
              "                                                                                          SimpleImputer()),\n",
              "                                                                                         (&#x27;standardscaler&#x27;,\n",
              "                                                                                          StandardScaler())]),\n",
              "                                                                         &lt;sklearn.compose._column_transformer.make_column_selector object at 0x7fb95b446260&gt;),\n",
              "                                                                        (&#x27;pipeline-2&#x27;,\n",
              "                                                                         Pipeline(steps=[(&#x27;simpleimputer&#x27;,\n",
              "                                                                                          SimpleImputer(strategy=&#x27;most_frequent&#x27;)),\n",
              "                                                                                         (&#x27;ordinalencoder&#x27;,\n",
              "                                                                                          OrdinalEncoder(categories=[[&#x27;low&#x27;,\n",
              "                                                                                                                      &#x27;normal&#x27;,\n",
              "                                                                                                                      &#x27;high&#x27;],\n",
              "                                                                                                                     [&#x27;normal&#x27;,\n",
              "                                                                                                                      &#x27;high&#x27;]],\n",
              "                                                                                                         handle_unknown=&#x27;use_encoded_value&#x27;,\n",
              "                                                                                                         unknown_value=-1)),\n",
              "                                                                                         (&#x27;standardscaler&#x27;,\n",
              "                                                                                          StandardScaler())]),\n",
              "                                                                         [&#x27;BP&#x27;,\n",
              "                                                                          &#x27;Cholesterol&#x27;])])),\n",
              "                                       (&#x27;logisticregression&#x27;,\n",
              "                                        LogisticRegression(random_state=42))]),\n",
              "             param_grid={&#x27;logisticregression__C&#x27;: [0.001, 0.01, 0.1, 1, 10, 100,\n",
              "                                                   1000]})</pre></div></div></div><div class=\"sk-parallel\"><div class=\"sk-parallel-item\"><div class=\"sk-item\"><div class=\"sk-label-container\"><div class=\"sk-label sk-toggleable\"><input class=\"sk-toggleable__control sk-hidden--visually\" id=\"sk-estimator-id-421\" type=\"checkbox\" ><label for=\"sk-estimator-id-421\" class=\"sk-toggleable__label sk-toggleable__label-arrow\">estimator: Pipeline</label><div class=\"sk-toggleable__content\"><pre>Pipeline(steps=[(&#x27;columntransformer&#x27;,\n",
              "                 ColumnTransformer(transformers=[(&#x27;pipeline-1&#x27;,\n",
              "                                                  Pipeline(steps=[(&#x27;simpleimputer&#x27;,\n",
              "                                                                   SimpleImputer()),\n",
              "                                                                  (&#x27;standardscaler&#x27;,\n",
              "                                                                   StandardScaler())]),\n",
              "                                                  &lt;sklearn.compose._column_transformer.make_column_selector object at 0x7fb95b446260&gt;),\n",
              "                                                 (&#x27;pipeline-2&#x27;,\n",
              "                                                  Pipeline(steps=[(&#x27;simpleimputer&#x27;,\n",
              "                                                                   SimpleImputer(strategy=&#x27;most_frequent&#x27;)),\n",
              "                                                                  (&#x27;ordinalencoder&#x27;,\n",
              "                                                                   OrdinalEncoder(categories=[[&#x27;low&#x27;,\n",
              "                                                                                               &#x27;normal&#x27;,\n",
              "                                                                                               &#x27;high&#x27;],\n",
              "                                                                                              [&#x27;normal&#x27;,\n",
              "                                                                                               &#x27;high&#x27;]],\n",
              "                                                                                  handle_unknown=&#x27;use_encoded_value&#x27;,\n",
              "                                                                                  unknown_value=-1)),\n",
              "                                                                  (&#x27;standardscaler&#x27;,\n",
              "                                                                   StandardScaler())]),\n",
              "                                                  [&#x27;BP&#x27;, &#x27;Cholesterol&#x27;])])),\n",
              "                (&#x27;logisticregression&#x27;, LogisticRegression(random_state=42))])</pre></div></div></div><div class=\"sk-serial\"><div class=\"sk-item\"><div class=\"sk-serial\"><div class=\"sk-item sk-dashed-wrapped\"><div class=\"sk-label-container\"><div class=\"sk-label sk-toggleable\"><input class=\"sk-toggleable__control sk-hidden--visually\" id=\"sk-estimator-id-422\" type=\"checkbox\" ><label for=\"sk-estimator-id-422\" class=\"sk-toggleable__label sk-toggleable__label-arrow\">columntransformer: ColumnTransformer</label><div class=\"sk-toggleable__content\"><pre>ColumnTransformer(transformers=[(&#x27;pipeline-1&#x27;,\n",
              "                                 Pipeline(steps=[(&#x27;simpleimputer&#x27;,\n",
              "                                                  SimpleImputer()),\n",
              "                                                 (&#x27;standardscaler&#x27;,\n",
              "                                                  StandardScaler())]),\n",
              "                                 &lt;sklearn.compose._column_transformer.make_column_selector object at 0x7fb95b446260&gt;),\n",
              "                                (&#x27;pipeline-2&#x27;,\n",
              "                                 Pipeline(steps=[(&#x27;simpleimputer&#x27;,\n",
              "                                                  SimpleImputer(strategy=&#x27;most_frequent&#x27;)),\n",
              "                                                 (&#x27;ordinalencoder&#x27;,\n",
              "                                                  OrdinalEncoder(categories=[[&#x27;low&#x27;,\n",
              "                                                                              &#x27;normal&#x27;,\n",
              "                                                                              &#x27;high&#x27;],\n",
              "                                                                             [&#x27;normal&#x27;,\n",
              "                                                                              &#x27;high&#x27;]],\n",
              "                                                                 handle_unknown=&#x27;use_encoded_value&#x27;,\n",
              "                                                                 unknown_value=-1)),\n",
              "                                                 (&#x27;standardscaler&#x27;,\n",
              "                                                  StandardScaler())]),\n",
              "                                 [&#x27;BP&#x27;, &#x27;Cholesterol&#x27;])])</pre></div></div></div><div class=\"sk-parallel\"><div class=\"sk-parallel-item\"><div class=\"sk-item\"><div class=\"sk-label-container\"><div class=\"sk-label sk-toggleable\"><input class=\"sk-toggleable__control sk-hidden--visually\" id=\"sk-estimator-id-423\" type=\"checkbox\" ><label for=\"sk-estimator-id-423\" class=\"sk-toggleable__label sk-toggleable__label-arrow\">pipeline-1</label><div class=\"sk-toggleable__content\"><pre>&lt;sklearn.compose._column_transformer.make_column_selector object at 0x7fb95b446260&gt;</pre></div></div></div><div class=\"sk-serial\"><div class=\"sk-item\"><div class=\"sk-serial\"><div class=\"sk-item\"><div class=\"sk-estimator sk-toggleable\"><input class=\"sk-toggleable__control sk-hidden--visually\" id=\"sk-estimator-id-424\" type=\"checkbox\" ><label for=\"sk-estimator-id-424\" class=\"sk-toggleable__label sk-toggleable__label-arrow\">SimpleImputer</label><div class=\"sk-toggleable__content\"><pre>SimpleImputer()</pre></div></div></div><div class=\"sk-item\"><div class=\"sk-estimator sk-toggleable\"><input class=\"sk-toggleable__control sk-hidden--visually\" id=\"sk-estimator-id-425\" type=\"checkbox\" ><label for=\"sk-estimator-id-425\" class=\"sk-toggleable__label sk-toggleable__label-arrow\">StandardScaler</label><div class=\"sk-toggleable__content\"><pre>StandardScaler()</pre></div></div></div></div></div></div></div></div><div class=\"sk-parallel-item\"><div class=\"sk-item\"><div class=\"sk-label-container\"><div class=\"sk-label sk-toggleable\"><input class=\"sk-toggleable__control sk-hidden--visually\" id=\"sk-estimator-id-426\" type=\"checkbox\" ><label for=\"sk-estimator-id-426\" class=\"sk-toggleable__label sk-toggleable__label-arrow\">pipeline-2</label><div class=\"sk-toggleable__content\"><pre>[&#x27;BP&#x27;, &#x27;Cholesterol&#x27;]</pre></div></div></div><div class=\"sk-serial\"><div class=\"sk-item\"><div class=\"sk-serial\"><div class=\"sk-item\"><div class=\"sk-estimator sk-toggleable\"><input class=\"sk-toggleable__control sk-hidden--visually\" id=\"sk-estimator-id-427\" type=\"checkbox\" ><label for=\"sk-estimator-id-427\" class=\"sk-toggleable__label sk-toggleable__label-arrow\">SimpleImputer</label><div class=\"sk-toggleable__content\"><pre>SimpleImputer(strategy=&#x27;most_frequent&#x27;)</pre></div></div></div><div class=\"sk-item\"><div class=\"sk-estimator sk-toggleable\"><input class=\"sk-toggleable__control sk-hidden--visually\" id=\"sk-estimator-id-428\" type=\"checkbox\" ><label for=\"sk-estimator-id-428\" class=\"sk-toggleable__label sk-toggleable__label-arrow\">OrdinalEncoder</label><div class=\"sk-toggleable__content\"><pre>OrdinalEncoder(categories=[[&#x27;low&#x27;, &#x27;normal&#x27;, &#x27;high&#x27;], [&#x27;normal&#x27;, &#x27;high&#x27;]],\n",
              "               handle_unknown=&#x27;use_encoded_value&#x27;, unknown_value=-1)</pre></div></div></div><div class=\"sk-item\"><div class=\"sk-estimator sk-toggleable\"><input class=\"sk-toggleable__control sk-hidden--visually\" id=\"sk-estimator-id-429\" type=\"checkbox\" ><label for=\"sk-estimator-id-429\" class=\"sk-toggleable__label sk-toggleable__label-arrow\">StandardScaler</label><div class=\"sk-toggleable__content\"><pre>StandardScaler()</pre></div></div></div></div></div></div></div></div></div></div><div class=\"sk-item\"><div class=\"sk-estimator sk-toggleable\"><input class=\"sk-toggleable__control sk-hidden--visually\" id=\"sk-estimator-id-430\" type=\"checkbox\" ><label for=\"sk-estimator-id-430\" class=\"sk-toggleable__label sk-toggleable__label-arrow\">LogisticRegression</label><div class=\"sk-toggleable__content\"><pre>LogisticRegression(random_state=42)</pre></div></div></div></div></div></div></div></div></div></div></div></div>"
            ]
          },
          "metadata": {},
          "execution_count": 482
        }
      ]
    },
    {
      "cell_type": "code",
      "source": [
        "lr_gs.best_params_"
      ],
      "metadata": {
        "colab": {
          "base_uri": "https://localhost:8080/"
        },
        "id": "2zaM4nonft1U",
        "outputId": "eeac227a-61c6-4b15-8c43-14fd3808cd66"
      },
      "execution_count": 483,
      "outputs": [
        {
          "output_type": "execute_result",
          "data": {
            "text/plain": [
              "{'logisticregression__C': 100}"
            ]
          },
          "metadata": {},
          "execution_count": 483
        }
      ]
    },
    {
      "cell_type": "code",
      "source": [
        "best_lr = lr_gs.best_estimator_"
      ],
      "metadata": {
        "id": "wSd8nDWQfvlY"
      },
      "execution_count": 438,
      "outputs": []
    },
    {
      "cell_type": "code",
      "source": [
        "## Use the function twice to evaluate our model on training AND test data\n",
        "classification_metrics(best_lr, X_train,y_train, thresh=.2,\n",
        "                         cmap='Blues', label='Training Data')\n",
        "classification_metrics(best_lr, X_test,y_test, thresh=.2,\n",
        "                         cmap='Greens',label='Test Data')"
      ],
      "metadata": {
        "colab": {
          "base_uri": "https://localhost:8080/",
          "height": 1000
        },
        "id": "LRCGthLXfxwB",
        "outputId": "abe681fd-0ad1-46f0-84b4-48186a7ddd60"
      },
      "execution_count": 485,
      "outputs": [
        {
          "output_type": "stream",
          "name": "stdout",
          "text": [
            "------------------------------------------------------------\n",
            "[i] CLASSIFICATION REPORT FOR: Training Data\n",
            "------------------------------------------------------------\n",
            "              precision    recall  f1-score   support\n",
            "\n",
            "       drugQ       0.88      0.68      0.77       100\n",
            "       drugZ       0.76      0.92      0.83       110\n",
            "\n",
            "    accuracy                           0.80       210\n",
            "   macro avg       0.82      0.80      0.80       210\n",
            "weighted avg       0.82      0.80      0.80       210\n",
            "\n"
          ]
        },
        {
          "output_type": "display_data",
          "data": {
            "text/plain": [
              "<Figure size 1500x500 with 3 Axes>"
            ],
            "image/png": "[encoded data removed]"
          },
          "metadata": {}
        },
        {
          "output_type": "stream",
          "name": "stdout",
          "text": [
            "------------------------------------------------------------\n",
            "[i] CLASSIFICATION REPORT FOR: Test Data\n",
            "------------------------------------------------------------\n",
            "              precision    recall  f1-score   support\n",
            "\n",
            "       drugQ       0.91      0.88      0.90        34\n",
            "       drugZ       0.89      0.92      0.91        37\n",
            "\n",
            "    accuracy                           0.90        71\n",
            "   macro avg       0.90      0.90      0.90        71\n",
            "weighted avg       0.90      0.90      0.90        71\n",
            "\n"
          ]
        },
        {
          "output_type": "display_data",
          "data": {
            "text/plain": [
              "<Figure size 1500x500 with 3 Axes>"
            ],
            "image/png": "[encoded data removed]"
          },
          "metadata": {}
        }
      ]
    },
    {
      "cell_type": "markdown",
      "source": [
        "## **Final model**"
      ],
      "metadata": {
        "id": "m0k-hvRUwwqP"
      }
    },
    {
      "cell_type": "markdown",
      "source": [
        "Model of Choice:\n",
        "overview of the evaluation metrics for each model on the test data:\n",
        "\n",
        "**KNN Model:**\n",
        "\n",
        "Accuracy: 0.94\n",
        "Precision: drugQ - 0.92, drugZ - 0.97\n",
        "Recall: drugQ - 0.97, drugZ - 0.92\n",
        "F1-score: drugQ - 0.94, drugZ - 0.94\n",
        "\n",
        "\n",
        "**Decision Tree Model:**\n",
        "\n",
        "Accuracy: 0.93\n",
        "Precision: drugQ - 0.94, drugZ - 0.92\n",
        "Recall: drugQ - 0.91, drugZ - 0.95\n",
        "F1-score: drugQ - 0.93, drugZ - 0.93\n",
        "\n",
        "\n",
        "**Logistic Regression:**\n",
        "\n",
        "Accuracy: 0.90\n",
        "Precision: drugQ - 0.91, drugZ - 0.89\n",
        "Recall: drugQ - 0.88, drugZ - 0.92\n",
        "F1-score: drugQ - 0.90, drugZ - 0.91"
      ],
      "metadata": {
        "id": "OQ_QcgGmrIDA"
      }
    },
    {
      "cell_type": "markdown",
      "source": [
        "The **Decision Tree Model** has the highest accuracy on the test data (0.93) and a balanced F1-score for both drugQ and drugZ (0.93), indicating good overall performance.\n",
        "\n",
        "The **KNN Model** also performs well with an accuracy of 0.94 and balanced F1-scores for both classes (0.94).\n",
        "\n",
        "The **Logistic Regression model**, while decent, has slightly lower accuracy (0.90) and F1-scores compared to the other two models.\n",
        "\n",
        "In this case, both the Decision Tree Model and the KNN Model appear to be good choices, with the **Decision Tree Model** having a slight edge in accuracy. Decision Tree Model would be the best choice."
      ],
      "metadata": {
        "id": "nwzRAhTHtkgG"
      }
    },
    {
      "cell_type": "markdown",
      "source": [
        "##**Sources**"
      ],
      "metadata": {
        "id": "ooORC5UOu2M_"
      }
    },
    {
      "cell_type": "markdown",
      "source": [
        "**Classification Metrics Exercise:**\n",
        "https://colab.research.google.com/drive/1kcrfzpNb4sjkRlHSnEWc-n3Vo64nv2dv#scrollTo=Jz0bpAN3cqmw\n",
        "\n",
        "**MockBeltExam_Classification:**https://colab.research.google.com/drive/1whrOd1qYjgvX0GIDKFH1FgEsICuahO-E#scrollTo=trXJNYY-nXdz\n",
        "\n",
        "**Week 5 - Lesson 1 slides:**https://docs.google.com/presentation/d/1-67rJIOJ9dX5MKKObcOubc61hRuI-OqdiKgul0J3ze8/edit#slide=id.g27804763418_0_113\n",
        "\n",
        "**Code Along Challenge - ROC AUC.ipynb:**\n",
        "https://colab.research.google.com/drive/17p8t4JZVywJlyUANYuvbvzfJ5fweF8tf#scrollTo=rpuu5-lZTJSN"
      ],
      "metadata": {
        "id": "kD9cvcafu41b"
      }
    }
  ]
}