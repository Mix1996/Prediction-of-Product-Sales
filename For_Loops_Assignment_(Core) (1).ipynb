{
  "nbformat": 4,
  "nbformat_minor": 0,
  "metadata": {
    "colab": {
      "provenance": [],
      "toc_visible": true
    },
    "kernelspec": {
      "name": "python3",
      "display_name": "Python 3"
    },
    "language_info": {
      "name": "python"
    }
  },
  "cells": [
    {
      "cell_type": "markdown",
      "source": [
        "# Task 1: Loop through a list"
      ],
      "metadata": {
        "id": "8opPSTPK-HMd"
      }
    },
    {
      "cell_type": "code",
      "source": [
        "# Create a list of products\n",
        "products = ['Shirts', 'Hats', 'Buttons', 'Stickers']\n"
      ],
      "metadata": {
        "id": "Z5qiv3De9XhM"
      },
      "execution_count": 1,
      "outputs": []
    },
    {
      "cell_type": "code",
      "source": [
        "# Write a for-loop to repeat the print statement for each product in the list.\n",
        "for product in products:\n",
        "    print(f\"We sell {product} here!\")"
      ],
      "metadata": {
        "colab": {
          "base_uri": "https://localhost:8080/"
        },
        "id": "5a_qV-3L-AXd",
        "outputId": "50167875-71b1-4478-a5fa-22ee933dfc30"
      },
      "execution_count": 2,
      "outputs": [
        {
          "output_type": "stream",
          "name": "stdout",
          "text": [
            "We sell Shirts here!\n",
            "We sell Hats here!\n",
            "We sell Buttons here!\n",
            "We sell Stickers here!\n"
          ]
        }
      ]
    },
    {
      "cell_type": "markdown",
      "source": [
        "# Task 2: Use a loop to append values to a new list"
      ],
      "metadata": {
        "id": "PrEj9N7M-0bI"
      }
    },
    {
      "cell_type": "code",
      "source": [
        "# Create a list of the prices.\n",
        "original_prices = [10, 15, 4, 1]"
      ],
      "metadata": {
        "id": "ceVTJ3yX_AhA"
      },
      "execution_count": 3,
      "outputs": []
    },
    {
      "cell_type": "code",
      "source": [
        "# Create an empty list called sale_prices\n",
        "sale_prices = []"
      ],
      "metadata": {
        "id": "ZGWCF2op-9Ai"
      },
      "execution_count": 4,
      "outputs": []
    },
    {
      "cell_type": "code",
      "source": [
        "# Use a loop to append the sale_prices list with the sale price (a 20% discount means the original price is multiplied by\n",
        "for price in original_prices:\n",
        "    sale_price = price * 0.8  # Applying a 20% discount\n",
        "    sale_prices.append(sale_price)\n"
      ],
      "metadata": {
        "id": "hdfWuM3P_zOn"
      },
      "execution_count": 5,
      "outputs": []
    },
    {
      "cell_type": "code",
      "source": [
        "# Print the list of sale_prices\n",
        "print(sale_prices)"
      ],
      "metadata": {
        "colab": {
          "base_uri": "https://localhost:8080/"
        },
        "id": "v4qGqyc_ABAm",
        "outputId": "9fd40e50-cec2-4885-986b-67a6a0ed81ac"
      },
      "execution_count": 6,
      "outputs": [
        {
          "output_type": "stream",
          "name": "stdout",
          "text": [
            "[8.0, 12.0, 3.2, 0.8]\n"
          ]
        }
      ]
    },
    {
      "cell_type": "markdown",
      "source": [
        "# Task 3: Loop through a dictionary"
      ],
      "metadata": {
        "id": "yI0JDsOnBFwp"
      }
    },
    {
      "cell_type": "code",
      "source": [
        "# Run this cell to create a dictionary with product and price\n",
        "prices_dict = {'Shirts': 10,\n",
        "              'Hats': 15,\n",
        "              'Buttons' : 4,\n",
        "              'Stickers' : 1}\n",
        "\n",
        "prices_dict"
      ],
      "metadata": {
        "colab": {
          "base_uri": "https://localhost:8080/"
        },
        "id": "DXaqUyozBHsa",
        "outputId": "367fba0e-69de-4d01-f22c-c692c86a6821"
      },
      "execution_count": 7,
      "outputs": [
        {
          "output_type": "execute_result",
          "data": {
            "text/plain": [
              "{'Shirts': 10, 'Hats': 15, 'Buttons': 4, 'Stickers': 1}"
            ]
          },
          "metadata": {},
          "execution_count": 7
        }
      ]
    },
    {
      "cell_type": "code",
      "source": [
        "# Loop through the dictionary to print: \"We sell __!\"\n",
        "for product in prices_dict:\n",
        "      print(f\"We sell {product} here!\")"
      ],
      "metadata": {
        "colab": {
          "base_uri": "https://localhost:8080/"
        },
        "id": "1fA4mQcTBNlj",
        "outputId": "99cced2e-fd19-4ab9-b1fa-6b8456de3eca"
      },
      "execution_count": 8,
      "outputs": [
        {
          "output_type": "stream",
          "name": "stdout",
          "text": [
            "We sell Shirts here!\n",
            "We sell Hats here!\n",
            "We sell Buttons here!\n",
            "We sell Stickers here!\n"
          ]
        }
      ]
    },
    {
      "cell_type": "code",
      "source": [
        "# Loop through the dictionary to print: \"__ cost $__ each\"\n",
        "for product, price in prices_dict.items():\n",
        "    print(f\"{product} cost ${price} each\")"
      ],
      "metadata": {
        "colab": {
          "base_uri": "https://localhost:8080/"
        },
        "id": "m6sn0yMKBi7P",
        "outputId": "f8bbaa8f-6a7f-43f1-c704-f6134b2c26ba"
      },
      "execution_count": 9,
      "outputs": [
        {
          "output_type": "stream",
          "name": "stdout",
          "text": [
            "Shirts cost $10 each\n",
            "Hats cost $15 each\n",
            "Buttons cost $4 each\n",
            "Stickers cost $1 each\n"
          ]
        }
      ]
    },
    {
      "cell_type": "markdown",
      "source": [
        "# Task 4: Create a new dictionary by updating values using a for-loop"
      ],
      "metadata": {
        "id": "uZztaj7YC_OB"
      }
    },
    {
      "cell_type": "code",
      "source": [
        "# Use a loop to create a new dictionary with product and sales prices\n",
        "sales_dict = {}"
      ],
      "metadata": {
        "id": "oVKRVHr6DD2P"
      },
      "execution_count": 10,
      "outputs": []
    },
    {
      "cell_type": "code",
      "source": [
        "# Use a loop to create a new dictionary with product and sales prices\n",
        "for product, price in prices_dict.items():\n",
        "    sale_price = price * 0.8\n",
        "    sales_dict[product] = sale_price\n",
        "\n"
      ],
      "metadata": {
        "id": "acFljmBLDh86"
      },
      "execution_count": 11,
      "outputs": []
    },
    {
      "cell_type": "code",
      "source": [
        "# Print the sales_dict\n",
        "print(sales_dict)"
      ],
      "metadata": {
        "colab": {
          "base_uri": "https://localhost:8080/"
        },
        "id": "uWPp1OHcDxmN",
        "outputId": "2a2cd84e-d502-4ebf-8a28-e47ffa371d26"
      },
      "execution_count": 12,
      "outputs": [
        {
          "output_type": "stream",
          "name": "stdout",
          "text": [
            "{'Shirts': 8.0, 'Hats': 12.0, 'Buttons': 3.2, 'Stickers': 0.8}\n"
          ]
        }
      ]
    },
    {
      "cell_type": "code",
      "source": [
        "# Loop throuh the sale_dict to print \"PRODUCT are on sale for only SALE PRICE!\" for each item.\n",
        "for product, sale_price in sales_dict.items():\n",
        "    print(f\"{product} are on sale for only ${sale_price}!\")"
      ],
      "metadata": {
        "colab": {
          "base_uri": "https://localhost:8080/"
        },
        "id": "m8WBR720EbwV",
        "outputId": "5a63773a-8bd9-44f2-cd7a-568f2a33cabd"
      },
      "execution_count": 13,
      "outputs": [
        {
          "output_type": "stream",
          "name": "stdout",
          "text": [
            "Shirts are on sale for only $8.0!\n",
            "Hats are on sale for only $12.0!\n",
            "Buttons are on sale for only $3.2!\n",
            "Stickers are on sale for only $0.8!\n"
          ]
        }
      ]
    }
  ]
}