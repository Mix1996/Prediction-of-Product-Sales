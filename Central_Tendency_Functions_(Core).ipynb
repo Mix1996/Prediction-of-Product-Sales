{
  "nbformat": 4,
  "nbformat_minor": 0,
  "metadata": {
    "colab": {
      "provenance": []
    },
    "kernelspec": {
      "name": "python3",
      "display_name": "Python 3"
    },
    "language_info": {
      "name": "python"
    }
  },
  "cells": [
    {
      "cell_type": "code",
      "execution_count": 1,
      "metadata": {
        "id": "QdHo9WdaGib4"
      },
      "outputs": [],
      "source": [
        "#Lists of Fahrenheit temps\n",
        "week_1 = [45, 55, 49, 60, 52, 55, 58]\n",
        "week_2 = [51, 49, 62, 50, 53, 56, 59]\n",
        "week_3 = [60, 60, 61, 62, 57, 59, 58]\n",
        "week_4 = [59, 63, 62, 61, 65, 66, 62]\n",
        "\n"
      ]
    },
    {
      "cell_type": "code",
      "source": [
        "#By importing the statistics module, you can access functions like mean(), median(), and mode()\n",
        "import statistics"
      ],
      "metadata": {
        "id": "ThljUSgmHfK2"
      },
      "execution_count": 3,
      "outputs": []
    },
    {
      "cell_type": "code",
      "source": [
        "# Use functions from the imported packages to find the mean, median, and mode for the week_1 data.\n",
        "mean_temp = statistics.mean(week_1)\n",
        "median_temp = statistics.median(week_1)\n",
        "mode_temp = statistics.mode(week_1)"
      ],
      "metadata": {
        "id": "jGVv94O1Hj8n"
      },
      "execution_count": 4,
      "outputs": []
    },
    {
      "cell_type": "code",
      "source": [
        "#Defined function to return temps\n",
        "def central_tendency(temperatures):\n",
        "    mean_temp = statistics.mean(temperatures)\n",
        "    median_temp = statistics.median(temperatures)\n",
        "    mode_temp = statistics.mode(temperatures)\n",
        "\n",
        "    return mean_temp, median_temp, mode_temp"
      ],
      "metadata": {
        "id": "_mZcEG6WIDhI"
      },
      "execution_count": 5,
      "outputs": []
    },
    {
      "cell_type": "code",
      "source": [
        "#Display week 1 temps\n",
        "week_1 = [45, 55, 49, 60, 52, 55, 58]\n",
        "result = central_tendency(week_1)\n",
        "print(f\"Mean temperature: {result[0]}\")\n",
        "print(f\"Median temperature: {result[1]}\")\n",
        "print(f\"Mode temperature: {result[2]}\")\n"
      ],
      "metadata": {
        "colab": {
          "base_uri": "https://localhost:8080/"
        },
        "id": "Uz4q9XpWI5D7",
        "outputId": "9e12b1d4-a859-409f-ee2d-e34eb471d7a8"
      },
      "execution_count": 10,
      "outputs": [
        {
          "output_type": "stream",
          "name": "stdout",
          "text": [
            "Mean temperature: 53.42857142857143\n",
            "Median temperature: 55\n",
            "Mode temperature: 55\n"
          ]
        }
      ]
    },
    {
      "cell_type": "code",
      "source": [
        "#Modify the central_tendency function to include a keyword argument with the default set to verbose = True\n",
        "#Add conditional statements within the function so that if verbose = True, the function will\n",
        "def central_tendency(temperatures, verbose=True):\n",
        "    mean_temp = statistics.mean(temperatures)\n",
        "    median_temp = statistics.median(temperatures)\n",
        "    mode_temp = statistics.mode(temperatures)\n",
        "\n",
        "    if verbose:\n",
        "        print(f\"The mean is {mean_temp}.\")\n",
        "        print(f\"The median is {median_temp}.\")\n",
        "        print(f\"The mode is {mode_temp}.\")\n",
        "\n",
        "    return mean_temp, median_temp, mode_temp"
      ],
      "metadata": {
        "id": "RM8U6xCEKRRl"
      },
      "execution_count": 13,
      "outputs": []
    },
    {
      "cell_type": "code",
      "source": [
        "week_2 = [51, 49, 62, 50, 53, 56, 59]\n",
        "\n",
        "# Test with verbose=True (explicitly provided)\n",
        "result_verbose_true = central_tendency(week_2, verbose=True)\n",
        "print()\n",
        "\n",
        "# Test with no argument for verbose (test the default)\n",
        "result_default_verbose = central_tendency(week_2)\n",
        "print()\n",
        "\n",
        "# Test with verbose=False\n",
        "result_verbose_false = central_tendency(week_2, verbose=False)"
      ],
      "metadata": {
        "colab": {
          "base_uri": "https://localhost:8080/"
        },
        "id": "b0g2xRaJNB0l",
        "outputId": "a9b894bb-8b70-4601-a044-595571d107b8"
      },
      "execution_count": 15,
      "outputs": [
        {
          "output_type": "stream",
          "name": "stdout",
          "text": [
            "The mean is 54.285714285714285.\n",
            "The median is 53.\n",
            "The mode is 51.\n",
            "\n",
            "The mean is 54.285714285714285.\n",
            "The median is 53.\n",
            "The mode is 51.\n",
            "\n"
          ]
        }
      ]
    }
  ]
}