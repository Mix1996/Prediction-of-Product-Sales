{
  "nbformat": 4,
  "nbformat_minor": 0,
  "metadata": {
    "colab": {
      "provenance": [],
      "toc_visible": true
    },
    "kernelspec": {
      "name": "python3",
      "display_name": "Python 3"
    },
    "language_info": {
      "name": "python"
    }
  },
  "cells": [
    {
      "cell_type": "markdown",
      "source": [
        "# Task 1: Loop through a list"
      ],
      "metadata": {
        "id": "8opPSTPK-HMd"
      }
    },
    {
      "cell_type": "code",
      "source": [
        "# Create a list of products\n",
        "products = ['Shirts', 'Hats', 'Buttons', 'Stickers']\n",
        ""
      ],
      "metadata": {
        "id": "Z5qiv3De9XhM"
      },
      "execution_count": 14,
      "outputs": []
    },
    {
      "cell_type": "code",
      "source": [
        "# Write a for-loop to repeat the print statement for each product in the list.\n",
        "for product in products:\n",
        "    print(f\"We sell {product} here!\")"
      ],
      "metadata": {
        "colab": {
          "base_uri": "https://localhost:8080/"
        },
        "id": "5a_qV-3L-AXd",
        "outputId": "ef361972-6550-42c2-b837-9a9ebb1e94f1"
      },
      "execution_count": 15,
      "outputs": [
        {
          "output_type": "stream",
          "name": "stdout",
          "text": [
            "We sell Shirts here!\n",
            "We sell Hats here!\n",
            "We sell Buttons here!\n",
            "We sell Stickers here!\n"
          ]
        }
      ]
    },
    {
      "cell_type": "markdown",
      "source": [
        "# Task 2: Use a loop to append values to a new list"
      ],
      "metadata": {
        "id": "PrEj9N7M-0bI"
      }
    },
    {
      "cell_type": "code",
      "source": [
        "# Create a list of the prices.\n",
        "original_prices = [10, 15, 4, 1]"
      ],
      "metadata": {
        "id": "ceVTJ3yX_AhA"
      },
      "execution_count": 20,
      "outputs": []
    },
    {
      "cell_type": "code",
      "source": [
        "# Create an empty list called sale_prices\n",
        "sale_prices = []"
      ],
      "metadata": {
        "id": "ZGWCF2op-9Ai"
      },
      "execution_count": 21,
      "outputs": []
    },
    {
      "cell_type": "code",
      "source": [
        "# Use a loop to append the sale_prices list with the sale price (a 20% discount means the original price is multiplied by\n",
        "for price in original_prices:\n",
        "    sale_price = price * 0.8  # Applying a 20% discount\n",
        "    sale_prices.append(sale_price)\n"
      ],
      "metadata": {
        "id": "hdfWuM3P_zOn"
      },
      "execution_count": 24,
      "outputs": []
    },
    {
      "cell_type": "code",
      "source": [
        "# Print the list of sale_prices\n",
        "print(sale_prices)"
      ],
      "metadata": {
        "colab": {
          "base_uri": "https://localhost:8080/"
        },
        "id": "v4qGqyc_ABAm",
        "outputId": "d119b20c-b395-4a6e-ce9c-781f18579859"
      },
      "execution_count": 25,
      "outputs": [
        {
          "output_type": "stream",
          "name": "stdout",
          "text": [
            "[8.0, 12.0, 3.2, 0.8, 8.0, 12.0, 3.2, 0.8]\n"
          ]
        }
      ]
    },
    {
      "cell_type": "markdown",
      "source": [
        "# Task 3: Loop through a dictionary"
      ],
      "metadata": {
        "id": "yI0JDsOnBFwp"
      }
    },
    {
      "cell_type": "code",
      "source": [
        "# Run this cell to create a dictionary with product and price\n",
        "prices_dict = {'Shirts': 10,\n",
        "              'Hats': 15,\n",
        "              'Buttons' : 4,\n",
        "              'Stickers' : 1}\n",
        "\n",
        "prices_dict"
      ],
      "metadata": {
        "colab": {
          "base_uri": "https://localhost:8080/"
        },
        "id": "DXaqUyozBHsa",
        "outputId": "4246d3c9-1278-45f1-80f0-73cc1e35e0ca"
      },
      "execution_count": 26,
      "outputs": [
        {
          "output_type": "execute_result",
          "data": {
            "text/plain": [
              "{'Shirts': 10, 'Hats': 15, 'Buttons': 4, 'Stickers': 1}"
            ]
          },
          "metadata": {},
          "execution_count": 26
        }
      ]
    },
    {
      "cell_type": "code",
      "source": [
        "# Loop through the dictionary to print: \"We sell __!\"\n",
        "for product in prices_dict:\n",
        "      print(f\"We sell {product} here!\")"
      ],
      "metadata": {
        "colab": {
          "base_uri": "https://localhost:8080/"
        },
        "id": "1fA4mQcTBNlj",
        "outputId": "e151b160-c524-4139-d34e-fef6c191dbdc"
      },
      "execution_count": 30,
      "outputs": [
        {
          "output_type": "stream",
          "name": "stdout",
          "text": [
            "We sell Shirts here!\n",
            "We sell Hats here!\n",
            "We sell Buttons here!\n",
            "We sell Stickers here!\n"
          ]
        }
      ]
    },
    {
      "cell_type": "code",
      "source": [
        "# Loop through the dictionary to print: \"__ cost $__ each\"\n",
        "for product, price in prices_dict.items():\n",
        "    print(f\"{product} cost ${price} each\")"
      ],
      "metadata": {
        "colab": {
          "base_uri": "https://localhost:8080/"
        },
        "id": "m6sn0yMKBi7P",
        "outputId": "d3f059cc-18a8-4d1c-8c0e-a2bcae603054"
      },
      "execution_count": 31,
      "outputs": [
        {
          "output_type": "stream",
          "name": "stdout",
          "text": [
            "Shirts cost $10 each\n",
            "Hats cost $15 each\n",
            "Buttons cost $4 each\n",
            "Stickers cost $1 each\n"
          ]
        }
      ]
    },
    {
      "cell_type": "markdown",
      "source": [
        "# Task 4: Create a new dictionary by updating values using a for-loop"
      ],
      "metadata": {
        "id": "uZztaj7YC_OB"
      }
    },
    {
      "cell_type": "code",
      "source": [
        "# Use a loop to create a new dictionary with product and sales prices\n",
        "sales_dict = {}"
      ],
      "metadata": {
        "id": "oVKRVHr6DD2P"
      },
      "execution_count": 41,
      "outputs": []
    },
    {
      "cell_type": "code",
      "source": [
        "# Use a loop to create a new dictionary with product and sales prices\n",
        "for product, price in prices_dict.items():\n",
        "    sale_price = price * 0.8\n",
        "    sales_dict[product] = sale_price\n",
        "\n"
      ],
      "metadata": {
        "id": "acFljmBLDh86"
      },
      "execution_count": 42,
      "outputs": []
    },
    {
      "cell_type": "code",
      "source": [
        "# Print the sales_dict\n",
        "print(sales_dict)"
      ],
      "metadata": {
        "colab": {
          "base_uri": "https://localhost:8080/"
        },
        "id": "uWPp1OHcDxmN",
        "outputId": "f524e3c5-10cf-47e7-e8b2-005ab349a2d2"
      },
      "execution_count": 43,
      "outputs": [
        {
          "output_type": "stream",
          "name": "stdout",
          "text": [
            "{'Shirts': 8.0, 'Hats': 12.0, 'Buttons': 3.2, 'Stickers': 0.8}\n"
          ]
        }
      ]
    },
    {
      "cell_type": "code",
      "source": [
        "# Loop throuh the sale_dict to print \"PRODUCT are on sale for only SALE PRICE!\" for each item.\n",
        "for product, sale_price in sales_dict.items():\n",
        "    print(f\"{product} are on sale for only ${sale_price}!\")"
      ],
      "metadata": {
        "colab": {
          "base_uri": "https://localhost:8080/"
        },
        "id": "m8WBR720EbwV",
        "outputId": "655df7ab-729b-4e5a-d148-666fc1f624af"
      },
      "execution_count": 44,
      "outputs": [
        {
          "output_type": "stream",
          "name": "stdout",
          "text": [
            "Shirts are on sale for only $8.0!\n",
            "Hats are on sale for only $12.0!\n",
            "Buttons are on sale for only $3.2!\n",
            "Stickers are on sale for only $0.8!\n"
          ]
        }
      ]
    }
  ]
}